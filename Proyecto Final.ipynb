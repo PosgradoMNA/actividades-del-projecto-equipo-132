{
  "metadata": {
    "language_info": {
      "codemirror_mode": {
        "name": "python",
        "version": 3
      },
      "file_extension": ".py",
      "mimetype": "text/x-python",
      "name": "python",
      "nbconvert_exporter": "python",
      "pygments_lexer": "ipython3",
      "version": "3.8"
    },
    "kernelspec": {
      "name": "python",
      "display_name": "Python (Pyodide)",
      "language": "python"
    }
  },
  "nbformat_minor": 4,
  "nbformat": 4,
  "cells": [
    {
      "cell_type": "code",
      "source": "#INSTITUTO TECNOLOGICO Y DE ESTUDIOS SUPERIORES DE MONTERREY\n\n#Proyecto Final\n\n#Equipo 132\n\n    #Integrantes:\n    \n    #Luis Fernando Rios Piedra - \n    #David Eduardo Garcia Reyes - A01086411\n",
      "metadata": {
        "trusted": true
      },
      "execution_count": 4,
      "outputs": []
    },
    {
      "cell_type": "code",
      "source": "#Avance 1:\n\n#El nombre que caracteriza el conjunto de datos.\n    #Car Evaluation Data Set\n    \n#La organización que lo generó.\n    #Marco Bonahec\n\n#Incluya un enlace de Internet donde se puedan descargar el base de datos en línea\n    #https://archive.ics.uci.edu/ml/datasets/Car+Evaluation\n\n#Describe el conjunto de datos. ¿Qué datos contiene?\n    #Caracteristica del conjunto de datos: Multivariable\n    #Numero de instancias: 1728\n    #Numero de atributos: 6\n    \n    #Car acceptability\n        #Overall Price\n            #Buying Price\n            #Cost of Maintenance\n        #Technical Characteristics\n            #Comfort\n                #Number of doors\n                #Person capacity\n                #Size of luggage boot\n                #Safety of the car\n                \n    #La informacion se simplifico de manera de solo tener los 6 atributos principales\n            #Buying Price\n            #Cost of Maintenance\n            #Number of doors\n            #Person capacity\n            #Size of luggage boot\n            #Safety of the car\n\n#¿Cuáles son algunas de las preguntas de investigación que podría responder con estos datos? Enumere al menos OCHO (no responda las preguntas).\n    #1. ¿Cuál es el automovil mas vendido en base a sus caracteristicas?\n    #2. ¿Alguna de las caracteristicas del automovil predomina sobre otras al momento de la compra?\n    #3. ¿Es realmente el costo el atributo mas importante a la hora de comprar un automovil?\n    #4. ¿Alguna de las caracteristicas del automovil pudiera no ser relevante en la compra de un automovil?\n    #5. ¿Algunas de las caracteristicas tienen relación entre si, dependen una de otra? ¿y en caso de ser asi, que caracteristicas son?\n    #6. ¿La cantidad de datos en el conjunto es suficiente para llegar a una conclusion o se requiere de una muestra mas amplia de datos?\n    #7. ¿Que otras caracteristicas del automovil seria importante considerar agregar al conjunto de datos?\n    #8. ¿Donde se concentra mas la compra de automoviles?\n\n#¿Qué actor (empresa, sector de la sociedad, organismo descentralizado, gobierno, etc.) estaría interesado en las preguntas mencionadas que identificó?\n    #El sector de la población en busca de comprar un automovil para uso personal\n    #Empresas privadas que se dedican a la renta de automoviles\n    #Empresas privadas que adquieren automoviles para el uso dentro de la empresa, viajes de trabajo, asignacion a una persona, etc.\n    #Personas que se dedican a la compra y re venta de automoviles\n",
      "metadata": {
        "trusted": true
      },
      "execution_count": 5,
      "outputs": []
    },
    {
      "cell_type": "code",
      "source": "#Avance 2:\n\n#Se utilizara la metodologia CRISP-DM\n\n#1. Business Understanding - Entendiendo el negocio\n    #Se enfoca en entender los objetivos del proyecto y los requerimientos desde un punto de vista de negocios.\n    #Determinar los objetivos del negocio Determine business objectives\n    #Evaluar la situacion\n    #Determinar los objetivos para mineria de datos\n    #Realizar plan de proyecto\n    \n#2. Data Understanding - Entendiendo la informacion\n    #Empezar con la recoleccion de informacion inicial, el analista procede con las actividades para familizarse con los datos, identificar problemas de calidad de datos y\n    #descubrir los primeros analisis de la informacion.\n    \n#3. Data Preparation - Preparacion de la informacion\n    #Esta fase cubre todas las actividades para construir el conjunto de datos final desde la informacion inicial (cruda)\n    \n#4. Modeling - Modelado\n    #El analista evalua, selecciona y aplica las tecnicas apropiadas de modelado.\n    #Generar un diseño de prueba\n    #Construir el modelo\n    #Evaluar el modelo\n    \n#5. Evaluation - Evaluacion\n    #El analista construye y escoge los modelos que aparentan tener la mejor calidad basada en la perdida de funciones que fueron seleccionadas.\n    #Evaluar resultados\n    #Revisar el proceso\n    #Determinar los proximos pasos\n    \n#6. Deployment - Despliegue\n    #Generalmente esto significa desplegar la representacion de un codigo del modelo en un sistema operativo.\n    #Generar un reporte final\n    #Revisar el proyecto",
      "metadata": {
        "trusted": true
      },
      "execution_count": 7,
      "outputs": []
    },
    {
      "cell_type": "code",
      "source": "",
      "metadata": {},
      "execution_count": null,
      "outputs": []
    }
  ]
}