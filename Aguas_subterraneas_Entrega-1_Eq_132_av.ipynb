{
  "nbformat": 4,
  "nbformat_minor": 0,
  "metadata": {
    "colab": {
      "provenance": [],
      "authorship_tag": "ABX9TyPDmdVhhmLET+19UHCAEKzM",
      "include_colab_link": true
    },
    "kernelspec": {
      "name": "python3",
      "display_name": "Python 3"
    },
    "language_info": {
      "name": "python"
    }
  },
  "cells": [
    {
      "cell_type": "markdown",
      "metadata": {
        "id": "view-in-github",
        "colab_type": "text"
      },
      "source": [
        "<a href=\"https://colab.research.google.com/github/PosgradoMNA/actividades-del-proyecto-equipo-132/blob/main/Aguas_subterraneas_Entrega-1_Eq_132_av.ipynb\" target=\"_parent\"><img src=\"https://colab.research.google.com/assets/colab-badge.svg\" alt=\"Open In Colab\"/></a>"
      ]
    },
    {
      "cell_type": "code",
      "execution_count": 1,
      "metadata": {
        "id": "1hxpBJ4qgghe"
      },
      "outputs": [],
      "source": [
        "import pandas as pd\n",
        "import numpy as np\n",
        "import seaborn as sns\n",
        "import matplotlib.pyplot as plt\n",
        "\n",
        "import requests, zipfile\n",
        "from io import BytesIO"
      ]
    },
    {
      "cell_type": "code",
      "source": [
        "path = 'http://201.116.60.46/Datos_de_calidad_del_agua_de_5000_sitios_de_monitoreo.zip'\n",
        "base_datos = path.split('/')[-1]\n",
        "req_path = requests.get(path)\n",
        "\n",
        "Aguas_sub= zipfile.ZipFile(BytesIO(req_path.content))\n",
        "Aguas_sub.extractall('/content/sample_data/Aguas')\n",
        "df = pd.read_csv(\"/content/sample_data/Aguas/Datos_de_calidad_del_agua_2020/Datos_de_calidad_del_agua_de_sitios_de_monitoreo_de_aguas_subterraneas_2020.csv\",encoding=\"ISO-8859-1\")\n",
        "\n",
        "\n",
        "df.head(2)"
      ],
      "metadata": {
        "colab": {
          "base_uri": "https://localhost:8080/",
          "height": 275
        },
        "id": "L916UTOrgjXq",
        "outputId": "b7a29c53-7507-4d52-a30f-3d2962d6011d"
      },
      "execution_count": 2,
      "outputs": [
        {
          "output_type": "execute_result",
          "data": {
            "text/plain": [
              "       CLAVE                   SITIO      ORGANISMO_DE_CUENCA          ESTADO  \\\n",
              "0     DLAGU6            POZO SAN GIL  LERMA SANTIAGO PACIFICO  AGUASCALIENTES   \n",
              "1  DLAGU6516  POZO R013 CAÑADA HONDA  LERMA SANTIAGO PACIFICO  AGUASCALIENTES   \n",
              "\n",
              "        MUNICIPIO            ACUIFERO SUBTIPO   LONGITUD   LATITUD  PERIODO  \\\n",
              "0        ASIENTOS  VALLE DE CHICALOTE    POZO -102.02210  22.20887     2020   \n",
              "1  AGUASCALIENTES  VALLE DE CHICALOTE    POZO -102.20075  21.99958     2020   \n",
              "\n",
              "   ...  CUMPLE_CON_DUR CUMPLE_CON_CF  CUMPLE_CON_NO3 CUMPLE_CON_AS  \\\n",
              "0  ...              SI            SI              SI            SI   \n",
              "1  ...              SI            SI              SI            SI   \n",
              "\n",
              "   CUMPLE_CON_CD CUMPLE_CON_CR CUMPLE_CON_HG CUMPLE_CON_PB CUMPLE_CON_MN  \\\n",
              "0             SI            SI            SI            SI            SI   \n",
              "1             SI            SI            SI            SI            SI   \n",
              "\n",
              "  CUMPLE_CON_FE  \n",
              "0            SI  \n",
              "1            SI  \n",
              "\n",
              "[2 rows x 57 columns]"
            ],
            "text/html": [
              "\n",
              "  <div id=\"df-1eea83b5-9692-4f35-8f25-1f4733691627\">\n",
              "    <div class=\"colab-df-container\">\n",
              "      <div>\n",
              "<style scoped>\n",
              "    .dataframe tbody tr th:only-of-type {\n",
              "        vertical-align: middle;\n",
              "    }\n",
              "\n",
              "    .dataframe tbody tr th {\n",
              "        vertical-align: top;\n",
              "    }\n",
              "\n",
              "    .dataframe thead th {\n",
              "        text-align: right;\n",
              "    }\n",
              "</style>\n",
              "<table border=\"1\" class=\"dataframe\">\n",
              "  <thead>\n",
              "    <tr style=\"text-align: right;\">\n",
              "      <th></th>\n",
              "      <th>CLAVE</th>\n",
              "      <th>SITIO</th>\n",
              "      <th>ORGANISMO_DE_CUENCA</th>\n",
              "      <th>ESTADO</th>\n",
              "      <th>MUNICIPIO</th>\n",
              "      <th>ACUIFERO</th>\n",
              "      <th>SUBTIPO</th>\n",
              "      <th>LONGITUD</th>\n",
              "      <th>LATITUD</th>\n",
              "      <th>PERIODO</th>\n",
              "      <th>...</th>\n",
              "      <th>CUMPLE_CON_DUR</th>\n",
              "      <th>CUMPLE_CON_CF</th>\n",
              "      <th>CUMPLE_CON_NO3</th>\n",
              "      <th>CUMPLE_CON_AS</th>\n",
              "      <th>CUMPLE_CON_CD</th>\n",
              "      <th>CUMPLE_CON_CR</th>\n",
              "      <th>CUMPLE_CON_HG</th>\n",
              "      <th>CUMPLE_CON_PB</th>\n",
              "      <th>CUMPLE_CON_MN</th>\n",
              "      <th>CUMPLE_CON_FE</th>\n",
              "    </tr>\n",
              "  </thead>\n",
              "  <tbody>\n",
              "    <tr>\n",
              "      <th>0</th>\n",
              "      <td>DLAGU6</td>\n",
              "      <td>POZO SAN GIL</td>\n",
              "      <td>LERMA SANTIAGO PACIFICO</td>\n",
              "      <td>AGUASCALIENTES</td>\n",
              "      <td>ASIENTOS</td>\n",
              "      <td>VALLE DE CHICALOTE</td>\n",
              "      <td>POZO</td>\n",
              "      <td>-102.02210</td>\n",
              "      <td>22.20887</td>\n",
              "      <td>2020</td>\n",
              "      <td>...</td>\n",
              "      <td>SI</td>\n",
              "      <td>SI</td>\n",
              "      <td>SI</td>\n",
              "      <td>SI</td>\n",
              "      <td>SI</td>\n",
              "      <td>SI</td>\n",
              "      <td>SI</td>\n",
              "      <td>SI</td>\n",
              "      <td>SI</td>\n",
              "      <td>SI</td>\n",
              "    </tr>\n",
              "    <tr>\n",
              "      <th>1</th>\n",
              "      <td>DLAGU6516</td>\n",
              "      <td>POZO R013 CAÑADA HONDA</td>\n",
              "      <td>LERMA SANTIAGO PACIFICO</td>\n",
              "      <td>AGUASCALIENTES</td>\n",
              "      <td>AGUASCALIENTES</td>\n",
              "      <td>VALLE DE CHICALOTE</td>\n",
              "      <td>POZO</td>\n",
              "      <td>-102.20075</td>\n",
              "      <td>21.99958</td>\n",
              "      <td>2020</td>\n",
              "      <td>...</td>\n",
              "      <td>SI</td>\n",
              "      <td>SI</td>\n",
              "      <td>SI</td>\n",
              "      <td>SI</td>\n",
              "      <td>SI</td>\n",
              "      <td>SI</td>\n",
              "      <td>SI</td>\n",
              "      <td>SI</td>\n",
              "      <td>SI</td>\n",
              "      <td>SI</td>\n",
              "    </tr>\n",
              "  </tbody>\n",
              "</table>\n",
              "<p>2 rows × 57 columns</p>\n",
              "</div>\n",
              "      <button class=\"colab-df-convert\" onclick=\"convertToInteractive('df-1eea83b5-9692-4f35-8f25-1f4733691627')\"\n",
              "              title=\"Convert this dataframe to an interactive table.\"\n",
              "              style=\"display:none;\">\n",
              "        \n",
              "  <svg xmlns=\"http://www.w3.org/2000/svg\" height=\"24px\"viewBox=\"0 0 24 24\"\n",
              "       width=\"24px\">\n",
              "    <path d=\"M0 0h24v24H0V0z\" fill=\"none\"/>\n",
              "    <path d=\"M18.56 5.44l.94 2.06.94-2.06 2.06-.94-2.06-.94-.94-2.06-.94 2.06-2.06.94zm-11 1L8.5 8.5l.94-2.06 2.06-.94-2.06-.94L8.5 2.5l-.94 2.06-2.06.94zm10 10l.94 2.06.94-2.06 2.06-.94-2.06-.94-.94-2.06-.94 2.06-2.06.94z\"/><path d=\"M17.41 7.96l-1.37-1.37c-.4-.4-.92-.59-1.43-.59-.52 0-1.04.2-1.43.59L10.3 9.45l-7.72 7.72c-.78.78-.78 2.05 0 2.83L4 21.41c.39.39.9.59 1.41.59.51 0 1.02-.2 1.41-.59l7.78-7.78 2.81-2.81c.8-.78.8-2.07 0-2.86zM5.41 20L4 18.59l7.72-7.72 1.47 1.35L5.41 20z\"/>\n",
              "  </svg>\n",
              "      </button>\n",
              "      \n",
              "  <style>\n",
              "    .colab-df-container {\n",
              "      display:flex;\n",
              "      flex-wrap:wrap;\n",
              "      gap: 12px;\n",
              "    }\n",
              "\n",
              "    .colab-df-convert {\n",
              "      background-color: #E8F0FE;\n",
              "      border: none;\n",
              "      border-radius: 50%;\n",
              "      cursor: pointer;\n",
              "      display: none;\n",
              "      fill: #1967D2;\n",
              "      height: 32px;\n",
              "      padding: 0 0 0 0;\n",
              "      width: 32px;\n",
              "    }\n",
              "\n",
              "    .colab-df-convert:hover {\n",
              "      background-color: #E2EBFA;\n",
              "      box-shadow: 0px 1px 2px rgba(60, 64, 67, 0.3), 0px 1px 3px 1px rgba(60, 64, 67, 0.15);\n",
              "      fill: #174EA6;\n",
              "    }\n",
              "\n",
              "    [theme=dark] .colab-df-convert {\n",
              "      background-color: #3B4455;\n",
              "      fill: #D2E3FC;\n",
              "    }\n",
              "\n",
              "    [theme=dark] .colab-df-convert:hover {\n",
              "      background-color: #434B5C;\n",
              "      box-shadow: 0px 1px 3px 1px rgba(0, 0, 0, 0.15);\n",
              "      filter: drop-shadow(0px 1px 2px rgba(0, 0, 0, 0.3));\n",
              "      fill: #FFFFFF;\n",
              "    }\n",
              "  </style>\n",
              "\n",
              "      <script>\n",
              "        const buttonEl =\n",
              "          document.querySelector('#df-1eea83b5-9692-4f35-8f25-1f4733691627 button.colab-df-convert');\n",
              "        buttonEl.style.display =\n",
              "          google.colab.kernel.accessAllowed ? 'block' : 'none';\n",
              "\n",
              "        async function convertToInteractive(key) {\n",
              "          const element = document.querySelector('#df-1eea83b5-9692-4f35-8f25-1f4733691627');\n",
              "          const dataTable =\n",
              "            await google.colab.kernel.invokeFunction('convertToInteractive',\n",
              "                                                     [key], {});\n",
              "          if (!dataTable) return;\n",
              "\n",
              "          const docLinkHtml = 'Like what you see? Visit the ' +\n",
              "            '<a target=\"_blank\" href=https://colab.research.google.com/notebooks/data_table.ipynb>data table notebook</a>'\n",
              "            + ' to learn more about interactive tables.';\n",
              "          element.innerHTML = '';\n",
              "          dataTable['output_type'] = 'display_data';\n",
              "          await google.colab.output.renderOutput(dataTable, element);\n",
              "          const docLink = document.createElement('div');\n",
              "          docLink.innerHTML = docLinkHtml;\n",
              "          element.appendChild(docLink);\n",
              "        }\n",
              "      </script>\n",
              "    </div>\n",
              "  </div>\n",
              "  "
            ]
          },
          "metadata": {},
          "execution_count": 2
        }
      ]
    },
    {
      "cell_type": "code",
      "source": [
        "df.columns"
      ],
      "metadata": {
        "colab": {
          "base_uri": "https://localhost:8080/"
        },
        "id": "3ZZRZAkToX9Q",
        "outputId": "abd52c0b-f3e3-4844-c40b-f65421cccb49"
      },
      "execution_count": 3,
      "outputs": [
        {
          "output_type": "execute_result",
          "data": {
            "text/plain": [
              "Index(['CLAVE', 'SITIO', 'ORGANISMO_DE_CUENCA', 'ESTADO', 'MUNICIPIO',\n",
              "       'ACUIFERO', 'SUBTIPO', 'LONGITUD', 'LATITUD', 'PERIODO', 'ALC_mg/L',\n",
              "       'CALIDAD_ALC', 'CONDUCT_mS/cm', 'CALIDAD_CONDUC', 'SDT_mg/L',\n",
              "       'SDT_M_mg/L', 'CALIDAD_SDT_ra', 'CALIDAD_SDT_salin', 'FLUORUROS_mg/L',\n",
              "       'CALIDAD_FLUO', 'DUR_mg/L', 'CALIDAD_DUR', 'COLI_FEC_NMP/100_mL',\n",
              "       'CALIDAD_COLI_FEC', 'N_NO3_mg/L', 'CALIDAD_N_NO3', 'AS_TOT_mg/L',\n",
              "       'CALIDAD_AS', 'CD_TOT_mg/L', 'CALIDAD_CD', 'CR_TOT_mg/L', 'CALIDAD_CR',\n",
              "       'HG_TOT_mg/L', 'CALIDAD_HG', 'PB_TOT_mg/L', 'CALIDAD_PB', 'MN_TOT_mg/L',\n",
              "       'CALIDAD_MN', 'FE_TOT_mg/L', 'CALIDAD_FE', 'SEMAFORO', 'CONTAMINANTES',\n",
              "       'CUMPLE_CON_ALC', 'CUMPLE_CON_COND', 'CUMPLE_CON_SDT_ra',\n",
              "       'CUMPLE_CON_SDT_salin', 'CUMPLE_CON_FLUO', 'CUMPLE_CON_DUR',\n",
              "       'CUMPLE_CON_CF', 'CUMPLE_CON_NO3', 'CUMPLE_CON_AS', 'CUMPLE_CON_CD',\n",
              "       'CUMPLE_CON_CR', 'CUMPLE_CON_HG', 'CUMPLE_CON_PB', 'CUMPLE_CON_MN',\n",
              "       'CUMPLE_CON_FE'],\n",
              "      dtype='object')"
            ]
          },
          "metadata": {},
          "execution_count": 3
        }
      ]
    },
    {
      "cell_type": "code",
      "source": [
        "df.info()"
      ],
      "metadata": {
        "colab": {
          "base_uri": "https://localhost:8080/"
        },
        "id": "iJQuFXgdgzws",
        "outputId": "726263e9-82a7-4cd4-bc33-a23ebafa5fe5"
      },
      "execution_count": 4,
      "outputs": [
        {
          "output_type": "stream",
          "name": "stdout",
          "text": [
            "<class 'pandas.core.frame.DataFrame'>\n",
            "RangeIndex: 1068 entries, 0 to 1067\n",
            "Data columns (total 57 columns):\n",
            " #   Column                Non-Null Count  Dtype  \n",
            "---  ------                --------------  -----  \n",
            " 0   CLAVE                 1068 non-null   object \n",
            " 1   SITIO                 1068 non-null   object \n",
            " 2   ORGANISMO_DE_CUENCA   1068 non-null   object \n",
            " 3   ESTADO                1068 non-null   object \n",
            " 4   MUNICIPIO             1068 non-null   object \n",
            " 5   ACUIFERO              1068 non-null   object \n",
            " 6   SUBTIPO               1068 non-null   object \n",
            " 7   LONGITUD              1068 non-null   float64\n",
            " 8   LATITUD               1068 non-null   float64\n",
            " 9   PERIODO               1068 non-null   int64  \n",
            " 10  ALC_mg/L              1064 non-null   float64\n",
            " 11  CALIDAD_ALC           1064 non-null   object \n",
            " 12  CONDUCT_mS/cm         1062 non-null   float64\n",
            " 13  CALIDAD_CONDUC        1062 non-null   object \n",
            " 14  SDT_mg/L              0 non-null      float64\n",
            " 15  SDT_M_mg/L            1066 non-null   object \n",
            " 16  CALIDAD_SDT_ra        1066 non-null   object \n",
            " 17  CALIDAD_SDT_salin     1066 non-null   object \n",
            " 18  FLUORUROS_mg/L        1068 non-null   object \n",
            " 19  CALIDAD_FLUO          1068 non-null   object \n",
            " 20  DUR_mg/L              1067 non-null   object \n",
            " 21  CALIDAD_DUR           1067 non-null   object \n",
            " 22  COLI_FEC_NMP/100_mL   1068 non-null   object \n",
            " 23  CALIDAD_COLI_FEC      1068 non-null   object \n",
            " 24  N_NO3_mg/L            1067 non-null   object \n",
            " 25  CALIDAD_N_NO3         1067 non-null   object \n",
            " 26  AS_TOT_mg/L           1068 non-null   object \n",
            " 27  CALIDAD_AS            1068 non-null   object \n",
            " 28  CD_TOT_mg/L           1068 non-null   object \n",
            " 29  CALIDAD_CD            1068 non-null   object \n",
            " 30  CR_TOT_mg/L           1068 non-null   object \n",
            " 31  CALIDAD_CR            1068 non-null   object \n",
            " 32  HG_TOT_mg/L           1068 non-null   object \n",
            " 33  CALIDAD_HG            1068 non-null   object \n",
            " 34  PB_TOT_mg/L           1068 non-null   object \n",
            " 35  CALIDAD_PB            1068 non-null   object \n",
            " 36  MN_TOT_mg/L           1068 non-null   object \n",
            " 37  CALIDAD_MN            1068 non-null   object \n",
            " 38  FE_TOT_mg/L           1068 non-null   object \n",
            " 39  CALIDAD_FE            1068 non-null   object \n",
            " 40  SEMAFORO              1068 non-null   object \n",
            " 41  CONTAMINANTES         634 non-null    object \n",
            " 42  CUMPLE_CON_ALC        1068 non-null   object \n",
            " 43  CUMPLE_CON_COND       1068 non-null   object \n",
            " 44  CUMPLE_CON_SDT_ra     1068 non-null   object \n",
            " 45  CUMPLE_CON_SDT_salin  1068 non-null   object \n",
            " 46  CUMPLE_CON_FLUO       1068 non-null   object \n",
            " 47  CUMPLE_CON_DUR        1068 non-null   object \n",
            " 48  CUMPLE_CON_CF         1068 non-null   object \n",
            " 49  CUMPLE_CON_NO3        1068 non-null   object \n",
            " 50  CUMPLE_CON_AS         1068 non-null   object \n",
            " 51  CUMPLE_CON_CD         1068 non-null   object \n",
            " 52  CUMPLE_CON_CR         1068 non-null   object \n",
            " 53  CUMPLE_CON_HG         1068 non-null   object \n",
            " 54  CUMPLE_CON_PB         1068 non-null   object \n",
            " 55  CUMPLE_CON_MN         1068 non-null   object \n",
            " 56  CUMPLE_CON_FE         1068 non-null   object \n",
            "dtypes: float64(5), int64(1), object(51)\n",
            "memory usage: 475.7+ KB\n"
          ]
        }
      ]
    },
    {
      "cell_type": "code",
      "source": [
        "df.isnull().sum()"
      ],
      "metadata": {
        "colab": {
          "base_uri": "https://localhost:8080/"
        },
        "id": "cKJhPa2Pebdu",
        "outputId": "7c883f05-3123-4207-c464-e76747fa9d9d"
      },
      "execution_count": 5,
      "outputs": [
        {
          "output_type": "execute_result",
          "data": {
            "text/plain": [
              "CLAVE                      0\n",
              "SITIO                      0\n",
              "ORGANISMO_DE_CUENCA        0\n",
              "ESTADO                     0\n",
              "MUNICIPIO                  0\n",
              "ACUIFERO                   0\n",
              "SUBTIPO                    0\n",
              "LONGITUD                   0\n",
              "LATITUD                    0\n",
              "PERIODO                    0\n",
              "ALC_mg/L                   4\n",
              "CALIDAD_ALC                4\n",
              "CONDUCT_mS/cm              6\n",
              "CALIDAD_CONDUC             6\n",
              "SDT_mg/L                1068\n",
              "SDT_M_mg/L                 2\n",
              "CALIDAD_SDT_ra             2\n",
              "CALIDAD_SDT_salin          2\n",
              "FLUORUROS_mg/L             0\n",
              "CALIDAD_FLUO               0\n",
              "DUR_mg/L                   1\n",
              "CALIDAD_DUR                1\n",
              "COLI_FEC_NMP/100_mL        0\n",
              "CALIDAD_COLI_FEC           0\n",
              "N_NO3_mg/L                 1\n",
              "CALIDAD_N_NO3              1\n",
              "AS_TOT_mg/L                0\n",
              "CALIDAD_AS                 0\n",
              "CD_TOT_mg/L                0\n",
              "CALIDAD_CD                 0\n",
              "CR_TOT_mg/L                0\n",
              "CALIDAD_CR                 0\n",
              "HG_TOT_mg/L                0\n",
              "CALIDAD_HG                 0\n",
              "PB_TOT_mg/L                0\n",
              "CALIDAD_PB                 0\n",
              "MN_TOT_mg/L                0\n",
              "CALIDAD_MN                 0\n",
              "FE_TOT_mg/L                0\n",
              "CALIDAD_FE                 0\n",
              "SEMAFORO                   0\n",
              "CONTAMINANTES            434\n",
              "CUMPLE_CON_ALC             0\n",
              "CUMPLE_CON_COND            0\n",
              "CUMPLE_CON_SDT_ra          0\n",
              "CUMPLE_CON_SDT_salin       0\n",
              "CUMPLE_CON_FLUO            0\n",
              "CUMPLE_CON_DUR             0\n",
              "CUMPLE_CON_CF              0\n",
              "CUMPLE_CON_NO3             0\n",
              "CUMPLE_CON_AS              0\n",
              "CUMPLE_CON_CD              0\n",
              "CUMPLE_CON_CR              0\n",
              "CUMPLE_CON_HG              0\n",
              "CUMPLE_CON_PB              0\n",
              "CUMPLE_CON_MN              0\n",
              "CUMPLE_CON_FE              0\n",
              "dtype: int64"
            ]
          },
          "metadata": {},
          "execution_count": 5
        }
      ]
    },
    {
      "cell_type": "code",
      "source": [
        "df[df['ALC_mg/L'].isnull()].CUMPLE_CON_ALC"
      ],
      "metadata": {
        "colab": {
          "base_uri": "https://localhost:8080/"
        },
        "id": "Z5MbA_Nv9--g",
        "outputId": "f33b2c53-e0b8-4991-f54a-3f7b9adbe1de"
      },
      "execution_count": 6,
      "outputs": [
        {
          "output_type": "execute_result",
          "data": {
            "text/plain": [
              "406    ND\n",
              "407    ND\n",
              "722    ND\n",
              "861    ND\n",
              "Name: CUMPLE_CON_ALC, dtype: object"
            ]
          },
          "metadata": {},
          "execution_count": 6
        }
      ]
    },
    {
      "cell_type": "code",
      "source": [
        "df.dropna(subset=['ALC_mg/L'],inplace=True)"
      ],
      "metadata": {
        "id": "dQ89wsqi_ZCo"
      },
      "execution_count": 7,
      "outputs": []
    },
    {
      "cell_type": "code",
      "source": [
        "df[df['CONDUCT_mS/cm'].isnull()].CUMPLE_CON_COND "
      ],
      "metadata": {
        "colab": {
          "base_uri": "https://localhost:8080/"
        },
        "id": "tVJ4fgd1A7I3",
        "outputId": "a8d74f72-ffea-41ba-8f5b-62860d578929"
      },
      "execution_count": 8,
      "outputs": [
        {
          "output_type": "execute_result",
          "data": {
            "text/plain": [
              "18     ND\n",
              "281    ND\n",
              "293    ND\n",
              "616    ND\n",
              "891    ND\n",
              "906    ND\n",
              "Name: CUMPLE_CON_COND, dtype: object"
            ]
          },
          "metadata": {},
          "execution_count": 8
        }
      ]
    },
    {
      "cell_type": "code",
      "source": [
        "df.dropna(subset=['CONDUCT_mS/cm'],inplace=True)"
      ],
      "metadata": {
        "id": "2W2aLFMnDA_H"
      },
      "execution_count": 9,
      "outputs": []
    },
    {
      "cell_type": "code",
      "source": [
        "df[df['SDT_M_mg/L' ].isnull()].CUMPLE_CON_SDT_ra "
      ],
      "metadata": {
        "colab": {
          "base_uri": "https://localhost:8080/"
        },
        "id": "HhCLgXoFDNoX",
        "outputId": "2d56cd42-8c71-4f34-f762-8977ded11b7c"
      },
      "execution_count": 10,
      "outputs": [
        {
          "output_type": "execute_result",
          "data": {
            "text/plain": [
              "175    ND\n",
              "677    ND\n",
              "Name: CUMPLE_CON_SDT_ra, dtype: object"
            ]
          },
          "metadata": {},
          "execution_count": 10
        }
      ]
    },
    {
      "cell_type": "code",
      "source": [
        "df.dropna(subset=['SDT_M_mg/L'],inplace=True)"
      ],
      "metadata": {
        "id": "gYs6QgZfDWM_"
      },
      "execution_count": 11,
      "outputs": []
    },
    {
      "cell_type": "code",
      "source": [
        "df[df['DUR_mg/L'   ].isnull()].CUMPLE_CON_DUR"
      ],
      "metadata": {
        "colab": {
          "base_uri": "https://localhost:8080/"
        },
        "id": "NakjT9dQDn5m",
        "outputId": "d088ef49-931d-4563-e4c8-846ab5eac0cc"
      },
      "execution_count": 12,
      "outputs": [
        {
          "output_type": "execute_result",
          "data": {
            "text/plain": [
              "635    ND\n",
              "Name: CUMPLE_CON_DUR, dtype: object"
            ]
          },
          "metadata": {},
          "execution_count": 12
        }
      ]
    },
    {
      "cell_type": "code",
      "source": [
        "df.dropna(subset=['DUR_mg/L'],inplace=True)"
      ],
      "metadata": {
        "id": "5C8ZWgo_DwJ3"
      },
      "execution_count": 13,
      "outputs": []
    },
    {
      "cell_type": "code",
      "source": [
        "df[df['N_NO3_mg/L'   ].isnull()].CUMPLE_CON_NO3 "
      ],
      "metadata": {
        "colab": {
          "base_uri": "https://localhost:8080/"
        },
        "id": "ZdTd4A4RD13e",
        "outputId": "01419bd6-3db8-412f-fd04-786818dcdf35"
      },
      "execution_count": 14,
      "outputs": [
        {
          "output_type": "execute_result",
          "data": {
            "text/plain": [
              "234    ND\n",
              "Name: CUMPLE_CON_NO3, dtype: object"
            ]
          },
          "metadata": {},
          "execution_count": 14
        }
      ]
    },
    {
      "cell_type": "code",
      "source": [
        "df.dropna(subset=['N_NO3_mg/L'],inplace=True)"
      ],
      "metadata": {
        "id": "50MRE5PnEAKe"
      },
      "execution_count": 15,
      "outputs": []
    },
    {
      "cell_type": "code",
      "source": [
        "df[df['SDT_mg/L'].isnull()].CALIDAD_SDT_salin "
      ],
      "metadata": {
        "colab": {
          "base_uri": "https://localhost:8080/"
        },
        "id": "WNtjSszUEYd_",
        "outputId": "4cbf4dae-38ee-4f1c-fbfc-93d86d7fff97"
      },
      "execution_count": 16,
      "outputs": [
        {
          "output_type": "execute_result",
          "data": {
            "text/plain": [
              "0            Potable - Dulce\n",
              "1            Potable - Dulce\n",
              "2            Potable - Dulce\n",
              "3            Potable - Dulce\n",
              "4       Ligeramente salobres\n",
              "                ...         \n",
              "1063    Ligeramente salobres\n",
              "1064         Potable - Dulce\n",
              "1065    Ligeramente salobres\n",
              "1066         Potable - Dulce\n",
              "1067         Potable - Dulce\n",
              "Name: CALIDAD_SDT_salin, Length: 1054, dtype: object"
            ]
          },
          "metadata": {},
          "execution_count": 16
        }
      ]
    },
    {
      "cell_type": "code",
      "source": [
        "def SDT_val (SDT):\n",
        "  np.random.seed(101)\n",
        "  if SDT =='Potable - Dulce':\n",
        "    return np.random.randint(1,1001)\n",
        "  elif SDT=='Ligeramente salobres':\n",
        "    return np.random.randint(1001,2001)\n",
        "  elif SDT== 'Salobres':\n",
        "    return np.random.randint(2001,10001)\n",
        "  elif SDT== 'Salinas':\n",
        "    return np.random.randint(10001,30000)"
      ],
      "metadata": {
        "id": "LLZoeJenF9M-"
      },
      "execution_count": 17,
      "outputs": []
    },
    {
      "cell_type": "code",
      "source": [
        "def lim_inf (val_min):\n",
        "  np.random.seed(101)\n",
        "  if val_min =='<1.1':\n",
        "    return round(np.random.uniform(0,1.1),1)\n",
        "  elif val_min =='<0.2':\n",
        "    return round(np.random.uniform(0,0.2),1)\n",
        "  elif val_min =='<0.025':\n",
        "    return round(np.random.uniform(0,0.025),3)\n",
        "  elif val_min =='<0.02':\n",
        "    return round(np.random.uniform(0,0.02),2)\n",
        "  elif val_min =='<0.01':\n",
        "   return round(np.random.uniform(0,0.01),2)\n",
        "  elif val_min =='<0.005':\n",
        "   return round(np.random.uniform(0,0.005),3)\n",
        "  elif val_min =='<0.003':\n",
        "   return round(np.random.uniform(0,0.003),3)\n",
        "  elif val_min =='<0.0015':\n",
        "   return round(np.random.uniform(0,0.0015),4)\n",
        "  elif val_min =='<0.0005':\n",
        "   return round(np.random.uniform(0,0.0005),4)\n",
        "  elif val_min =='<20':\n",
        "   return round(np.random.uniform(0,20),1)\n",
        "  else:\n",
        "    return val_min\n"
      ],
      "metadata": {
        "id": "w6I27x2BQclJ"
      },
      "execution_count": 18,
      "outputs": []
    },
    {
      "cell_type": "code",
      "source": [
        "df['SDT_mg/L'] = df['CALIDAD_SDT_salin'].apply(SDT_val)"
      ],
      "metadata": {
        "id": "S2hYNFDZISh_"
      },
      "execution_count": 19,
      "outputs": []
    },
    {
      "cell_type": "code",
      "source": [
        "df['HG_TOT_mg/L'] = df['HG_TOT_mg/L'].apply(lim_inf)\n",
        "df['COLI_FEC_NMP/100_mL'] = df['COLI_FEC_NMP/100_mL'].apply(lim_inf)\n",
        "df['MN_TOT_mg/L'] = df['MN_TOT_mg/L'].apply(lim_inf)\n",
        "df['CD_TOT_mg/L'] = df['CD_TOT_mg/L'].apply(lim_inf)\n",
        "df['CR_TOT_mg/L'] = df['CR_TOT_mg/L'].apply(lim_inf)\n",
        "df['PB_TOT_mg/L'] = df['PB_TOT_mg/L'].apply(lim_inf)\n",
        "df['AS_TOT_mg/L'] = df['AS_TOT_mg/L'].apply(lim_inf)\n",
        "df['N_NO3_mg/L'] = df['N_NO3_mg/L'].apply(lim_inf)\n",
        "df['FE_TOT_mg/L'] = df['FE_TOT_mg/L'].apply(lim_inf)\n",
        "df['FLUORUROS_mg/L'] = df['FLUORUROS_mg/L'].apply(lim_inf)\n",
        "df['COLI_FEC_NMP/100_mL'] = df['COLI_FEC_NMP/100_mL'].apply(lim_inf)\n",
        "df['DUR_mg/L'] = df['DUR_mg/L'].apply(lim_inf)\n",
        "\n",
        "\n"
      ],
      "metadata": {
        "id": "HI8FlaqUSn9J"
      },
      "execution_count": 20,
      "outputs": []
    },
    {
      "cell_type": "code",
      "source": [
        "df['CONTAMINANTES'] = df['CONTAMINANTES'].fillna(\"Ninguno\")"
      ],
      "metadata": {
        "id": "eGillbj9Ll_j"
      },
      "execution_count": 21,
      "outputs": []
    },
    {
      "cell_type": "code",
      "source": [
        "df.isnull().sum()\n"
      ],
      "metadata": {
        "colab": {
          "base_uri": "https://localhost:8080/"
        },
        "id": "dBR1LfqXg2D4",
        "outputId": "e351edd1-b02e-487b-cfb1-1525b84970b6"
      },
      "execution_count": 22,
      "outputs": [
        {
          "output_type": "execute_result",
          "data": {
            "text/plain": [
              "CLAVE                   0\n",
              "SITIO                   0\n",
              "ORGANISMO_DE_CUENCA     0\n",
              "ESTADO                  0\n",
              "MUNICIPIO               0\n",
              "ACUIFERO                0\n",
              "SUBTIPO                 0\n",
              "LONGITUD                0\n",
              "LATITUD                 0\n",
              "PERIODO                 0\n",
              "ALC_mg/L                0\n",
              "CALIDAD_ALC             0\n",
              "CONDUCT_mS/cm           0\n",
              "CALIDAD_CONDUC          0\n",
              "SDT_mg/L                0\n",
              "SDT_M_mg/L              0\n",
              "CALIDAD_SDT_ra          0\n",
              "CALIDAD_SDT_salin       0\n",
              "FLUORUROS_mg/L          0\n",
              "CALIDAD_FLUO            0\n",
              "DUR_mg/L                0\n",
              "CALIDAD_DUR             0\n",
              "COLI_FEC_NMP/100_mL     0\n",
              "CALIDAD_COLI_FEC        0\n",
              "N_NO3_mg/L              0\n",
              "CALIDAD_N_NO3           0\n",
              "AS_TOT_mg/L             0\n",
              "CALIDAD_AS              0\n",
              "CD_TOT_mg/L             0\n",
              "CALIDAD_CD              0\n",
              "CR_TOT_mg/L             0\n",
              "CALIDAD_CR              0\n",
              "HG_TOT_mg/L             0\n",
              "CALIDAD_HG              0\n",
              "PB_TOT_mg/L             0\n",
              "CALIDAD_PB              0\n",
              "MN_TOT_mg/L             0\n",
              "CALIDAD_MN              0\n",
              "FE_TOT_mg/L             0\n",
              "CALIDAD_FE              0\n",
              "SEMAFORO                0\n",
              "CONTAMINANTES           0\n",
              "CUMPLE_CON_ALC          0\n",
              "CUMPLE_CON_COND         0\n",
              "CUMPLE_CON_SDT_ra       0\n",
              "CUMPLE_CON_SDT_salin    0\n",
              "CUMPLE_CON_FLUO         0\n",
              "CUMPLE_CON_DUR          0\n",
              "CUMPLE_CON_CF           0\n",
              "CUMPLE_CON_NO3          0\n",
              "CUMPLE_CON_AS           0\n",
              "CUMPLE_CON_CD           0\n",
              "CUMPLE_CON_CR           0\n",
              "CUMPLE_CON_HG           0\n",
              "CUMPLE_CON_PB           0\n",
              "CUMPLE_CON_MN           0\n",
              "CUMPLE_CON_FE           0\n",
              "dtype: int64"
            ]
          },
          "metadata": {},
          "execution_count": 22
        }
      ]
    },
    {
      "cell_type": "code",
      "source": [
        "df.select_dtypes(include='object').info()"
      ],
      "metadata": {
        "colab": {
          "base_uri": "https://localhost:8080/"
        },
        "id": "-hLKGUW6m7bM",
        "outputId": "b5c2d5cb-2c8a-494e-d2e9-5d3146b099f7"
      },
      "execution_count": 23,
      "outputs": [
        {
          "output_type": "stream",
          "name": "stdout",
          "text": [
            "<class 'pandas.core.frame.DataFrame'>\n",
            "Int64Index: 1054 entries, 0 to 1067\n",
            "Data columns (total 51 columns):\n",
            " #   Column                Non-Null Count  Dtype \n",
            "---  ------                --------------  ----- \n",
            " 0   CLAVE                 1054 non-null   object\n",
            " 1   SITIO                 1054 non-null   object\n",
            " 2   ORGANISMO_DE_CUENCA   1054 non-null   object\n",
            " 3   ESTADO                1054 non-null   object\n",
            " 4   MUNICIPIO             1054 non-null   object\n",
            " 5   ACUIFERO              1054 non-null   object\n",
            " 6   SUBTIPO               1054 non-null   object\n",
            " 7   CALIDAD_ALC           1054 non-null   object\n",
            " 8   CALIDAD_CONDUC        1054 non-null   object\n",
            " 9   SDT_M_mg/L            1054 non-null   object\n",
            " 10  CALIDAD_SDT_ra        1054 non-null   object\n",
            " 11  CALIDAD_SDT_salin     1054 non-null   object\n",
            " 12  FLUORUROS_mg/L        1054 non-null   object\n",
            " 13  CALIDAD_FLUO          1054 non-null   object\n",
            " 14  DUR_mg/L              1054 non-null   object\n",
            " 15  CALIDAD_DUR           1054 non-null   object\n",
            " 16  COLI_FEC_NMP/100_mL   1054 non-null   object\n",
            " 17  CALIDAD_COLI_FEC      1054 non-null   object\n",
            " 18  N_NO3_mg/L            1054 non-null   object\n",
            " 19  CALIDAD_N_NO3         1054 non-null   object\n",
            " 20  AS_TOT_mg/L           1054 non-null   object\n",
            " 21  CALIDAD_AS            1054 non-null   object\n",
            " 22  CD_TOT_mg/L           1054 non-null   object\n",
            " 23  CALIDAD_CD            1054 non-null   object\n",
            " 24  CR_TOT_mg/L           1054 non-null   object\n",
            " 25  CALIDAD_CR            1054 non-null   object\n",
            " 26  HG_TOT_mg/L           1054 non-null   object\n",
            " 27  CALIDAD_HG            1054 non-null   object\n",
            " 28  PB_TOT_mg/L           1054 non-null   object\n",
            " 29  CALIDAD_PB            1054 non-null   object\n",
            " 30  MN_TOT_mg/L           1054 non-null   object\n",
            " 31  CALIDAD_MN            1054 non-null   object\n",
            " 32  FE_TOT_mg/L           1054 non-null   object\n",
            " 33  CALIDAD_FE            1054 non-null   object\n",
            " 34  SEMAFORO              1054 non-null   object\n",
            " 35  CONTAMINANTES         1054 non-null   object\n",
            " 36  CUMPLE_CON_ALC        1054 non-null   object\n",
            " 37  CUMPLE_CON_COND       1054 non-null   object\n",
            " 38  CUMPLE_CON_SDT_ra     1054 non-null   object\n",
            " 39  CUMPLE_CON_SDT_salin  1054 non-null   object\n",
            " 40  CUMPLE_CON_FLUO       1054 non-null   object\n",
            " 41  CUMPLE_CON_DUR        1054 non-null   object\n",
            " 42  CUMPLE_CON_CF         1054 non-null   object\n",
            " 43  CUMPLE_CON_NO3        1054 non-null   object\n",
            " 44  CUMPLE_CON_AS         1054 non-null   object\n",
            " 45  CUMPLE_CON_CD         1054 non-null   object\n",
            " 46  CUMPLE_CON_CR         1054 non-null   object\n",
            " 47  CUMPLE_CON_HG         1054 non-null   object\n",
            " 48  CUMPLE_CON_PB         1054 non-null   object\n",
            " 49  CUMPLE_CON_MN         1054 non-null   object\n",
            " 50  CUMPLE_CON_FE         1054 non-null   object\n",
            "dtypes: object(51)\n",
            "memory usage: 428.2+ KB\n"
          ]
        }
      ]
    },
    {
      "cell_type": "code",
      "source": [
        "df[['AS_TOT_mg/L','N_NO3_mg/L','COLI_FEC_NMP/100_mL','FLUORUROS_mg/L','SDT_M_mg/L','CD_TOT_mg/L', 'CR_TOT_mg/L', 'HG_TOT_mg/L',\n",
        "        'PB_TOT_mg/L',  'MN_TOT_mg/L', \n",
        "       'FE_TOT_mg/L','DUR_mg/L']]=df[['AS_TOT_mg/L','N_NO3_mg/L','COLI_FEC_NMP/100_mL','FLUORUROS_mg/L','SDT_M_mg/L','CD_TOT_mg/L', 'CR_TOT_mg/L', 'HG_TOT_mg/L',\n",
        "        'PB_TOT_mg/L',  'MN_TOT_mg/L', \n",
        "       'FE_TOT_mg/L','DUR_mg/L']].astype('float64')"
      ],
      "metadata": {
        "id": "fgpzW5Lvlgvh"
      },
      "execution_count": 24,
      "outputs": []
    },
    {
      "cell_type": "code",
      "source": [
        "plt.figure(figsize=(6,6),dpi=150)\n",
        "sns.heatmap(df.select_dtypes(exclude='object').corr(),cmap='coolwarm');"
      ],
      "metadata": {
        "id": "c1gX21wCk1Je",
        "colab": {
          "base_uri": "https://localhost:8080/",
          "height": 993
        },
        "outputId": "48808ffe-8b88-4d3c-82e1-7a7e664b5b21"
      },
      "execution_count": 25,
      "outputs": [
        {
          "output_type": "display_data",
          "data": {
            "text/plain": [
              "<Figure size 900x900 with 2 Axes>"
            ],
            "image/png": "[encoded data removed]"
          },
          "metadata": {
            "needs_background": "light"
          }
        }
      ]
    },
    {
      "cell_type": "code",
      "source": [
        "plt.figure(figsize=(8,8),dpi=150)\n",
        "sns.boxenplot(data=df[['ALC_mg/L' ,'CONDUCT_mS/cm','AS_TOT_mg/L','N_NO3_mg/L','COLI_FEC_NMP/100_mL','FLUORUROS_mg/L','SDT_mg/L','SDT_M_mg/L','CD_TOT_mg/L', 'CR_TOT_mg/L', 'HG_TOT_mg/L',\n",
        "        'PB_TOT_mg/L',  'MN_TOT_mg/L', \n",
        "       'FE_TOT_mg/L','DUR_mg/L']])\n",
        "plt.xticks(rotation=90);"
      ],
      "metadata": {
        "colab": {
          "base_uri": "https://localhost:8080/",
          "height": 1000
        },
        "id": "Tn1na6IZtvgW",
        "outputId": "859414a8-86e0-48ed-8326-394468080e83"
      },
      "execution_count": 26,
      "outputs": [
        {
          "output_type": "display_data",
          "data": {
            "text/plain": [
              "<Figure size 1200x1200 with 1 Axes>"
            ],
            "image/png": "[encoded data removed]"
          },
          "metadata": {
            "needs_background": "light"
          }
        }
      ]
    },
    {
      "cell_type": "code",
      "source": [
        "long_lat=df[['LONGITUD','LATITUD','SITIO','ESTADO']]\n",
        "X= df[['ALC_mg/L' ,'CONDUCT_mS/cm','AS_TOT_mg/L','N_NO3_mg/L','COLI_FEC_NMP/100_mL','FLUORUROS_mg/L','SDT_mg/L','SDT_M_mg/L','CD_TOT_mg/L', 'CR_TOT_mg/L', 'HG_TOT_mg/L',\n",
        "        'PB_TOT_mg/L',  'MN_TOT_mg/L', \n",
        "       'FE_TOT_mg/L','DUR_mg/L','SEMAFORO' ]]"
      ],
      "metadata": {
        "id": "WsYj2alIE7H0"
      },
      "execution_count": 27,
      "outputs": []
    },
    {
      "cell_type": "code",
      "source": [
        "X = pd.get_dummies(X)\n",
        "X.head()"
      ],
      "metadata": {
        "colab": {
          "base_uri": "https://localhost:8080/",
          "height": 270
        },
        "id": "iapgAny2Gk-c",
        "outputId": "daa03b51-f35d-4027-cfb4-82d480ad663b"
      },
      "execution_count": 28,
      "outputs": [
        {
          "output_type": "execute_result",
          "data": {
            "text/plain": [
              "   ALC_mg/L  CONDUCT_mS/cm  AS_TOT_mg/L  N_NO3_mg/L  COLI_FEC_NMP/100_mL  \\\n",
              "0   229.990          940.0       0.0161    4.184656                  0.6   \n",
              "1   231.990          608.0       0.0134    5.750110                  0.6   \n",
              "2   204.920          532.0       0.0370    1.449803                  0.6   \n",
              "3   327.000          686.0       0.0154    1.258597                  0.6   \n",
              "4   309.885         1841.0       0.0100   15.672251                291.0   \n",
              "\n",
              "   FLUORUROS_mg/L  SDT_mg/L  SDT_M_mg/L  CD_TOT_mg/L  CR_TOT_mg/L  \\\n",
              "0          0.9766       864       603.6        0.002        0.003   \n",
              "1          0.9298       864       445.4        0.002        0.003   \n",
              "2          1.8045       864       342.0        0.002        0.003   \n",
              "3          1.1229       864       478.6        0.002        0.005   \n",
              "4          0.2343      1864      1179.0        0.002        0.003   \n",
              "\n",
              "   HG_TOT_mg/L  PB_TOT_mg/L  MN_TOT_mg/L  FE_TOT_mg/L  DUR_mg/L  \\\n",
              "0       0.0003        0.003       0.0008       0.0891  213.7320   \n",
              "1       0.0003        0.003       0.0008       0.0130  185.0514   \n",
              "2       0.0003        0.003       0.0008       0.0130  120.7190   \n",
              "3       0.0003        0.003       0.0008       0.0130  199.8790   \n",
              "4       0.0003        0.003       0.0008       0.0130  476.9872   \n",
              "\n",
              "   SEMAFORO_Amarillo  SEMAFORO_Rojo  SEMAFORO_Verde  \n",
              "0                  0              0               1  \n",
              "1                  0              0               1  \n",
              "2                  0              1               0  \n",
              "3                  0              0               1  \n",
              "4                  0              1               0  "
            ],
            "text/html": [
              "\n",
              "  <div id=\"df-1db780d1-9c9f-421a-a1e6-91833892c46e\">\n",
              "    <div class=\"colab-df-container\">\n",
              "      <div>\n",
              "<style scoped>\n",
              "    .dataframe tbody tr th:only-of-type {\n",
              "        vertical-align: middle;\n",
              "    }\n",
              "\n",
              "    .dataframe tbody tr th {\n",
              "        vertical-align: top;\n",
              "    }\n",
              "\n",
              "    .dataframe thead th {\n",
              "        text-align: right;\n",
              "    }\n",
              "</style>\n",
              "<table border=\"1\" class=\"dataframe\">\n",
              "  <thead>\n",
              "    <tr style=\"text-align: right;\">\n",
              "      <th></th>\n",
              "      <th>ALC_mg/L</th>\n",
              "      <th>CONDUCT_mS/cm</th>\n",
              "      <th>AS_TOT_mg/L</th>\n",
              "      <th>N_NO3_mg/L</th>\n",
              "      <th>COLI_FEC_NMP/100_mL</th>\n",
              "      <th>FLUORUROS_mg/L</th>\n",
              "      <th>SDT_mg/L</th>\n",
              "      <th>SDT_M_mg/L</th>\n",
              "      <th>CD_TOT_mg/L</th>\n",
              "      <th>CR_TOT_mg/L</th>\n",
              "      <th>HG_TOT_mg/L</th>\n",
              "      <th>PB_TOT_mg/L</th>\n",
              "      <th>MN_TOT_mg/L</th>\n",
              "      <th>FE_TOT_mg/L</th>\n",
              "      <th>DUR_mg/L</th>\n",
              "      <th>SEMAFORO_Amarillo</th>\n",
              "      <th>SEMAFORO_Rojo</th>\n",
              "      <th>SEMAFORO_Verde</th>\n",
              "    </tr>\n",
              "  </thead>\n",
              "  <tbody>\n",
              "    <tr>\n",
              "      <th>0</th>\n",
              "      <td>229.990</td>\n",
              "      <td>940.0</td>\n",
              "      <td>0.0161</td>\n",
              "      <td>4.184656</td>\n",
              "      <td>0.6</td>\n",
              "      <td>0.9766</td>\n",
              "      <td>864</td>\n",
              "      <td>603.6</td>\n",
              "      <td>0.002</td>\n",
              "      <td>0.003</td>\n",
              "      <td>0.0003</td>\n",
              "      <td>0.003</td>\n",
              "      <td>0.0008</td>\n",
              "      <td>0.0891</td>\n",
              "      <td>213.7320</td>\n",
              "      <td>0</td>\n",
              "      <td>0</td>\n",
              "      <td>1</td>\n",
              "    </tr>\n",
              "    <tr>\n",
              "      <th>1</th>\n",
              "      <td>231.990</td>\n",
              "      <td>608.0</td>\n",
              "      <td>0.0134</td>\n",
              "      <td>5.750110</td>\n",
              "      <td>0.6</td>\n",
              "      <td>0.9298</td>\n",
              "      <td>864</td>\n",
              "      <td>445.4</td>\n",
              "      <td>0.002</td>\n",
              "      <td>0.003</td>\n",
              "      <td>0.0003</td>\n",
              "      <td>0.003</td>\n",
              "      <td>0.0008</td>\n",
              "      <td>0.0130</td>\n",
              "      <td>185.0514</td>\n",
              "      <td>0</td>\n",
              "      <td>0</td>\n",
              "      <td>1</td>\n",
              "    </tr>\n",
              "    <tr>\n",
              "      <th>2</th>\n",
              "      <td>204.920</td>\n",
              "      <td>532.0</td>\n",
              "      <td>0.0370</td>\n",
              "      <td>1.449803</td>\n",
              "      <td>0.6</td>\n",
              "      <td>1.8045</td>\n",
              "      <td>864</td>\n",
              "      <td>342.0</td>\n",
              "      <td>0.002</td>\n",
              "      <td>0.003</td>\n",
              "      <td>0.0003</td>\n",
              "      <td>0.003</td>\n",
              "      <td>0.0008</td>\n",
              "      <td>0.0130</td>\n",
              "      <td>120.7190</td>\n",
              "      <td>0</td>\n",
              "      <td>1</td>\n",
              "      <td>0</td>\n",
              "    </tr>\n",
              "    <tr>\n",
              "      <th>3</th>\n",
              "      <td>327.000</td>\n",
              "      <td>686.0</td>\n",
              "      <td>0.0154</td>\n",
              "      <td>1.258597</td>\n",
              "      <td>0.6</td>\n",
              "      <td>1.1229</td>\n",
              "      <td>864</td>\n",
              "      <td>478.6</td>\n",
              "      <td>0.002</td>\n",
              "      <td>0.005</td>\n",
              "      <td>0.0003</td>\n",
              "      <td>0.003</td>\n",
              "      <td>0.0008</td>\n",
              "      <td>0.0130</td>\n",
              "      <td>199.8790</td>\n",
              "      <td>0</td>\n",
              "      <td>0</td>\n",
              "      <td>1</td>\n",
              "    </tr>\n",
              "    <tr>\n",
              "      <th>4</th>\n",
              "      <td>309.885</td>\n",
              "      <td>1841.0</td>\n",
              "      <td>0.0100</td>\n",
              "      <td>15.672251</td>\n",
              "      <td>291.0</td>\n",
              "      <td>0.2343</td>\n",
              "      <td>1864</td>\n",
              "      <td>1179.0</td>\n",
              "      <td>0.002</td>\n",
              "      <td>0.003</td>\n",
              "      <td>0.0003</td>\n",
              "      <td>0.003</td>\n",
              "      <td>0.0008</td>\n",
              "      <td>0.0130</td>\n",
              "      <td>476.9872</td>\n",
              "      <td>0</td>\n",
              "      <td>1</td>\n",
              "      <td>0</td>\n",
              "    </tr>\n",
              "  </tbody>\n",
              "</table>\n",
              "</div>\n",
              "      <button class=\"colab-df-convert\" onclick=\"convertToInteractive('df-1db780d1-9c9f-421a-a1e6-91833892c46e')\"\n",
              "              title=\"Convert this dataframe to an interactive table.\"\n",
              "              style=\"display:none;\">\n",
              "        \n",
              "  <svg xmlns=\"http://www.w3.org/2000/svg\" height=\"24px\"viewBox=\"0 0 24 24\"\n",
              "       width=\"24px\">\n",
              "    <path d=\"M0 0h24v24H0V0z\" fill=\"none\"/>\n",
              "    <path d=\"M18.56 5.44l.94 2.06.94-2.06 2.06-.94-2.06-.94-.94-2.06-.94 2.06-2.06.94zm-11 1L8.5 8.5l.94-2.06 2.06-.94-2.06-.94L8.5 2.5l-.94 2.06-2.06.94zm10 10l.94 2.06.94-2.06 2.06-.94-2.06-.94-.94-2.06-.94 2.06-2.06.94z\"/><path d=\"M17.41 7.96l-1.37-1.37c-.4-.4-.92-.59-1.43-.59-.52 0-1.04.2-1.43.59L10.3 9.45l-7.72 7.72c-.78.78-.78 2.05 0 2.83L4 21.41c.39.39.9.59 1.41.59.51 0 1.02-.2 1.41-.59l7.78-7.78 2.81-2.81c.8-.78.8-2.07 0-2.86zM5.41 20L4 18.59l7.72-7.72 1.47 1.35L5.41 20z\"/>\n",
              "  </svg>\n",
              "      </button>\n",
              "      \n",
              "  <style>\n",
              "    .colab-df-container {\n",
              "      display:flex;\n",
              "      flex-wrap:wrap;\n",
              "      gap: 12px;\n",
              "    }\n",
              "\n",
              "    .colab-df-convert {\n",
              "      background-color: #E8F0FE;\n",
              "      border: none;\n",
              "      border-radius: 50%;\n",
              "      cursor: pointer;\n",
              "      display: none;\n",
              "      fill: #1967D2;\n",
              "      height: 32px;\n",
              "      padding: 0 0 0 0;\n",
              "      width: 32px;\n",
              "    }\n",
              "\n",
              "    .colab-df-convert:hover {\n",
              "      background-color: #E2EBFA;\n",
              "      box-shadow: 0px 1px 2px rgba(60, 64, 67, 0.3), 0px 1px 3px 1px rgba(60, 64, 67, 0.15);\n",
              "      fill: #174EA6;\n",
              "    }\n",
              "\n",
              "    [theme=dark] .colab-df-convert {\n",
              "      background-color: #3B4455;\n",
              "      fill: #D2E3FC;\n",
              "    }\n",
              "\n",
              "    [theme=dark] .colab-df-convert:hover {\n",
              "      background-color: #434B5C;\n",
              "      box-shadow: 0px 1px 3px 1px rgba(0, 0, 0, 0.15);\n",
              "      filter: drop-shadow(0px 1px 2px rgba(0, 0, 0, 0.3));\n",
              "      fill: #FFFFFF;\n",
              "    }\n",
              "  </style>\n",
              "\n",
              "      <script>\n",
              "        const buttonEl =\n",
              "          document.querySelector('#df-1db780d1-9c9f-421a-a1e6-91833892c46e button.colab-df-convert');\n",
              "        buttonEl.style.display =\n",
              "          google.colab.kernel.accessAllowed ? 'block' : 'none';\n",
              "\n",
              "        async function convertToInteractive(key) {\n",
              "          const element = document.querySelector('#df-1db780d1-9c9f-421a-a1e6-91833892c46e');\n",
              "          const dataTable =\n",
              "            await google.colab.kernel.invokeFunction('convertToInteractive',\n",
              "                                                     [key], {});\n",
              "          if (!dataTable) return;\n",
              "\n",
              "          const docLinkHtml = 'Like what you see? Visit the ' +\n",
              "            '<a target=\"_blank\" href=https://colab.research.google.com/notebooks/data_table.ipynb>data table notebook</a>'\n",
              "            + ' to learn more about interactive tables.';\n",
              "          element.innerHTML = '';\n",
              "          dataTable['output_type'] = 'display_data';\n",
              "          await google.colab.output.renderOutput(dataTable, element);\n",
              "          const docLink = document.createElement('div');\n",
              "          docLink.innerHTML = docLinkHtml;\n",
              "          element.appendChild(docLink);\n",
              "        }\n",
              "      </script>\n",
              "    </div>\n",
              "  </div>\n",
              "  "
            ]
          },
          "metadata": {},
          "execution_count": 28
        }
      ]
    },
    {
      "cell_type": "code",
      "source": [
        "from sklearn.preprocessing import StandardScaler\n",
        "scaler = StandardScaler()\n",
        "scaled_X = scaler.fit_transform(X)"
      ],
      "metadata": {
        "id": "UkXa1wYkGtJ8"
      },
      "execution_count": 29,
      "outputs": []
    },
    {
      "cell_type": "code",
      "source": [
        "from sklearn.cluster import KMeans\n",
        "ssd = []\n",
        "\n",
        "for k in range(2,30):\n",
        "    \n",
        "    model = KMeans(n_clusters=k)\n",
        "    \n",
        "    \n",
        "    model.fit(scaled_X)\n",
        "    \n",
        "    #Sum of squared distances of samples to their closest cluster center.\n",
        "    ssd.append(model.inertia_)\n",
        "\n",
        "plt.plot(range(2,30),ssd,'o--')\n",
        "plt.xlabel(\"K Value\")\n",
        "plt.ylabel(\" Sum of Squared Distances\");"
      ],
      "metadata": {
        "colab": {
          "base_uri": "https://localhost:8080/",
          "height": 279
        },
        "id": "8Ihw2t1dEvCs",
        "outputId": "ea677855-7660-4d64-c39d-b6614d412712"
      },
      "execution_count": 30,
      "outputs": [
        {
          "output_type": "display_data",
          "data": {
            "text/plain": [
              "<Figure size 432x288 with 1 Axes>"
            ],
            "image/png": "[encoded data removed]"
          },
          "metadata": {
            "needs_background": "light"
          }
        }
      ]
    },
    {
      "cell_type": "code",
      "source": [
        "pd.Series(ssd).diff().plot(kind='bar');"
      ],
      "metadata": {
        "colab": {
          "base_uri": "https://localhost:8080/",
          "height": 272
        },
        "id": "wbKwqlU2EvAN",
        "outputId": "28be682b-79f4-4fec-b80a-871749b1597c"
      },
      "execution_count": 31,
      "outputs": [
        {
          "output_type": "display_data",
          "data": {
            "text/plain": [
              "<Figure size 432x288 with 1 Axes>"
            ],
            "image/png": "[encoded data removed]"
          },
          "metadata": {
            "needs_background": "light"
          }
        }
      ]
    },
    {
      "cell_type": "code",
      "source": [
        "model = KMeans(n_clusters=3)\n",
        "model.fit(scaled_X)"
      ],
      "metadata": {
        "colab": {
          "base_uri": "https://localhost:8080/"
        },
        "id": "K7fI-ILFEu9d",
        "outputId": "a787163d-30b1-460e-a887-b858e899204b"
      },
      "execution_count": 32,
      "outputs": [
        {
          "output_type": "execute_result",
          "data": {
            "text/plain": [
              "KMeans(n_clusters=3)"
            ]
          },
          "metadata": {},
          "execution_count": 32
        }
      ]
    },
    {
      "cell_type": "code",
      "source": [
        "X['K=3 Clusters'] = model.labels_"
      ],
      "metadata": {
        "id": "fR63T42EEu2N"
      },
      "execution_count": 33,
      "outputs": []
    },
    {
      "cell_type": "code",
      "source": [
        "X.corr()['K=3 Clusters'].sort_values()"
      ],
      "metadata": {
        "colab": {
          "base_uri": "https://localhost:8080/"
        },
        "id": "WJotFwa0HSkU",
        "outputId": "4518e647-0ac6-4bea-9048-b1ee0de6a7c5"
      },
      "execution_count": 34,
      "outputs": [
        {
          "output_type": "execute_result",
          "data": {
            "text/plain": [
              "SEMAFORO_Rojo         -0.621104\n",
              "SEMAFORO_Amarillo     -0.454810\n",
              "DUR_mg/L              -0.306333\n",
              "CONDUCT_mS/cm         -0.304529\n",
              "SDT_mg/L              -0.247592\n",
              "FLUORUROS_mg/L        -0.243582\n",
              "ALC_mg/L              -0.239610\n",
              "AS_TOT_mg/L           -0.210219\n",
              "N_NO3_mg/L            -0.163960\n",
              "COLI_FEC_NMP/100_mL   -0.132692\n",
              "SDT_M_mg/L            -0.130251\n",
              "MN_TOT_mg/L           -0.122409\n",
              "PB_TOT_mg/L           -0.058022\n",
              "CR_TOT_mg/L           -0.031457\n",
              "CD_TOT_mg/L           -0.028315\n",
              "FE_TOT_mg/L           -0.020080\n",
              "HG_TOT_mg/L            0.005843\n",
              "SEMAFORO_Verde         0.999508\n",
              "K=3 Clusters           1.000000\n",
              "Name: K=3 Clusters, dtype: float64"
            ]
          },
          "metadata": {},
          "execution_count": 34
        }
      ]
    },
    {
      "cell_type": "code",
      "source": [
        "import plotly.express as px"
      ],
      "metadata": {
        "id": "Dxr1nVVK98CI"
      },
      "execution_count": 35,
      "outputs": []
    },
    {
      "cell_type": "code",
      "source": [
        "df_clus_loc=pd.concat([long_lat,X,],axis=1)\n"
      ],
      "metadata": {
        "id": "hZO5x063HdB2"
      },
      "execution_count": 36,
      "outputs": []
    },
    {
      "cell_type": "code",
      "source": [
        "df_clus_loc"
      ],
      "metadata": {
        "colab": {
          "base_uri": "https://localhost:8080/",
          "height": 782
        },
        "id": "3kKKlDHOP1kb",
        "outputId": "ded4385b-bde3-4b7f-f6c4-9767c7f48eb2"
      },
      "execution_count": 37,
      "outputs": [
        {
          "output_type": "execute_result",
          "data": {
            "text/plain": [
              "       LONGITUD   LATITUD                                     SITIO  \\\n",
              "0    -102.02210  22.20887                              POZO SAN GIL   \n",
              "1    -102.20075  21.99958                    POZO R013 CAÑADA HONDA   \n",
              "2    -102.28801  22.36685                                POZO COSIO   \n",
              "3    -102.29449  22.18435                        POZO EL SALITRILLO   \n",
              "4    -110.24480  23.45138                        RANCHO EL TECOLOTE   \n",
              "...         ...       ...                                       ...   \n",
              "1063  -99.54191  24.76036              L-310 (COMUNIDAD SAN MANUEL)   \n",
              "1064  -99.70099  24.78280  L-305 (EJIDO OJO DE AGUA LAS CRUCESITAS)   \n",
              "1065  -99.82249  25.55197                HACIENDA MEXIQUITO POZO 01   \n",
              "1066 -100.32683  24.80118                     COMUNIDAD LOS POCITOS   \n",
              "1067 -100.73302  25.09380                      COMUNIDAD LA REFORMA   \n",
              "\n",
              "                   ESTADO  ALC_mg/L  CONDUCT_mS/cm  AS_TOT_mg/L  N_NO3_mg/L  \\\n",
              "0          AGUASCALIENTES   229.990          940.0       0.0161    4.184656   \n",
              "1          AGUASCALIENTES   231.990          608.0       0.0134    5.750110   \n",
              "2          AGUASCALIENTES   204.920          532.0       0.0370    1.449803   \n",
              "3          AGUASCALIENTES   327.000          686.0       0.0154    1.258597   \n",
              "4     BAJA CALIFORNIA SUR   309.885         1841.0       0.0100   15.672251   \n",
              "...                   ...       ...            ...          ...         ...   \n",
              "1063           NUEVO LEON   231.045         2350.0       0.0100   14.615488   \n",
              "1064           NUEVO LEON   256.000          529.0       0.0100   77.392000   \n",
              "1065           NUEVO LEON   330.690         2600.0       0.0100   36.477104   \n",
              "1066           NUEVO LEON   193.140          873.0       0.0100    0.010000   \n",
              "1067           NUEVO LEON   263.070          817.0       0.0100    0.811876   \n",
              "\n",
              "      COLI_FEC_NMP/100_mL  FLUORUROS_mg/L  ...  CR_TOT_mg/L  HG_TOT_mg/L  \\\n",
              "0                     0.6          0.9766  ...        0.003       0.0003   \n",
              "1                     0.6          0.9298  ...        0.003       0.0003   \n",
              "2                     0.6          1.8045  ...        0.003       0.0003   \n",
              "3                     0.6          1.1229  ...        0.005       0.0003   \n",
              "4                   291.0          0.2343  ...        0.003       0.0003   \n",
              "...                   ...             ...  ...          ...          ...   \n",
              "1063                  0.6          0.1000  ...        0.003       0.0003   \n",
              "1064                  0.6          0.1000  ...        0.003       0.0003   \n",
              "1065                620.0          0.7574  ...        0.003       0.0003   \n",
              "1066                  0.6          0.7108  ...        0.003       0.0003   \n",
              "1067                  0.6          0.4002  ...        0.003       0.0003   \n",
              "\n",
              "      PB_TOT_mg/L  MN_TOT_mg/L  FE_TOT_mg/L  DUR_mg/L  SEMAFORO_Amarillo  \\\n",
              "0           0.003      0.00080      0.08910  213.7320                  0   \n",
              "1           0.003      0.00080      0.01300  185.0514                  0   \n",
              "2           0.003      0.00080      0.01300  120.7190                  0   \n",
              "3           0.003      0.00080      0.01300  199.8790                  0   \n",
              "4           0.003      0.00080      0.01300  476.9872                  0   \n",
              "...           ...          ...          ...       ...                ...   \n",
              "1063        0.003      0.00080      0.01300  752.0960                  0   \n",
              "1064        0.003      0.00709      0.07578  273.0000                  0   \n",
              "1065        0.003      0.02420      0.21290  660.2126                  0   \n",
              "1066        0.003      0.01200      0.17860  406.3680                  0   \n",
              "1067        0.003      0.00080      0.01300  362.5440                  0   \n",
              "\n",
              "      SEMAFORO_Rojo  SEMAFORO_Verde  K=3 Clusters  \n",
              "0                 0               1             2  \n",
              "1                 0               1             2  \n",
              "2                 1               0             0  \n",
              "3                 0               1             2  \n",
              "4                 1               0             0  \n",
              "...             ...             ...           ...  \n",
              "1063              1               0             0  \n",
              "1064              1               0             0  \n",
              "1065              1               0             0  \n",
              "1066              0               1             2  \n",
              "1067              0               1             2  \n",
              "\n",
              "[1054 rows x 23 columns]"
            ],
            "text/html": [
              "\n",
              "  <div id=\"df-5f7acd77-21ea-404b-bbef-c0f520b4cfd2\">\n",
              "    <div class=\"colab-df-container\">\n",
              "      <div>\n",
              "<style scoped>\n",
              "    .dataframe tbody tr th:only-of-type {\n",
              "        vertical-align: middle;\n",
              "    }\n",
              "\n",
              "    .dataframe tbody tr th {\n",
              "        vertical-align: top;\n",
              "    }\n",
              "\n",
              "    .dataframe thead th {\n",
              "        text-align: right;\n",
              "    }\n",
              "</style>\n",
              "<table border=\"1\" class=\"dataframe\">\n",
              "  <thead>\n",
              "    <tr style=\"text-align: right;\">\n",
              "      <th></th>\n",
              "      <th>LONGITUD</th>\n",
              "      <th>LATITUD</th>\n",
              "      <th>SITIO</th>\n",
              "      <th>ESTADO</th>\n",
              "      <th>ALC_mg/L</th>\n",
              "      <th>CONDUCT_mS/cm</th>\n",
              "      <th>AS_TOT_mg/L</th>\n",
              "      <th>N_NO3_mg/L</th>\n",
              "      <th>COLI_FEC_NMP/100_mL</th>\n",
              "      <th>FLUORUROS_mg/L</th>\n",
              "      <th>...</th>\n",
              "      <th>CR_TOT_mg/L</th>\n",
              "      <th>HG_TOT_mg/L</th>\n",
              "      <th>PB_TOT_mg/L</th>\n",
              "      <th>MN_TOT_mg/L</th>\n",
              "      <th>FE_TOT_mg/L</th>\n",
              "      <th>DUR_mg/L</th>\n",
              "      <th>SEMAFORO_Amarillo</th>\n",
              "      <th>SEMAFORO_Rojo</th>\n",
              "      <th>SEMAFORO_Verde</th>\n",
              "      <th>K=3 Clusters</th>\n",
              "    </tr>\n",
              "  </thead>\n",
              "  <tbody>\n",
              "    <tr>\n",
              "      <th>0</th>\n",
              "      <td>-102.02210</td>\n",
              "      <td>22.20887</td>\n",
              "      <td>POZO SAN GIL</td>\n",
              "      <td>AGUASCALIENTES</td>\n",
              "      <td>229.990</td>\n",
              "      <td>940.0</td>\n",
              "      <td>0.0161</td>\n",
              "      <td>4.184656</td>\n",
              "      <td>0.6</td>\n",
              "      <td>0.9766</td>\n",
              "      <td>...</td>\n",
              "      <td>0.003</td>\n",
              "      <td>0.0003</td>\n",
              "      <td>0.003</td>\n",
              "      <td>0.00080</td>\n",
              "      <td>0.08910</td>\n",
              "      <td>213.7320</td>\n",
              "      <td>0</td>\n",
              "      <td>0</td>\n",
              "      <td>1</td>\n",
              "      <td>2</td>\n",
              "    </tr>\n",
              "    <tr>\n",
              "      <th>1</th>\n",
              "      <td>-102.20075</td>\n",
              "      <td>21.99958</td>\n",
              "      <td>POZO R013 CAÑADA HONDA</td>\n",
              "      <td>AGUASCALIENTES</td>\n",
              "      <td>231.990</td>\n",
              "      <td>608.0</td>\n",
              "      <td>0.0134</td>\n",
              "      <td>5.750110</td>\n",
              "      <td>0.6</td>\n",
              "      <td>0.9298</td>\n",
              "      <td>...</td>\n",
              "      <td>0.003</td>\n",
              "      <td>0.0003</td>\n",
              "      <td>0.003</td>\n",
              "      <td>0.00080</td>\n",
              "      <td>0.01300</td>\n",
              "      <td>185.0514</td>\n",
              "      <td>0</td>\n",
              "      <td>0</td>\n",
              "      <td>1</td>\n",
              "      <td>2</td>\n",
              "    </tr>\n",
              "    <tr>\n",
              "      <th>2</th>\n",
              "      <td>-102.28801</td>\n",
              "      <td>22.36685</td>\n",
              "      <td>POZO COSIO</td>\n",
              "      <td>AGUASCALIENTES</td>\n",
              "      <td>204.920</td>\n",
              "      <td>532.0</td>\n",
              "      <td>0.0370</td>\n",
              "      <td>1.449803</td>\n",
              "      <td>0.6</td>\n",
              "      <td>1.8045</td>\n",
              "      <td>...</td>\n",
              "      <td>0.003</td>\n",
              "      <td>0.0003</td>\n",
              "      <td>0.003</td>\n",
              "      <td>0.00080</td>\n",
              "      <td>0.01300</td>\n",
              "      <td>120.7190</td>\n",
              "      <td>0</td>\n",
              "      <td>1</td>\n",
              "      <td>0</td>\n",
              "      <td>0</td>\n",
              "    </tr>\n",
              "    <tr>\n",
              "      <th>3</th>\n",
              "      <td>-102.29449</td>\n",
              "      <td>22.18435</td>\n",
              "      <td>POZO EL SALITRILLO</td>\n",
              "      <td>AGUASCALIENTES</td>\n",
              "      <td>327.000</td>\n",
              "      <td>686.0</td>\n",
              "      <td>0.0154</td>\n",
              "      <td>1.258597</td>\n",
              "      <td>0.6</td>\n",
              "      <td>1.1229</td>\n",
              "      <td>...</td>\n",
              "      <td>0.005</td>\n",
              "      <td>0.0003</td>\n",
              "      <td>0.003</td>\n",
              "      <td>0.00080</td>\n",
              "      <td>0.01300</td>\n",
              "      <td>199.8790</td>\n",
              "      <td>0</td>\n",
              "      <td>0</td>\n",
              "      <td>1</td>\n",
              "      <td>2</td>\n",
              "    </tr>\n",
              "    <tr>\n",
              "      <th>4</th>\n",
              "      <td>-110.24480</td>\n",
              "      <td>23.45138</td>\n",
              "      <td>RANCHO EL TECOLOTE</td>\n",
              "      <td>BAJA CALIFORNIA SUR</td>\n",
              "      <td>309.885</td>\n",
              "      <td>1841.0</td>\n",
              "      <td>0.0100</td>\n",
              "      <td>15.672251</td>\n",
              "      <td>291.0</td>\n",
              "      <td>0.2343</td>\n",
              "      <td>...</td>\n",
              "      <td>0.003</td>\n",
              "      <td>0.0003</td>\n",
              "      <td>0.003</td>\n",
              "      <td>0.00080</td>\n",
              "      <td>0.01300</td>\n",
              "      <td>476.9872</td>\n",
              "      <td>0</td>\n",
              "      <td>1</td>\n",
              "      <td>0</td>\n",
              "      <td>0</td>\n",
              "    </tr>\n",
              "    <tr>\n",
              "      <th>...</th>\n",
              "      <td>...</td>\n",
              "      <td>...</td>\n",
              "      <td>...</td>\n",
              "      <td>...</td>\n",
              "      <td>...</td>\n",
              "      <td>...</td>\n",
              "      <td>...</td>\n",
              "      <td>...</td>\n",
              "      <td>...</td>\n",
              "      <td>...</td>\n",
              "      <td>...</td>\n",
              "      <td>...</td>\n",
              "      <td>...</td>\n",
              "      <td>...</td>\n",
              "      <td>...</td>\n",
              "      <td>...</td>\n",
              "      <td>...</td>\n",
              "      <td>...</td>\n",
              "      <td>...</td>\n",
              "      <td>...</td>\n",
              "      <td>...</td>\n",
              "    </tr>\n",
              "    <tr>\n",
              "      <th>1063</th>\n",
              "      <td>-99.54191</td>\n",
              "      <td>24.76036</td>\n",
              "      <td>L-310 (COMUNIDAD SAN MANUEL)</td>\n",
              "      <td>NUEVO LEON</td>\n",
              "      <td>231.045</td>\n",
              "      <td>2350.0</td>\n",
              "      <td>0.0100</td>\n",
              "      <td>14.615488</td>\n",
              "      <td>0.6</td>\n",
              "      <td>0.1000</td>\n",
              "      <td>...</td>\n",
              "      <td>0.003</td>\n",
              "      <td>0.0003</td>\n",
              "      <td>0.003</td>\n",
              "      <td>0.00080</td>\n",
              "      <td>0.01300</td>\n",
              "      <td>752.0960</td>\n",
              "      <td>0</td>\n",
              "      <td>1</td>\n",
              "      <td>0</td>\n",
              "      <td>0</td>\n",
              "    </tr>\n",
              "    <tr>\n",
              "      <th>1064</th>\n",
              "      <td>-99.70099</td>\n",
              "      <td>24.78280</td>\n",
              "      <td>L-305 (EJIDO OJO DE AGUA LAS CRUCESITAS)</td>\n",
              "      <td>NUEVO LEON</td>\n",
              "      <td>256.000</td>\n",
              "      <td>529.0</td>\n",
              "      <td>0.0100</td>\n",
              "      <td>77.392000</td>\n",
              "      <td>0.6</td>\n",
              "      <td>0.1000</td>\n",
              "      <td>...</td>\n",
              "      <td>0.003</td>\n",
              "      <td>0.0003</td>\n",
              "      <td>0.003</td>\n",
              "      <td>0.00709</td>\n",
              "      <td>0.07578</td>\n",
              "      <td>273.0000</td>\n",
              "      <td>0</td>\n",
              "      <td>1</td>\n",
              "      <td>0</td>\n",
              "      <td>0</td>\n",
              "    </tr>\n",
              "    <tr>\n",
              "      <th>1065</th>\n",
              "      <td>-99.82249</td>\n",
              "      <td>25.55197</td>\n",
              "      <td>HACIENDA MEXIQUITO POZO 01</td>\n",
              "      <td>NUEVO LEON</td>\n",
              "      <td>330.690</td>\n",
              "      <td>2600.0</td>\n",
              "      <td>0.0100</td>\n",
              "      <td>36.477104</td>\n",
              "      <td>620.0</td>\n",
              "      <td>0.7574</td>\n",
              "      <td>...</td>\n",
              "      <td>0.003</td>\n",
              "      <td>0.0003</td>\n",
              "      <td>0.003</td>\n",
              "      <td>0.02420</td>\n",
              "      <td>0.21290</td>\n",
              "      <td>660.2126</td>\n",
              "      <td>0</td>\n",
              "      <td>1</td>\n",
              "      <td>0</td>\n",
              "      <td>0</td>\n",
              "    </tr>\n",
              "    <tr>\n",
              "      <th>1066</th>\n",
              "      <td>-100.32683</td>\n",
              "      <td>24.80118</td>\n",
              "      <td>COMUNIDAD LOS POCITOS</td>\n",
              "      <td>NUEVO LEON</td>\n",
              "      <td>193.140</td>\n",
              "      <td>873.0</td>\n",
              "      <td>0.0100</td>\n",
              "      <td>0.010000</td>\n",
              "      <td>0.6</td>\n",
              "      <td>0.7108</td>\n",
              "      <td>...</td>\n",
              "      <td>0.003</td>\n",
              "      <td>0.0003</td>\n",
              "      <td>0.003</td>\n",
              "      <td>0.01200</td>\n",
              "      <td>0.17860</td>\n",
              "      <td>406.3680</td>\n",
              "      <td>0</td>\n",
              "      <td>0</td>\n",
              "      <td>1</td>\n",
              "      <td>2</td>\n",
              "    </tr>\n",
              "    <tr>\n",
              "      <th>1067</th>\n",
              "      <td>-100.73302</td>\n",
              "      <td>25.09380</td>\n",
              "      <td>COMUNIDAD LA REFORMA</td>\n",
              "      <td>NUEVO LEON</td>\n",
              "      <td>263.070</td>\n",
              "      <td>817.0</td>\n",
              "      <td>0.0100</td>\n",
              "      <td>0.811876</td>\n",
              "      <td>0.6</td>\n",
              "      <td>0.4002</td>\n",
              "      <td>...</td>\n",
              "      <td>0.003</td>\n",
              "      <td>0.0003</td>\n",
              "      <td>0.003</td>\n",
              "      <td>0.00080</td>\n",
              "      <td>0.01300</td>\n",
              "      <td>362.5440</td>\n",
              "      <td>0</td>\n",
              "      <td>0</td>\n",
              "      <td>1</td>\n",
              "      <td>2</td>\n",
              "    </tr>\n",
              "  </tbody>\n",
              "</table>\n",
              "<p>1054 rows × 23 columns</p>\n",
              "</div>\n",
              "      <button class=\"colab-df-convert\" onclick=\"convertToInteractive('df-5f7acd77-21ea-404b-bbef-c0f520b4cfd2')\"\n",
              "              title=\"Convert this dataframe to an interactive table.\"\n",
              "              style=\"display:none;\">\n",
              "        \n",
              "  <svg xmlns=\"http://www.w3.org/2000/svg\" height=\"24px\"viewBox=\"0 0 24 24\"\n",
              "       width=\"24px\">\n",
              "    <path d=\"M0 0h24v24H0V0z\" fill=\"none\"/>\n",
              "    <path d=\"M18.56 5.44l.94 2.06.94-2.06 2.06-.94-2.06-.94-.94-2.06-.94 2.06-2.06.94zm-11 1L8.5 8.5l.94-2.06 2.06-.94-2.06-.94L8.5 2.5l-.94 2.06-2.06.94zm10 10l.94 2.06.94-2.06 2.06-.94-2.06-.94-.94-2.06-.94 2.06-2.06.94z\"/><path d=\"M17.41 7.96l-1.37-1.37c-.4-.4-.92-.59-1.43-.59-.52 0-1.04.2-1.43.59L10.3 9.45l-7.72 7.72c-.78.78-.78 2.05 0 2.83L4 21.41c.39.39.9.59 1.41.59.51 0 1.02-.2 1.41-.59l7.78-7.78 2.81-2.81c.8-.78.8-2.07 0-2.86zM5.41 20L4 18.59l7.72-7.72 1.47 1.35L5.41 20z\"/>\n",
              "  </svg>\n",
              "      </button>\n",
              "      \n",
              "  <style>\n",
              "    .colab-df-container {\n",
              "      display:flex;\n",
              "      flex-wrap:wrap;\n",
              "      gap: 12px;\n",
              "    }\n",
              "\n",
              "    .colab-df-convert {\n",
              "      background-color: #E8F0FE;\n",
              "      border: none;\n",
              "      border-radius: 50%;\n",
              "      cursor: pointer;\n",
              "      display: none;\n",
              "      fill: #1967D2;\n",
              "      height: 32px;\n",
              "      padding: 0 0 0 0;\n",
              "      width: 32px;\n",
              "    }\n",
              "\n",
              "    .colab-df-convert:hover {\n",
              "      background-color: #E2EBFA;\n",
              "      box-shadow: 0px 1px 2px rgba(60, 64, 67, 0.3), 0px 1px 3px 1px rgba(60, 64, 67, 0.15);\n",
              "      fill: #174EA6;\n",
              "    }\n",
              "\n",
              "    [theme=dark] .colab-df-convert {\n",
              "      background-color: #3B4455;\n",
              "      fill: #D2E3FC;\n",
              "    }\n",
              "\n",
              "    [theme=dark] .colab-df-convert:hover {\n",
              "      background-color: #434B5C;\n",
              "      box-shadow: 0px 1px 3px 1px rgba(0, 0, 0, 0.15);\n",
              "      filter: drop-shadow(0px 1px 2px rgba(0, 0, 0, 0.3));\n",
              "      fill: #FFFFFF;\n",
              "    }\n",
              "  </style>\n",
              "\n",
              "      <script>\n",
              "        const buttonEl =\n",
              "          document.querySelector('#df-5f7acd77-21ea-404b-bbef-c0f520b4cfd2 button.colab-df-convert');\n",
              "        buttonEl.style.display =\n",
              "          google.colab.kernel.accessAllowed ? 'block' : 'none';\n",
              "\n",
              "        async function convertToInteractive(key) {\n",
              "          const element = document.querySelector('#df-5f7acd77-21ea-404b-bbef-c0f520b4cfd2');\n",
              "          const dataTable =\n",
              "            await google.colab.kernel.invokeFunction('convertToInteractive',\n",
              "                                                     [key], {});\n",
              "          if (!dataTable) return;\n",
              "\n",
              "          const docLinkHtml = 'Like what you see? Visit the ' +\n",
              "            '<a target=\"_blank\" href=https://colab.research.google.com/notebooks/data_table.ipynb>data table notebook</a>'\n",
              "            + ' to learn more about interactive tables.';\n",
              "          element.innerHTML = '';\n",
              "          dataTable['output_type'] = 'display_data';\n",
              "          await google.colab.output.renderOutput(dataTable, element);\n",
              "          const docLink = document.createElement('div');\n",
              "          docLink.innerHTML = docLinkHtml;\n",
              "          element.appendChild(docLink);\n",
              "        }\n",
              "      </script>\n",
              "    </div>\n",
              "  </div>\n",
              "  "
            ]
          },
          "metadata": {},
          "execution_count": 37
        }
      ]
    },
    {
      "cell_type": "code",
      "source": [
        "import plotly.express as px\n",
        "\n",
        "fig = px.scatter_mapbox(df_clus_loc, lat=\"LATITUD\", lon=\"LONGITUD\", hover_name=\"SITIO\", hover_data=['ESTADO','SEMAFORO_Amarillo',\t'SEMAFORO_Rojo',\t'SEMAFORO_Verde'],\n",
        "                        color='K=3 Clusters', zoom=3, height=300)\n",
        "fig.update_layout(mapbox_style=\"open-street-map\")\n",
        "fig.update_layout(margin={\"r\":0,\"t\":0,\"l\":0,\"b\":0})\n",
        "fig.show()"
      ],
      "metadata": {
        "colab": {
          "base_uri": "https://localhost:8080/",
          "height": 317
        },
        "id": "9Eqwjw6CEblu",
        "outputId": "1fbd92c3-8044-4d33-dca0-b6b18a4d9268"
      },
      "execution_count": 38,
      "outputs": [
        {
          "output_type": "display_data",
          "data": {
            "text/html": [
              "<html>\n",
              "<head><meta charset=\"utf-8\" /></head>\n",
              "<body>\n",
              "    <div>            <script src=\"https://cdnjs.cloudflare.com/ajax/libs/mathjax/2.7.5/MathJax.js?config=TeX-AMS-MML_SVG\"></script><script type=\"text/javascript\">if (window.MathJax) {MathJax.Hub.Config({SVG: {font: \"STIX-Web\"}});}</script>                <script type=\"text/javascript\">window.PlotlyConfig = {MathJaxConfig: 'local'};</script>\n",
              "        <script src=\"https://cdn.plot.ly/plotly-2.8.3.min.js\"></script>                <div id=\"89e4afe9-cd8f-4def-8574-6aec128fdc70\" class=\"plotly-graph-div\" style=\"height:300px; width:100%;\"></div>            <script type=\"text/javascript\">                                    window.PLOTLYENV=window.PLOTLYENV || {};                                    if (document.getElementById(\"89e4afe9-cd8f-4def-8574-6aec128fdc70\")) {                    Plotly.newPlot(                        \"89e4afe9-cd8f-4def-8574-6aec128fdc70\",                        [{\"customdata\":[[\"AGUASCALIENTES\",0,0,1],[\"AGUASCALIENTES\",0,0,1],[\"AGUASCALIENTES\",0,1,0],[\"AGUASCALIENTES\",0,0,1],[\"BAJA CALIFORNIA SUR\",0,1,0],[\"BAJA CALIFORNIA SUR\",0,1,0],[\"BAJA CALIFORNIA SUR\",0,0,1],[\"BAJA CALIFORNIA SUR\",0,1,0],[\"BAJA CALIFORNIA SUR\",0,0,1],[\"BAJA CALIFORNIA SUR\",0,1,0],[\"BAJA CALIFORNIA SUR\",0,0,1],[\"BAJA CALIFORNIA SUR\",0,0,1],[\"BAJA CALIFORNIA SUR\",0,1,0],[\"BAJA CALIFORNIA SUR\",0,1,0],[\"BAJA CALIFORNIA SUR\",0,1,0],[\"BAJA CALIFORNIA SUR\",0,0,1],[\"BAJA CALIFORNIA SUR\",0,0,1],[\"BAJA CALIFORNIA SUR\",1,0,0],[\"BAJA CALIFORNIA SUR\",0,0,1],[\"BAJA CALIFORNIA SUR\",0,1,0],[\"BAJA CALIFORNIA SUR\",1,0,0],[\"BAJA CALIFORNIA SUR\",0,0,1],[\"BAJA CALIFORNIA SUR\",0,1,0],[\"BAJA CALIFORNIA SUR\",1,0,0],[\"BAJA CALIFORNIA SUR\",0,0,1],[\"BAJA CALIFORNIA SUR\",0,0,1],[\"BAJA CALIFORNIA SUR\",0,0,1],[\"BAJA CALIFORNIA SUR\",0,1,0],[\"BAJA CALIFORNIA SUR\",0,1,0],[\"BAJA CALIFORNIA SUR\",0,0,1],[\"BAJA CALIFORNIA SUR\",0,1,0],[\"BAJA CALIFORNIA SUR\",0,0,1],[\"BAJA CALIFORNIA SUR\",0,1,0],[\"BAJA CALIFORNIA SUR\",0,0,1],[\"BAJA CALIFORNIA SUR\",0,0,1],[\"BAJA CALIFORNIA SUR\",0,1,0],[\"BAJA CALIFORNIA SUR\",1,0,0],[\"BAJA CALIFORNIA SUR\",1,0,0],[\"BAJA CALIFORNIA SUR\",1,0,0],[\"BAJA CALIFORNIA SUR\",0,0,1],[\"BAJA CALIFORNIA SUR\",0,0,1],[\"BAJA CALIFORNIA SUR\",0,0,1],[\"BAJA CALIFORNIA SUR\",0,0,1],[\"BAJA CALIFORNIA SUR\",0,1,0],[\"BAJA CALIFORNIA SUR\",1,0,0],[\"BAJA CALIFORNIA SUR\",0,1,0],[\"BAJA CALIFORNIA SUR\",0,1,0],[\"BAJA CALIFORNIA SUR\",0,0,1],[\"BAJA CALIFORNIA SUR\",0,1,0],[\"BAJA CALIFORNIA SUR\",0,0,1],[\"BAJA CALIFORNIA SUR\",0,0,1],[\"BAJA CALIFORNIA SUR\",0,1,0],[\"CAMPECHE\",1,0,0],[\"CAMPECHE\",1,0,0],[\"CAMPECHE\",1,0,0],[\"CAMPECHE\",0,0,1],[\"CAMPECHE\",1,0,0],[\"CAMPECHE\",1,0,0],[\"CAMPECHE\",1,0,0],[\"CAMPECHE\",0,0,1],[\"CAMPECHE\",0,0,1],[\"CAMPECHE\",0,1,0],[\"CAMPECHE\",1,0,0],[\"CAMPECHE\",0,1,0],[\"CAMPECHE\",1,0,0],[\"CAMPECHE\",1,0,0],[\"CAMPECHE\",1,0,0],[\"CAMPECHE\",1,0,0],[\"CAMPECHE\",1,0,0],[\"CAMPECHE\",0,0,1],[\"CAMPECHE\",0,1,0],[\"CAMPECHE\",0,0,1],[\"CAMPECHE\",0,0,1],[\"CAMPECHE\",1,0,0],[\"CAMPECHE\",0,1,0],[\"CAMPECHE\",0,1,0],[\"CAMPECHE\",1,0,0],[\"CHIHUAHUA\",0,0,1],[\"CHIHUAHUA\",0,1,0],[\"CHIHUAHUA\",1,0,0],[\"CHIHUAHUA\",0,0,1],[\"CHIHUAHUA\",0,1,0],[\"CHIHUAHUA\",0,1,0],[\"CHIHUAHUA\",0,1,0],[\"CHIHUAHUA\",1,0,0],[\"CHIHUAHUA\",0,0,1],[\"CHIHUAHUA\",0,0,1],[\"CHIHUAHUA\",0,1,0],[\"CHIHUAHUA\",0,0,1],[\"CHIHUAHUA\",1,0,0],[\"CHIHUAHUA\",0,1,0],[\"CHIHUAHUA\",0,1,0],[\"CHIHUAHUA\",0,1,0],[\"CHIHUAHUA\",0,1,0],[\"CHIHUAHUA\",0,0,1],[\"CHIHUAHUA\",1,0,0],[\"CHIHUAHUA\",0,1,0],[\"CHIHUAHUA\",0,1,0],[\"CHIHUAHUA\",0,1,0],[\"CHIHUAHUA\",0,1,0],[\"CHIHUAHUA\",0,0,1],[\"CHIHUAHUA\",1,0,0],[\"CHIHUAHUA\",0,1,0],[\"CHIHUAHUA\",0,1,0],[\"CHIHUAHUA\",0,1,0],[\"CHIHUAHUA\",0,1,0],[\"CHIHUAHUA\",0,1,0],[\"CHIHUAHUA\",0,0,1],[\"CHIHUAHUA\",0,1,0],[\"CHIHUAHUA\",0,1,0],[\"CHIHUAHUA\",0,1,0],[\"CHIHUAHUA\",0,1,0],[\"COAHUILA DE ZARAGOZA\",0,0,1],[\"COAHUILA DE ZARAGOZA\",0,1,0],[\"COAHUILA DE ZARAGOZA\",0,1,0],[\"COAHUILA DE ZARAGOZA\",0,1,0],[\"COAHUILA DE ZARAGOZA\",1,0,0],[\"COAHUILA DE ZARAGOZA\",0,0,1],[\"COAHUILA DE ZARAGOZA\",0,1,0],[\"COAHUILA DE ZARAGOZA\",1,0,0],[\"COAHUILA DE ZARAGOZA\",1,0,0],[\"COAHUILA DE ZARAGOZA\",0,0,1],[\"COAHUILA DE ZARAGOZA\",0,1,0],[\"COAHUILA DE ZARAGOZA\",0,1,0],[\"COAHUILA DE ZARAGOZA\",0,1,0],[\"COAHUILA DE ZARAGOZA\",0,1,0],[\"COAHUILA DE ZARAGOZA\",1,0,0],[\"COAHUILA DE ZARAGOZA\",0,1,0],[\"COAHUILA DE ZARAGOZA\",0,1,0],[\"COAHUILA DE ZARAGOZA\",1,0,0],[\"COAHUILA DE ZARAGOZA\",0,1,0],[\"COAHUILA DE ZARAGOZA\",1,0,0],[\"COAHUILA DE ZARAGOZA\",0,0,1],[\"COAHUILA DE ZARAGOZA\",1,0,0],[\"COAHUILA DE ZARAGOZA\",1,0,0],[\"COAHUILA DE ZARAGOZA\",1,0,0],[\"COAHUILA DE ZARAGOZA\",1,0,0],[\"COAHUILA DE ZARAGOZA\",1,0,0],[\"COAHUILA DE ZARAGOZA\",1,0,0],[\"COAHUILA DE ZARAGOZA\",1,0,0],[\"COAHUILA DE ZARAGOZA\",0,0,1],[\"COAHUILA DE ZARAGOZA\",0,1,0],[\"COAHUILA DE ZARAGOZA\",0,0,1],[\"COAHUILA DE ZARAGOZA\",0,0,1],[\"COAHUILA DE ZARAGOZA\",1,0,0],[\"COAHUILA DE ZARAGOZA\",0,1,0],[\"COAHUILA DE ZARAGOZA\",0,1,0],[\"COAHUILA DE ZARAGOZA\",1,0,0],[\"COAHUILA DE ZARAGOZA\",1,0,0],[\"COAHUILA DE ZARAGOZA\",1,0,0],[\"COAHUILA DE ZARAGOZA\",0,1,0],[\"COAHUILA DE ZARAGOZA\",1,0,0],[\"COLIMA\",0,1,0],[\"COLIMA\",0,1,0],[\"COLIMA\",1,0,0],[\"COLIMA\",0,0,1],[\"COLIMA\",0,1,0],[\"COLIMA\",1,0,0],[\"COLIMA\",0,1,0],[\"COLIMA\",1,0,0],[\"COLIMA\",0,1,0],[\"COLIMA\",0,1,0],[\"COLIMA\",0,0,1],[\"COLIMA\",1,0,0],[\"COLIMA\",0,0,1],[\"COLIMA\",0,1,0],[\"COLIMA\",1,0,0],[\"COLIMA\",0,0,1],[\"COLIMA\",0,0,1],[\"COLIMA\",0,1,0],[\"COLIMA\",0,0,1],[\"COLIMA\",0,1,0],[\"COLIMA\",0,1,0],[\"COLIMA\",0,0,1],[\"COLIMA\",0,0,1],[\"COLIMA\",0,1,0],[\"COLIMA\",0,1,0],[\"DURANGO\",0,1,0],[\"DURANGO\",0,1,0],[\"DURANGO\",0,1,0],[\"DURANGO\",0,1,0],[\"DURANGO\",0,1,0],[\"DURANGO\",0,1,0],[\"DURANGO\",0,1,0],[\"DURANGO\",0,1,0],[\"DURANGO\",1,0,0],[\"DURANGO\",0,0,1],[\"DURANGO\",0,1,0],[\"DURANGO\",0,1,0],[\"DURANGO\",0,0,1],[\"DURANGO\",0,1,0],[\"DURANGO\",0,0,1],[\"DURANGO\",0,0,1],[\"DURANGO\",0,0,1],[\"DURANGO\",0,1,0],[\"DURANGO\",0,0,1],[\"DURANGO\",0,1,0],[\"DURANGO\",0,0,1],[\"DURANGO\",0,0,1],[\"DURANGO\",0,1,0],[\"DURANGO\",0,0,1],[\"DURANGO\",0,0,1],[\"DURANGO\",0,1,0],[\"DURANGO\",0,1,0],[\"DURANGO\",0,1,0],[\"DURANGO\",0,1,0],[\"DURANGO\",0,1,0],[\"DURANGO\",0,1,0],[\"DURANGO\",0,1,0],[\"DURANGO\",0,1,0],[\"DURANGO\",0,1,0],[\"DURANGO\",0,1,0],[\"DURANGO\",0,1,0],[\"DURANGO\",0,1,0],[\"DURANGO\",0,1,0],[\"DURANGO\",0,0,1],[\"DURANGO\",0,1,0],[\"DURANGO\",0,1,0],[\"DURANGO\",0,0,1],[\"DURANGO\",0,1,0],[\"DURANGO\",0,1,0],[\"DURANGO\",0,1,0],[\"DURANGO\",0,1,0],[\"DURANGO\",0,1,0],[\"DURANGO\",0,1,0],[\"DURANGO\",0,1,0],[\"DURANGO\",0,0,1],[\"DURANGO\",0,0,1],[\"DURANGO\",0,0,1],[\"DURANGO\",0,1,0],[\"DURANGO\",0,0,1],[\"DURANGO\",0,1,0],[\"DURANGO\",0,1,0],[\"DURANGO\",0,0,1],[\"DURANGO\",0,1,0],[\"DURANGO\",0,1,0],[\"DURANGO\",0,1,0],[\"DURANGO\",0,1,0],[\"DURANGO\",0,1,0],[\"DURANGO\",0,1,0],[\"DURANGO\",0,1,0],[\"DURANGO\",0,1,0],[\"DURANGO\",0,1,0],[\"DURANGO\",0,1,0],[\"DURANGO\",0,0,1],[\"DURANGO\",1,0,0],[\"DURANGO\",0,0,1],[\"DURANGO\",0,1,0],[\"DURANGO\",0,1,0],[\"DURANGO\",0,1,0],[\"DURANGO\",0,0,1],[\"DURANGO\",0,1,0],[\"DURANGO\",0,1,0],[\"DURANGO\",0,1,0],[\"DURANGO\",0,0,1],[\"DURANGO\",0,1,0],[\"DURANGO\",0,0,1],[\"DURANGO\",0,0,1],[\"DURANGO\",0,1,0],[\"DURANGO\",0,1,0],[\"DURANGO\",0,1,0],[\"DURANGO\",0,1,0],[\"DURANGO\",0,1,0],[\"DURANGO\",1,0,0],[\"DURANGO\",0,0,1],[\"DURANGO\",0,1,0],[\"DURANGO\",0,0,1],[\"MEXICO\",0,0,1],[\"MEXICO\",0,0,1],[\"MEXICO\",0,0,1],[\"MEXICO\",0,0,1],[\"MEXICO\",0,0,1],[\"MEXICO\",0,0,1],[\"MEXICO\",1,0,0],[\"MEXICO\",0,0,1],[\"MEXICO\",0,0,1],[\"MEXICO\",0,0,1],[\"MEXICO\",0,0,1],[\"MEXICO\",0,1,0],[\"MEXICO\",0,1,0],[\"GUANAJUATO\",0,1,0],[\"GUANAJUATO\",0,1,0],[\"GUANAJUATO\",0,1,0],[\"GUANAJUATO\",0,0,1],[\"GUANAJUATO\",1,0,0],[\"GUANAJUATO\",0,1,0],[\"GUANAJUATO\",0,1,0],[\"GUANAJUATO\",0,1,0],[\"GUANAJUATO\",0,1,0],[\"GUANAJUATO\",0,0,1],[\"GUANAJUATO\",0,0,1],[\"GUANAJUATO\",0,1,0],[\"GUANAJUATO\",0,1,0],[\"GUANAJUATO\",0,1,0],[\"GUANAJUATO\",0,0,1],[\"GUANAJUATO\",0,0,1],[\"GUANAJUATO\",0,1,0],[\"GUANAJUATO\",1,0,0],[\"GUANAJUATO\",0,1,0],[\"GUANAJUATO\",0,1,0],[\"GUANAJUATO\",0,0,1],[\"GUANAJUATO\",0,1,0],[\"GUANAJUATO\",0,0,1],[\"GUANAJUATO\",0,1,0],[\"GUANAJUATO\",0,0,1],[\"GUANAJUATO\",0,0,1],[\"GUANAJUATO\",0,0,1],[\"GUANAJUATO\",0,0,1],[\"GUANAJUATO\",0,0,1],[\"GUANAJUATO\",1,0,0],[\"GUANAJUATO\",0,0,1],[\"GUANAJUATO\",0,1,0],[\"GUANAJUATO\",0,0,1],[\"GUANAJUATO\",0,0,1],[\"GUANAJUATO\",0,0,1],[\"GUANAJUATO\",0,0,1],[\"GUANAJUATO\",1,0,0],[\"GUANAJUATO\",1,0,0],[\"GUANAJUATO\",1,0,0],[\"GUANAJUATO\",0,0,1],[\"GUERRERO\",0,0,1],[\"GUERRERO\",0,1,0],[\"GUERRERO\",0,0,1],[\"GUERRERO\",0,0,1],[\"GUERRERO\",1,0,0],[\"HIDALGO\",0,1,0],[\"HIDALGO\",1,0,0],[\"HIDALGO\",0,0,1],[\"HIDALGO\",1,0,0],[\"HIDALGO\",1,0,0],[\"HIDALGO\",1,0,0],[\"HIDALGO\",1,0,0],[\"HIDALGO\",1,0,0],[\"HIDALGO\",1,0,0],[\"HIDALGO\",1,0,0],[\"HIDALGO\",0,1,0],[\"HIDALGO\",0,0,1],[\"HIDALGO\",0,0,1],[\"HIDALGO\",0,0,1],[\"HIDALGO\",0,1,0],[\"HIDALGO\",0,1,0],[\"HIDALGO\",0,1,0],[\"HIDALGO\",0,1,0],[\"HIDALGO\",0,0,1],[\"HIDALGO\",1,0,0],[\"HIDALGO\",1,0,0],[\"HIDALGO\",0,0,1],[\"HIDALGO\",0,0,1],[\"HIDALGO\",0,0,1],[\"HIDALGO\",0,0,1],[\"HIDALGO\",0,0,1],[\"HIDALGO\",0,0,1],[\"HIDALGO\",0,0,1],[\"HIDALGO\",0,1,0],[\"HIDALGO\",1,0,0],[\"HIDALGO\",0,1,0],[\"HIDALGO\",0,1,0],[\"HIDALGO\",1,0,0],[\"HIDALGO\",1,0,0],[\"HIDALGO\",1,0,0],[\"HIDALGO\",0,0,1],[\"AGUASCALIENTES\",1,0,0],[\"AGUASCALIENTES\",0,1,0],[\"AGUASCALIENTES\",0,1,0],[\"AGUASCALIENTES\",0,1,0],[\"AGUASCALIENTES\",0,0,1],[\"AGUASCALIENTES\",0,0,1],[\"AGUASCALIENTES\",0,1,0],[\"AGUASCALIENTES\",0,1,0],[\"AGUASCALIENTES\",0,0,1],[\"AGUASCALIENTES\",0,1,0],[\"MICHOACAN DE OCAMPO\",0,0,1],[\"MICHOACAN DE OCAMPO\",0,1,0],[\"MICHOACAN DE OCAMPO\",0,0,1],[\"MICHOACAN DE OCAMPO\",0,0,1],[\"MICHOACAN DE OCAMPO\",0,0,1],[\"MICHOACAN DE OCAMPO\",0,0,1],[\"MICHOACAN DE OCAMPO\",0,0,1],[\"MICHOACAN DE OCAMPO\",0,0,1],[\"MICHOACAN DE OCAMPO\",1,0,0],[\"MICHOACAN DE OCAMPO\",0,0,1],[\"MICHOACAN DE OCAMPO\",0,0,1],[\"MICHOACAN DE OCAMPO\",0,0,1],[\"MICHOACAN DE OCAMPO\",0,0,1],[\"MICHOACAN DE OCAMPO\",1,0,0],[\"MICHOACAN DE OCAMPO\",0,0,1],[\"MICHOACAN DE OCAMPO\",1,0,0],[\"MICHOACAN DE OCAMPO\",1,0,0],[\"MICHOACAN DE OCAMPO\",0,0,1],[\"MICHOACAN DE OCAMPO\",1,0,0],[\"MICHOACAN DE OCAMPO\",0,0,1],[\"MICHOACAN DE OCAMPO\",1,0,0],[\"MICHOACAN DE OCAMPO\",0,0,1],[\"MICHOACAN DE OCAMPO\",0,0,1],[\"MICHOACAN DE OCAMPO\",1,0,0],[\"MICHOACAN DE OCAMPO\",0,0,1],[\"MICHOACAN DE OCAMPO\",0,1,0],[\"MICHOACAN DE OCAMPO\",0,0,1],[\"NAYARIT\",0,1,0],[\"NAYARIT\",0,0,1],[\"NAYARIT\",0,0,1],[\"NAYARIT\",0,1,0],[\"NAYARIT\",0,1,0],[\"NAYARIT\",0,1,0],[\"PUEBLA\",0,1,0],[\"PUEBLA\",0,0,1],[\"PUEBLA\",0,0,1],[\"PUEBLA\",0,0,1],[\"PUEBLA\",1,0,0],[\"PUEBLA\",1,0,0],[\"PUEBLA\",0,0,1],[\"PUEBLA\",1,0,0],[\"PUEBLA\",0,0,1],[\"PUEBLA\",0,0,1],[\"PUEBLA\",0,0,1],[\"PUEBLA\",0,1,0],[\"PUEBLA\",0,1,0],[\"PUEBLA\",0,0,1],[\"PUEBLA\",0,1,0],[\"PUEBLA\",0,1,0],[\"PUEBLA\",0,1,0],[\"PUEBLA\",0,0,1],[\"PUEBLA\",1,0,0],[\"PUEBLA\",0,0,1],[\"PUEBLA\",0,0,1],[\"PUEBLA\",1,0,0],[\"PUEBLA\",0,1,0],[\"QUERETARO ARTEAGA\",0,0,1],[\"QUERETARO ARTEAGA\",0,0,1],[\"QUERETARO ARTEAGA\",0,0,1],[\"QUERETARO ARTEAGA\",0,0,1],[\"QUERETARO ARTEAGA\",0,1,0],[\"QUERETARO ARTEAGA\",0,1,0],[\"QUINTANA ROO\",0,0,1],[\"QUINTANA ROO\",0,0,1],[\"QUINTANA ROO\",0,0,1],[\"QUINTANA ROO\",1,0,0],[\"QUINTANA ROO\",1,0,0],[\"QUINTANA ROO\",0,0,1],[\"QUINTANA ROO\",1,0,0],[\"QUINTANA ROO\",1,0,0],[\"QUINTANA ROO\",1,0,0],[\"QUINTANA ROO\",1,0,0],[\"QUINTANA ROO\",0,0,1],[\"QUINTANA ROO\",1,0,0],[\"QUINTANA ROO\",1,0,0],[\"QUINTANA ROO\",1,0,0],[\"QUINTANA ROO\",1,0,0],[\"SAN LUIS POTOSI\",0,1,0],[\"SAN LUIS POTOSI\",0,1,0],[\"SAN LUIS POTOSI\",1,0,0],[\"SAN LUIS POTOSI\",0,0,1],[\"SAN LUIS POTOSI\",1,0,0],[\"SAN LUIS POTOSI\",0,0,1],[\"SAN LUIS POTOSI\",0,0,1],[\"SAN LUIS POTOSI\",0,1,0],[\"SAN LUIS POTOSI\",1,0,0],[\"SAN LUIS POTOSI\",0,1,0],[\"SAN LUIS POTOSI\",0,1,0],[\"SAN LUIS POTOSI\",0,1,0],[\"SAN LUIS POTOSI\",0,1,0],[\"SAN LUIS POTOSI\",0,1,0],[\"SAN LUIS POTOSI\",0,1,0],[\"SAN LUIS POTOSI\",0,1,0],[\"SAN LUIS POTOSI\",0,1,0],[\"SAN LUIS POTOSI\",0,1,0],[\"SAN LUIS POTOSI\",0,1,0],[\"SAN LUIS POTOSI\",0,1,0],[\"SAN LUIS POTOSI\",0,0,1],[\"SAN LUIS POTOSI\",0,0,1],[\"SAN LUIS POTOSI\",0,1,0],[\"SAN LUIS POTOSI\",0,1,0],[\"SAN LUIS POTOSI\",0,1,0],[\"SAN LUIS POTOSI\",0,0,1],[\"SAN LUIS POTOSI\",0,0,1],[\"SAN LUIS POTOSI\",0,0,1],[\"SAN LUIS POTOSI\",0,0,1],[\"SAN LUIS POTOSI\",0,0,1],[\"SAN LUIS POTOSI\",0,1,0],[\"SAN LUIS POTOSI\",1,0,0],[\"SAN LUIS POTOSI\",0,0,1],[\"SAN LUIS POTOSI\",0,0,1],[\"SAN LUIS POTOSI\",1,0,0],[\"SAN LUIS POTOSI\",1,0,0],[\"SAN LUIS POTOSI\",0,0,1],[\"SAN LUIS POTOSI\",0,1,0],[\"SAN LUIS POTOSI\",0,0,1],[\"SAN LUIS POTOSI\",0,1,0],[\"SAN LUIS POTOSI\",0,1,0],[\"SAN LUIS POTOSI\",0,0,1],[\"SAN LUIS POTOSI\",0,0,1],[\"SAN LUIS POTOSI\",0,0,1],[\"SAN LUIS POTOSI\",0,0,1],[\"SAN LUIS POTOSI\",0,0,1],[\"SAN LUIS POTOSI\",0,0,1],[\"TABASCO\",1,0,0],[\"TABASCO\",1,0,0],[\"TABASCO\",0,0,1],[\"TABASCO\",1,0,0],[\"TABASCO\",0,0,1],[\"TABASCO\",0,0,1],[\"TABASCO\",0,0,1],[\"TABASCO\",0,0,1],[\"TABASCO\",0,0,1],[\"TABASCO\",0,0,1],[\"TABASCO\",1,0,0],[\"TABASCO\",0,0,1],[\"TABASCO\",1,0,0],[\"TLAXCALA\",0,0,1],[\"TLAXCALA\",0,0,1],[\"TLAXCALA\",0,0,1],[\"TLAXCALA\",0,0,1],[\"TLAXCALA\",1,0,0],[\"TLAXCALA\",0,0,1],[\"TLAXCALA\",1,0,0],[\"TLAXCALA\",0,0,1],[\"TLAXCALA\",0,1,0],[\"TLAXCALA\",1,0,0],[\"TLAXCALA\",0,0,1],[\"TLAXCALA\",1,0,0],[\"TLAXCALA\",1,0,0],[\"TLAXCALA\",0,1,0],[\"TLAXCALA\",0,0,1],[\"TLAXCALA\",0,0,1],[\"TLAXCALA\",0,0,1],[\"TLAXCALA\",0,0,1],[\"TLAXCALA\",0,0,1],[\"TLAXCALA\",0,0,1],[\"TLAXCALA\",0,0,1],[\"TLAXCALA\",0,0,1],[\"TLAXCALA\",0,0,1],[\"TLAXCALA\",0,0,1],[\"ZACATECAS\",0,0,1],[\"ZACATECAS\",0,1,0],[\"ZACATECAS\",0,1,0],[\"ZACATECAS\",0,1,0],[\"ZACATECAS\",0,0,1],[\"ZACATECAS\",0,1,0],[\"ZACATECAS\",0,0,1],[\"ZACATECAS\",0,1,0],[\"ZACATECAS\",0,1,0],[\"ZACATECAS\",0,1,0],[\"ZACATECAS\",0,1,0],[\"ZACATECAS\",0,0,1],[\"ZACATECAS\",0,1,0],[\"ZACATECAS\",0,1,0],[\"ZACATECAS\",0,1,0],[\"ZACATECAS\",0,0,1],[\"ZACATECAS\",0,1,0],[\"ZACATECAS\",0,1,0],[\"ZACATECAS\",0,1,0],[\"ZACATECAS\",0,0,1],[\"ZACATECAS\",0,0,1],[\"ZACATECAS\",0,0,1],[\"ZACATECAS\",1,0,0],[\"ZACATECAS\",0,0,1],[\"ZACATECAS\",0,1,0],[\"ZACATECAS\",0,0,1],[\"ZACATECAS\",0,0,1],[\"ZACATECAS\",0,0,1],[\"ZACATECAS\",0,1,0],[\"ZACATECAS\",0,0,1],[\"ZACATECAS\",0,1,0],[\"ZACATECAS\",0,1,0],[\"ZACATECAS\",0,1,0],[\"ZACATECAS\",1,0,0],[\"ZACATECAS\",0,0,1],[\"ZACATECAS\",0,1,0],[\"ZACATECAS\",0,1,0],[\"ZACATECAS\",1,0,0],[\"ZACATECAS\",0,0,1],[\"ZACATECAS\",0,0,1],[\"ZACATECAS\",0,1,0],[\"ZACATECAS\",0,0,1],[\"ZACATECAS\",0,1,0],[\"ZACATECAS\",0,1,0],[\"ZACATECAS\",0,0,1],[\"ZACATECAS\",0,1,0],[\"ZACATECAS\",0,1,0],[\"ZACATECAS\",0,1,0],[\"ZACATECAS\",0,1,0],[\"ZACATECAS\",0,1,0],[\"ZACATECAS\",0,1,0],[\"ZACATECAS\",0,1,0],[\"ZACATECAS\",0,0,1],[\"ZACATECAS\",0,0,1],[\"ZACATECAS\",0,0,1],[\"ZACATECAS\",0,0,1],[\"ZACATECAS\",0,0,1],[\"ZACATECAS\",0,1,0],[\"ZACATECAS\",0,1,0],[\"ZACATECAS\",0,1,0],[\"ZACATECAS\",0,1,0],[\"ZACATECAS\",0,1,0],[\"ZACATECAS\",0,1,0],[\"ZACATECAS\",0,0,1],[\"ZACATECAS\",0,1,0],[\"ZACATECAS\",0,1,0],[\"ZACATECAS\",0,1,0],[\"ZACATECAS\",0,1,0],[\"ZACATECAS\",0,0,1],[\"ZACATECAS\",0,1,0],[\"ZACATECAS\",0,1,0],[\"ZACATECAS\",0,1,0],[\"ZACATECAS\",0,1,0],[\"ZACATECAS\",0,1,0],[\"ZACATECAS\",0,1,0],[\"DISTRITO FEDERAL\",0,0,1],[\"DISTRITO FEDERAL\",1,0,0],[\"MEXICO\",1,0,0],[\"MEXICO\",0,0,1],[\"MEXICO\",0,1,0],[\"MEXICO\",0,1,0],[\"MEXICO\",0,0,1],[\"MEXICO\",0,0,1],[\"HIDALGO\",0,0,1],[\"MEXICO\",0,0,1],[\"MEXICO\",0,0,1],[\"MORELOS\",0,0,1],[\"MORELOS\",0,0,1],[\"MORELOS\",0,0,1],[\"MORELOS\",0,0,1],[\"MORELOS\",0,0,1],[\"MORELOS\",0,0,1],[\"MORELOS\",0,0,1],[\"MEXICO\",0,0,1],[\"OAXACA\",1,0,0],[\"OAXACA\",0,1,0],[\"OAXACA\",0,0,1],[\"OAXACA\",0,0,1],[\"OAXACA\",0,0,1],[\"MORELOS\",1,0,0],[\"MORELOS\",0,1,0],[\"MORELOS\",0,1,0],[\"MORELOS\",0,1,0],[\"OAXACA\",0,0,1],[\"OAXACA\",0,1,0],[\"OAXACA\",0,0,1],[\"DURANGO\",0,1,0],[\"DURANGO\",0,1,0],[\"DURANGO\",0,1,0],[\"DURANGO\",0,1,0],[\"DURANGO\",0,0,1],[\"DURANGO\",0,0,1],[\"DURANGO\",1,0,0],[\"DURANGO\",0,1,0],[\"DURANGO\",0,1,0],[\"DURANGO\",0,1,0],[\"DURANGO\",0,0,1],[\"DURANGO\",0,0,1],[\"DURANGO\",0,0,1],[\"DURANGO\",0,1,0],[\"DURANGO\",0,0,1],[\"DURANGO\",0,1,0],[\"DURANGO\",0,0,1],[\"DURANGO\",0,0,1],[\"DURANGO\",0,1,0],[\"DURANGO\",0,1,0],[\"DURANGO\",0,0,1],[\"DURANGO\",0,1,0],[\"DURANGO\",0,1,0],[\"COAHUILA DE ZARAGOZA\",0,1,0],[\"COAHUILA DE ZARAGOZA\",0,1,0],[\"COAHUILA DE ZARAGOZA\",0,1,0],[\"COAHUILA DE ZARAGOZA\",0,0,1],[\"COAHUILA DE ZARAGOZA\",0,0,1],[\"DURANGO\",0,0,1],[\"DURANGO\",0,1,0],[\"DURANGO\",0,1,0],[\"DURANGO\",0,1,0],[\"DURANGO\",0,1,0],[\"COAHUILA DE ZARAGOZA\",0,1,0],[\"COAHUILA DE ZARAGOZA\",0,0,1],[\"COAHUILA DE ZARAGOZA\",0,0,1],[\"COAHUILA DE ZARAGOZA\",0,1,0],[\"COAHUILA DE ZARAGOZA\",0,1,0],[\"COAHUILA DE ZARAGOZA\",0,1,0],[\"COAHUILA DE ZARAGOZA\",0,1,0],[\"COAHUILA DE ZARAGOZA\",0,1,0],[\"DURANGO\",0,1,0],[\"COAHUILA DE ZARAGOZA\",0,1,0],[\"COAHUILA DE ZARAGOZA\",0,1,0],[\"COAHUILA DE ZARAGOZA\",0,1,0],[\"COAHUILA DE ZARAGOZA\",0,1,0],[\"COAHUILA DE ZARAGOZA\",0,0,1],[\"COAHUILA DE ZARAGOZA\",0,1,0],[\"CHIAPAS\",0,1,0],[\"CHIAPAS\",0,1,0],[\"CHIAPAS\",0,1,0],[\"CHIAPAS\",0,0,1],[\"CHIAPAS\",0,0,1],[\"CHIAPAS\",1,0,0],[\"CHIAPAS\",0,0,1],[\"CHIAPAS\",0,0,1],[\"CHIAPAS\",1,0,0],[\"CHIAPAS\",1,0,0],[\"CHIAPAS\",0,1,0],[\"CHIAPAS\",0,0,1],[\"CHIAPAS\",0,0,1],[\"CHIAPAS\",0,0,1],[\"CHIAPAS\",0,0,1],[\"CHIAPAS\",0,0,1],[\"CHIAPAS\",0,0,1],[\"CHIAPAS\",0,0,1],[\"CHIAPAS\",1,0,0],[\"CHIAPAS\",1,0,0],[\"CHIAPAS\",0,0,1],[\"VERACRUZ DE IGNACIO DE LA LLAVE\",0,0,1],[\"VERACRUZ DE IGNACIO DE LA LLAVE\",1,0,0],[\"VERACRUZ DE IGNACIO DE LA LLAVE\",1,0,0],[\"VERACRUZ DE IGNACIO DE LA LLAVE\",1,0,0],[\"VERACRUZ DE IGNACIO DE LA LLAVE\",0,0,1],[\"VERACRUZ DE IGNACIO DE LA LLAVE\",0,1,0],[\"VERACRUZ DE IGNACIO DE LA LLAVE\",0,0,1],[\"VERACRUZ DE IGNACIO DE LA LLAVE\",0,1,0],[\"VERACRUZ DE IGNACIO DE LA LLAVE\",0,0,1],[\"VERACRUZ DE IGNACIO DE LA LLAVE\",0,0,1],[\"VERACRUZ DE IGNACIO DE LA LLAVE\",1,0,0],[\"VERACRUZ DE IGNACIO DE LA LLAVE\",0,0,1],[\"VERACRUZ DE IGNACIO DE LA LLAVE\",0,0,1],[\"VERACRUZ DE IGNACIO DE LA LLAVE\",0,1,0],[\"VERACRUZ DE IGNACIO DE LA LLAVE\",1,0,0],[\"TAMAULIPAS\",0,0,1],[\"TAMAULIPAS\",0,0,1],[\"TAMAULIPAS\",1,0,0],[\"TAMAULIPAS\",1,0,0],[\"TAMAULIPAS\",0,0,1],[\"TAMAULIPAS\",1,0,0],[\"TAMAULIPAS\",0,1,0],[\"TAMAULIPAS\",1,0,0],[\"TAMAULIPAS\",0,1,0],[\"TAMAULIPAS\",0,0,1],[\"TAMAULIPAS\",1,0,0],[\"TAMAULIPAS\",1,0,0],[\"TAMAULIPAS\",0,0,1],[\"TAMAULIPAS\",0,1,0],[\"TAMAULIPAS\",0,1,0],[\"TAMAULIPAS\",1,0,0],[\"TAMAULIPAS\",0,1,0],[\"TAMAULIPAS\",1,0,0],[\"TAMAULIPAS\",1,0,0],[\"TAMAULIPAS\",0,0,1],[\"TAMAULIPAS\",1,0,0],[\"TAMAULIPAS\",1,0,0],[\"TAMAULIPAS\",1,0,0],[\"TAMAULIPAS\",1,0,0],[\"TAMAULIPAS\",0,1,0],[\"JALISCO\",0,1,0],[\"JALISCO\",0,1,0],[\"JALISCO\",0,1,0],[\"JALISCO\",0,1,0],[\"JALISCO\",0,1,0],[\"JALISCO\",1,0,0],[\"JALISCO\",0,1,0],[\"JALISCO\",0,1,0],[\"JALISCO\",0,0,1],[\"JALISCO\",0,0,1],[\"JALISCO\",0,0,1],[\"JALISCO\",0,0,1],[\"JALISCO\",0,0,1],[\"JALISCO\",1,0,0],[\"JALISCO\",0,0,1],[\"JALISCO\",1,0,0],[\"JALISCO\",0,0,1],[\"JALISCO\",0,1,0],[\"JALISCO\",0,0,1],[\"JALISCO\",0,1,0],[\"JALISCO\",0,1,0],[\"JALISCO\",0,1,0],[\"JALISCO\",0,0,1],[\"JALISCO\",0,1,0],[\"JALISCO\",0,1,0],[\"JALISCO\",0,0,1],[\"JALISCO\",0,1,0],[\"JALISCO\",0,1,0],[\"JALISCO\",0,0,1],[\"JALISCO\",0,0,1],[\"JALISCO\",0,0,1],[\"JALISCO\",1,0,0],[\"JALISCO\",0,0,1],[\"SONORA\",0,0,1],[\"SONORA\",0,0,1],[\"SONORA\",0,1,0],[\"SONORA\",0,0,1],[\"SONORA\",0,0,1],[\"SONORA\",0,0,1],[\"SONORA\",0,0,1],[\"SONORA\",0,0,1],[\"SONORA\",1,0,0],[\"SONORA\",0,0,1],[\"SONORA\",0,0,1],[\"SONORA\",0,1,0],[\"SONORA\",0,0,1],[\"SONORA\",0,0,1],[\"SONORA\",1,0,0],[\"SONORA\",0,0,1],[\"SONORA\",0,0,1],[\"SONORA\",0,0,1],[\"SONORA\",0,0,1],[\"SONORA\",0,0,1],[\"SONORA\",1,0,0],[\"SONORA\",0,1,0],[\"SONORA\",0,0,1],[\"SONORA\",0,0,1],[\"SONORA\",0,0,1],[\"SONORA\",0,0,1],[\"SONORA\",0,0,1],[\"SONORA\",0,0,1],[\"SONORA\",0,0,1],[\"SONORA\",0,0,1],[\"SONORA\",0,0,1],[\"SONORA\",0,1,0],[\"SONORA\",0,1,0],[\"SONORA\",0,1,0],[\"SONORA\",0,1,0],[\"SONORA\",0,1,0],[\"SONORA\",0,0,1],[\"SONORA\",0,0,1],[\"SONORA\",0,0,1],[\"SONORA\",0,1,0],[\"SONORA\",0,0,1],[\"SONORA\",0,0,1],[\"SONORA\",0,0,1],[\"SONORA\",0,1,0],[\"SONORA\",0,0,1],[\"SONORA\",1,0,0],[\"SONORA\",0,0,1],[\"SONORA\",1,0,0],[\"SONORA\",1,0,0],[\"SONORA\",0,0,1],[\"SONORA\",1,0,0],[\"SONORA\",1,0,0],[\"SONORA\",0,0,1],[\"SONORA\",0,1,0],[\"SONORA\",0,1,0],[\"SONORA\",0,0,1],[\"SONORA\",0,0,1],[\"SONORA\",0,0,1],[\"SONORA\",0,0,1],[\"SONORA\",1,0,0],[\"SONORA\",0,0,1],[\"SONORA\",0,0,1],[\"SONORA\",0,1,0],[\"SONORA\",0,0,1],[\"SONORA\",0,0,1],[\"SONORA\",0,0,1],[\"SONORA\",0,0,1],[\"SONORA\",0,0,1],[\"SONORA\",1,0,0],[\"SONORA\",0,0,1],[\"SONORA\",0,1,0],[\"SONORA\",0,1,0],[\"SONORA\",0,1,0],[\"SONORA\",0,1,0],[\"SONORA\",0,1,0],[\"SONORA\",0,1,0],[\"SONORA\",0,0,1],[\"SONORA\",0,1,0],[\"SONORA\",0,1,0],[\"SONORA\",0,1,0],[\"SONORA\",0,1,0],[\"SONORA\",0,1,0],[\"SONORA\",0,0,1],[\"SONORA\",0,1,0],[\"SONORA\",0,1,0],[\"SONORA\",0,1,0],[\"SONORA\",0,0,1],[\"SONORA\",0,0,1],[\"SONORA\",0,0,1],[\"SONORA\",0,1,0],[\"SONORA\",0,1,0],[\"SONORA\",0,0,1],[\"SONORA\",0,0,1],[\"BAJA CALIFORNIA\",1,0,0],[\"BAJA CALIFORNIA\",0,1,0],[\"BAJA CALIFORNIA\",0,1,0],[\"BAJA CALIFORNIA\",0,0,1],[\"BAJA CALIFORNIA\",0,1,0],[\"BAJA CALIFORNIA\",1,0,0],[\"BAJA CALIFORNIA\",0,0,1],[\"BAJA CALIFORNIA\",1,0,0],[\"BAJA CALIFORNIA\",1,0,0],[\"BAJA CALIFORNIA\",1,0,0],[\"BAJA CALIFORNIA\",1,0,0],[\"BAJA CALIFORNIA\",1,0,0],[\"BAJA CALIFORNIA\",1,0,0],[\"BAJA CALIFORNIA\",0,0,1],[\"BAJA CALIFORNIA\",0,0,1],[\"BAJA CALIFORNIA\",0,0,1],[\"BAJA CALIFORNIA\",0,1,0],[\"BAJA CALIFORNIA\",1,0,0],[\"BAJA CALIFORNIA\",1,0,0],[\"BAJA CALIFORNIA\",1,0,0],[\"SONORA\",1,0,0],[\"SONORA\",0,0,1],[\"BAJA CALIFORNIA\",1,0,0],[\"SONORA\",0,0,1],[\"SONORA\",0,0,1],[\"SONORA\",1,0,0],[\"SONORA\",0,1,0],[\"BAJA CALIFORNIA\",1,0,0],[\"BAJA CALIFORNIA\",1,0,0],[\"BAJA CALIFORNIA\",1,0,0],[\"SONORA\",1,0,0],[\"BAJA CALIFORNIA\",1,0,0],[\"BAJA CALIFORNIA\",1,0,0],[\"BAJA CALIFORNIA\",0,0,1],[\"BAJA CALIFORNIA\",0,0,1],[\"BAJA CALIFORNIA\",0,0,1],[\"SONORA\",1,0,0],[\"SONORA\",1,0,0],[\"SINALOA\",0,0,1],[\"SINALOA\",0,1,0],[\"SINALOA\",1,0,0],[\"SINALOA\",1,0,0],[\"SINALOA\",0,0,1],[\"SINALOA\",1,0,0],[\"SINALOA\",0,1,0],[\"SINALOA\",0,1,0],[\"SINALOA\",0,1,0],[\"SINALOA\",0,0,1],[\"SINALOA\",1,0,0],[\"SINALOA\",1,0,0],[\"SINALOA\",1,0,0],[\"SINALOA\",0,1,0],[\"SINALOA\",1,0,0],[\"SINALOA\",1,0,0],[\"SINALOA\",0,1,0],[\"SINALOA\",0,0,1],[\"SINALOA\",0,0,1],[\"SINALOA\",0,0,1],[\"SINALOA\",0,0,1],[\"SINALOA\",1,0,0],[\"SINALOA\",0,0,1],[\"SINALOA\",0,0,1],[\"SINALOA\",0,0,1],[\"SINALOA\",1,0,0],[\"SINALOA\",1,0,0],[\"SINALOA\",0,1,0],[\"SINALOA\",0,1,0],[\"SINALOA\",1,0,0],[\"SINALOA\",0,1,0],[\"SINALOA\",0,0,1],[\"OAXACA\",0,1,0],[\"OAXACA\",0,1,0],[\"OAXACA\",0,1,0],[\"OAXACA\",1,0,0],[\"OAXACA\",0,1,0],[\"OAXACA\",0,1,0],[\"OAXACA\",0,0,1],[\"OAXACA\",0,0,1],[\"OAXACA\",1,0,0],[\"OAXACA\",0,1,0],[\"OAXACA\",0,0,1],[\"YUCATAN\",1,0,0],[\"YUCATAN\",0,0,1],[\"YUCATAN\",0,1,0],[\"YUCATAN\",0,0,1],[\"YUCATAN\",1,0,0],[\"YUCATAN\",1,0,0],[\"YUCATAN\",0,1,0],[\"YUCATAN\",1,0,0],[\"YUCATAN\",0,0,1],[\"YUCATAN\",0,0,1],[\"YUCATAN\",0,0,1],[\"YUCATAN\",0,0,1],[\"YUCATAN\",1,0,0],[\"YUCATAN\",1,0,0],[\"YUCATAN\",1,0,0],[\"YUCATAN\",0,1,0],[\"YUCATAN\",0,0,1],[\"YUCATAN\",1,0,0],[\"YUCATAN\",1,0,0],[\"YUCATAN\",1,0,0],[\"YUCATAN\",1,0,0],[\"YUCATAN\",1,0,0],[\"YUCATAN\",1,0,0],[\"YUCATAN\",0,0,1],[\"YUCATAN\",1,0,0],[\"YUCATAN\",0,0,1],[\"YUCATAN\",0,0,1],[\"YUCATAN\",0,0,1],[\"YUCATAN\",0,0,1],[\"YUCATAN\",0,0,1],[\"YUCATAN\",1,0,0],[\"YUCATAN\",1,0,0],[\"YUCATAN\",1,0,0],[\"YUCATAN\",1,0,0],[\"YUCATAN\",0,0,1],[\"YUCATAN\",1,0,0],[\"YUCATAN\",1,0,0],[\"YUCATAN\",1,0,0],[\"YUCATAN\",1,0,0],[\"YUCATAN\",1,0,0],[\"YUCATAN\",0,0,1],[\"YUCATAN\",0,0,1],[\"YUCATAN\",1,0,0],[\"YUCATAN\",0,0,1],[\"YUCATAN\",1,0,0],[\"YUCATAN\",1,0,0],[\"YUCATAN\",0,0,1],[\"YUCATAN\",1,0,0],[\"YUCATAN\",1,0,0],[\"YUCATAN\",1,0,0],[\"YUCATAN\",1,0,0],[\"YUCATAN\",1,0,0],[\"YUCATAN\",1,0,0],[\"YUCATAN\",1,0,0],[\"YUCATAN\",0,0,1],[\"YUCATAN\",1,0,0],[\"YUCATAN\",1,0,0],[\"YUCATAN\",1,0,0],[\"YUCATAN\",0,0,1],[\"YUCATAN\",0,0,1],[\"YUCATAN\",0,0,1],[\"YUCATAN\",1,0,0],[\"YUCATAN\",1,0,0],[\"YUCATAN\",1,0,0],[\"YUCATAN\",1,0,0],[\"YUCATAN\",1,0,0],[\"YUCATAN\",0,0,1],[\"YUCATAN\",0,1,0],[\"YUCATAN\",1,0,0],[\"YUCATAN\",1,0,0],[\"YUCATAN\",0,0,1],[\"YUCATAN\",1,0,0],[\"YUCATAN\",1,0,0],[\"YUCATAN\",0,0,1],[\"YUCATAN\",0,0,1],[\"YUCATAN\",0,1,0],[\"YUCATAN\",1,0,0],[\"YUCATAN\",0,0,1],[\"YUCATAN\",0,0,1],[\"YUCATAN\",1,0,0],[\"YUCATAN\",1,0,0],[\"YUCATAN\",0,0,1],[\"YUCATAN\",1,0,0],[\"YUCATAN\",1,0,0],[\"YUCATAN\",0,0,1],[\"NUEVO LEON\",0,0,1],[\"NUEVO LEON\",0,0,1],[\"NUEVO LEON\",0,0,1],[\"NUEVO LEON\",0,0,1],[\"NUEVO LEON\",0,0,1],[\"NUEVO LEON\",0,1,0],[\"NUEVO LEON\",0,0,1],[\"NUEVO LEON\",0,1,0],[\"NUEVO LEON\",0,1,0],[\"NUEVO LEON\",1,0,0],[\"NUEVO LEON\",0,1,0],[\"NUEVO LEON\",0,1,0],[\"NUEVO LEON\",0,1,0],[\"NUEVO LEON\",0,0,1],[\"NUEVO LEON\",0,0,1]],\"hovertemplate\":\"<b>%{hovertext}</b><br><br>LATITUD=%{lat}<br>LONGITUD=%{lon}<br>ESTADO=%{customdata[0]}<br>SEMAFORO_Amarillo=%{customdata[1]}<br>SEMAFORO_Rojo=%{customdata[2]}<br>SEMAFORO_Verde=%{customdata[3]}<br>K=3 Clusters=%{marker.color}<extra></extra>\",\"hovertext\":[\"POZO SAN GIL\",\"POZO R013 CA\\u00d1ADA HONDA\",\"POZO COSIO\",\"POZO EL SALITRILLO\",\"RANCHO EL TECOLOTE\",\"POZO A.P. CNA 7 (ANTES POZO A.P. CNA 6)\",\"POZO 26, SAN JUAN\",\"VICTOR HUGO CESE\\u00d1A\",\"LAS PARRITAS\",\"SAN ANTONIO\",\"AGUA AMARGA Y SAN PEDRO MEXICO\",\"EL TRIUNFO\",\"JUAN DOMINGUEZ COTA\",\"TIRO SANTA CRUZ\",\"EL ROSARIO II\",\"SP. A.P. 1, L. 9, COL. SIN.\",\"L. 16-17 COL. LAGUNA\",\"L. 20, EJ. STO. DOMINGO\",\"RANCHO AGUA DULCE, GVO. GLEZ.\",\"POZO NO. 14\",\"POZO 2A\",\"MULEGE 1\",\"MULEGE 3\",\"CNA-SI-03 (EJ. ALFREDO V. BONFIL)\",\"BENITO JUAREZ 2\",\"LAGUNEROS 2\",\"DIAZ ORDAZ 2. 2A. ETAPA\",\"POZO Z.A #13 G. DIAZ ORDAZ (ANTES RANCHO EL PILOTO 2)\",\"E. ZAPATA 1\",\"CARACOL 2\",\"EL SILENCIO 2 (CNA-VIZ-51)\",\"GMO. PRIETO 1\",\"HIELERA\",\"POZO NO.VII R(ANTES A.P. VII)\",\"POZO NO. 197-A\",\"POZO NO. 145\",\"POZO NO. XII (ANTES A.P. XII)\",\"A.P. NO. X\",\"POZO NO. XI (ANTES A.P. XI)\",\"POZO NO. XVII\",\"POZO NO. XXII (ANTES A.P. XXII)\",\"POZO NO. XXIV (ANTES A.P. XXIV)\",\"POZO NO. XXVI (ANTES A.P. XXVI)\",\"POZO NO. 378-R\",\"POZO CLAVE 42\",\"POZO CLAVE 14-R\",\"POZO CLAVE 2\",\"POZO CLAVE 35R\",\"POZO CLAVE 91\",\"POZO NO. 5 PIDER\",\"POZO SAN BERNABE\",\"POZO JAVIER ARAMBURO\",\"POZO DEL SISTEMA DE AGUA POTABLE DE CANDELARIA-CAMPECHE\",\"POZO DEL SISTEMA DE AGUA POTABLE DE CHULBAC\",\"POZO 1 ORIENTE DE LA GALERIA FILTRANTE DE CHINA\",\"POZO DEL SISTEMA DE AGUA POTABLE DE UAYAMON\",\"POZO DEL SISTEMA DE AGUA POTABLE DE SEYBAPLAYA\",\"POZO DEL SISTEMA DE AGUA POTABLE DE VILLA MADERO\",\"POZO 1 DEL SISTEMA DE AGUA POTABLE DE ULUMAL\",\"POZO DEL SISTEMA DE AGUA POTABLE DE ALFREDO V. BONFIL\",\"POZO DEL SISTEMA DE AGUA POTABLE DE PUEBLO NUEVO\",\"POZO 6 DEL SISTEMA DE AGUA POTABLE DE HOPELCHEN\",\"POZO 3 DEL SISTEMA DE AGUA POTABLE DE BOLONCHEN DE REJON\",\"POZO DEL SISTEMA DE AGUA POTABLE DE NOHALAL\",\"POZO 1 DEL SISTEMA DE AGUA POTABLE DE HECELCHAKAN\",\"POZO DEL SISTEMA DE AGUA POTABLE DE POMUCH\",\"POZO 3 DEL SISTEMA DE AGUA POTABLE DE TENABO\",\"POZO DEL SISTEMA DE AGUA POTABLE DE DZITBALCHE\",\"POZO 2 DEL SISTEMA DE AGUA POTABLE DE CALKINI\",\"POZO DEL SISTEMA DE AGUA POTABLE DE CENTENARIO\",\"POZO DEL SISTEMA DE AGUA POTABLE DE BEL HA\",\"POZO 1 DEL SISTEMA DE AGUA POTABLE DE ESCARCEGA\",\"POZO 4 DEL SISTEMA DE AGUA POTABLE DE CHICBUL\",\"POZO DE A.P. EL RAMONAL\",\"POZO DE A.P. JUSTO SIERRA\",\"POZO DE A.P. NUEVO COAHUILA\",\"POZO DE A.P. NUEVO PROGRESO (CAMPO MENONITA).\",\"VALLE DE JUAREZ 1\",\"VALLE DE JUAREZ 2\",\"VALLE DE JUAREZ 3\",\"FLORES MAGON-VILLA AHUMADA 3\",\"BUENAVENTURA 3\",\"CASAS GRANDES 3\",\"CASAS GRANDES 1\",\"BAJA BABICORA 2\",\"BAJA BABICORA 1\",\"CUAUHTEMOC 3\",\"MEOQUI-DELICIAS (M-48)\",\"MEOQUI-DELICIAS (M-42)\",\"POZO 24\",\"MEOQUI-DELICIAS (M-51)\",\"MEOQUI-DELICIAS (M-45)\",\"MEOQUI-DELICIAS (6-B)\",\"CASETA OJO LAGUNA\",\"EL SAUZ-ENCINILLAS 2\",\"MEOQUI-DELICIAS (21-A)\",\"MEOQUI-DELICIAS (M-28)\",\"LOS JUNCOS 2\",\"MEOQUI-DELICIAS (M-29)\",\"CASAS GRANDES 2\",\"ASCENSION 2\",\"PALOMAS-GUADALUPE VICTORIA 2\",\"PALOMAS-GUADALUPE VICTORIA 3\",\"PALOMAS-GUADALUPE VICTORIA 1\",\"LAGUNA DE PALOMAS 2\",\"LAGUNA DE PALOMAS 1\",\"MEOQUI-DELICIAS (M-11)\",\"JIMENEZ-CAMARGO 3\",\"JIMENEZ-CAMARGO 1\",\"MEOQUI-DELICIAS (M-101)\",\"MEOQUI-DELICIAS 3\",\"MEOQUI-DELICIAS 2\",\"POZO 1 RANCHO SAN JUAN (CHAPULA)\",\"POZO HOSPITAL DEL ISSSTE\",\"PAREDON 2 - EJIDO COSME\",\"POZO 1 RANCHO LA CHIRIPA\",\"CA\\u00d1ON DEL DERRAMADERO 2\",\"POZO TANQUE NUEVO\",\"POZO RANCHO EL NOGAL\",\"POZO DAVISA - DON COSME\",\"POZO CLUB CAMPESTRE SALTILLO\",\"POZO RANCHO PAOLA\",\"POZO RANCHO DON BETO\",\"POZO SALINAS DEL REY SUR\",\"POZO No. 6 PE\\u00d1OLES\",\"EL HUNDIDO 1\",\"RANCHO DR. CELESTINO VALDEZ\",\"POZO EJIDO HIGUERAS\",\"POZO EL SOL\",\"POZO SAN RAFAEL DE LOS MILAGROS\",\"POZO EL MIMBRE\",\"POZO LA CANDELARIA\",\"POZO ESTACION MADERO\",\"P-2, RECREATIVO EL OASIS\",\"P-1, SAN JUDAS\",\"GSC 85, BODEGAS SAN LORENZO\",\"POZO EJ. SAN LORENZO\",\"GSC 87, PARRAS\",\"POZO REGIONAL PARRAS\",\"P- HOYO 11, RINCON DEL MONTERO\",\"QUINTA MIRA FLORES\",\"GSC 144, HACIENDA DEL MARQUEZ\",\"GALERIA PARRAS\",\"POZO BARRIAL DEL OJO DE AGUA\",\"POZO RANCHO VALLE SAN JOSE\",\"POZO LOS HOYOS - COAHUILA\",\"POZO LA PRESA\",\"POZO EL MESTE\\u00d1O\",\"POZO LA CECILIA\",\"POZO EJIDO LAS TRINCHERAS\",\"POZO PIEDRA BLANCA\",\"POZO CALLEJON DE GUEVARA\",\"MANANTIAL AGUA FRIA\",\"MANANTIAL LOS AMIALES\",\"MANANTIAL AGUA CALIENTE\",\"POZO DE AGUA POTABLE No. 334 EL COLOMO\",\"MANANTIAL EL HERVIDERO\",\"POZO A.P. CERRO DE ORTEGA\",\"POZO No. 1303, CUALATILLA\",\"POZO No. 1569, CLUB DEPORTIVO TECOMENSE\",\"POZO No. 1131, CAPDAM\",\"POZO No. 635 A.P. EL REAL\",\"POZO NO. 622 RANCHO LOS DESMONTES\",\"POZO DE AGUA POTABLE No. 1325 EL CHAVARIN\",\"POZO No. 618 H. ARMERIA, RINCON DE LOPEZ\",\"MANANTIAL LA GUARACHA\",\"POZO NUEVO A.P. PUEBLO JUAREZ\",\"POZO No. 13 SAN RAFAEL\",\"POZO DE AGUA POTABLE No. 1094 MARABASCO\",\"POZO ASOCIACION DE USUARIOS POZO 3\",\"POZO NO. 1125 JAVIER PARRA GODINEZ\",\"POZO 147 EJIDO SALAGUA\",\"POZO 129 EJIDO SALAGUA (FRAHOPA)\",\"POZO No. 1394 A.P. VENUSTIANO CARRANZA\",\"POZO No. 780, UNIDAD DEPORTIVA SUR\",\"POZO No. 1432, CAPDAM\",\"MANANTIAL LA TOMA\",\"POZO BAYLON\",\"POZO GUANACEVI\",\"POZO SAN FERMIN\",\"POZO LAS DELICIAS\",\"POZO EL MEZQUITAL\",\"POZO COLINAS\",\"POZO VALLE DORADO\",\"POZO EL TAGARETE\",\"POZO LA HUERTA\",\"POZO LAS TURBINAS\",\"POZO LA ESTANCIA\",\"POZO 2 LOS HERRERA\",\"POZO CARRERAS\",\"POZO PRESIDIOS\",\"POZO 2 TEPEHUANES\",\"POZO 1 TEPEHUANES\",\"POZO 3 TEPEHUANES\",\"POZO SAN JOSE DE LA BOCA\",\"POZO 1 SANTA CLARA\",\"POZO 2 SANTA CLARA\",\"POZO RAMON CORONA\",\"POZO 1  IGNACIO LOPEZ RAYON\",\"POZO 2 IGNACIO LOPEZ RAYON\",\"POZO 2 PURISIMA\",\"POZO 1 CUAUHTEMOC\",\"POZO EMILIANO ZAPATA\",\"POZO CERRO DE SANTIAGO\",\"POZO J. AGUSTIN CASTRO\",\"POZO LUIS MOYA\",\"POZO YERBANIS\",\"POZO 3 PE\\u00d1ON BLANCO\",\"POZO COVADONGA\",\"POZO 2 PEDRICE\\u00d1A\",\"POZO 1 PEDRICE\\u00d1A\",\"POZO 2 VELARDE\\u00d1A\",\"POZO VISTA HERMOSA\",\"POZO 4 CUENCAME\",\"POZO 1 CUENCAME\",\"POZO 12 DE DICIEMBRE\",\"POZO 10 DE ABRIL (SANTA CLARA)\",\"POZO HEBERTO CASTILLO\",\"POZO VICENTE GUERRERO 1\",\"POZO LA PARRILLA\",\"POZO SAN ISIDRO DE MURILLOS\",\"POZO NOMBRE DE DIOS\",\"POZO DIECISEIS DE SEPTIEMBRE\",\"POZO COL. 20 DE NOV.\",\"POZO 7 GABINO SANTILLAN\",\"POZO COL. EL CIPRES\",\"POZO TAPIAS\",\"POZO SANDIAS\",\"POZO 10 DE ABRIL\",\"POZO COL. HIDALGO\",\"POZO JUAN .B. CEBALLOS\",\"POZO NICOLAS BRAVO\",\"POZO BRUNO MARTINEZ\",\"POZO DONATO GUERRA\",\"POZO 1 SAN LUCAS DE OCAMPO\",\"POZO LEONA VICARIO\",\"POZO EL RANCHITO\",\"POZO LA SECUNDARIA\",\"POZO LAS CANCHAS\",\"POZO TOLEDO\",\"POZO LA LOMA\",\"POZO ATOTONILCO - DURANGO\",\"POZO JOSE Ma. PATONI\",\"POZO NOGALES\",\"POZO MELCHOR OCAMPO\",\"POZO FUENTE DEL LLANO\",\"POZO CIENEGA ESCOBAR\",\"POZO LAS CUESTAS\",\"POZO MIGUEL NEGRETE\",\"POZO NUEVO IDEAL I\",\"LAS MARGARITAS - DURANGO\",\"POZO CANATLAN\",\"POZO FRANCISCO I. MADERO\",\"POZO GUADALUPE VICTORIA\",\"POZO CIENEGUILLA\",\"POZO VILLA UNION 3\",\"POZO VILLA UNION\",\"POZO LA ESPERANZA\",\"POZO LAS DROGAS\",\"POZO PUERTO PINTO\",\"POZO SAN BERNARDO\",\"POZO 5 DE JULIO\",\"POZO SARDINAS\",\"POZO PUERTA DE CABRERA\",\"POZO EJ. REVOLUCION\",\"POZO VILLA HIDALGO\",\"POZO LAS NIEVES\",\"POZO DE PARQUE INDUSTRIAL TOLUCA 2000\",\"SAN ANTONIO ABAD\",\"POZO SANTA MARIA CANCHESDA\",\"SITIO No. 11 NORIA IMSS\",\"POZO TIC TI\",\"POZO 5. LAS FUENTES\",\"POZO DE INYECCION MACROPLANTA TOLUCA NORTE\",\"POZO TECOAC ATLACOMULCO\",\"POZO CERVECERIA CUAUHTEMOC MOCTEZUMA S.A. DE C.V\",\"POZO NUM. 37 OPERADO POR APAS METEPEC\",\"POZO CUATRO SURCOS SANTA MARIA RAYON\",\"POZO ALAMEDA TENANCINGO\",\"MANANTIAL EL BORBOLLON\",\"IRAPUATO-VALLE 2\",\"BERUMBO\",\"LA CANOA\",\"COL. RANCHO NUEVO\",\"RANCHO NUEVO\",\"RODEO DE AYALA\",\"18 DE MARZO\",\"BORDO BLANCO 2\",\"SAN MIGUEL OCTOPAN\",\"SAPAL 2\",\"SAPAL 1 (POZO #1)\",\"RANCHO NUEVO JESUS DEL MONTE\",\"J. REFUGIO MU\\u00d1OZ FRANCO\",\"EJIDO PUERTA DE SAN GERMAN (NICASIO BECERRA)\",\"ADOLFO MARIO ROMERO PADILLA\",\"D.C. INDUSTRIAL POZO NUEVO\",\"EJIDO MONTE NUEVO\",\"POZO EL LINDERO\",\"COMUNIDAD SAN JOSE DE LA ESTACADA\",\"RANCHO DE GUADALUPE 2\",\"VIBORILLAS\",\"EL SALITRE - ITURBIDE\",\"JAIME CONTRERAS\",\"PRESIDENCIA MUNICIPAL DE ACAMBARO 1\",\"PRESIDENCIA MUNICIPAL DE ACAMBARO 3\",\"MALAYAS 1\",\"JUMAPAA 2\",\"PRESIDENCIA MUNICIPAL DE ACAMBARO 2\",\"SALVATIERRA-ACAMBARO 1\",\"SAN JOSE\",\"LAS PE\\u00d1AS\",\"FIDEL TELLEZ SAMANO\",\"SALVATIERRA-ACAMBARO 3\",\"VALLE DE LA CUEVITA 1\",\"VALLE DE LA CUEVITA 3\",\"JAUREGUI POZO NUEVO\",\"SAN ISIDRO DE LA CONCEPCION\",\"LA CONCEPCION (POZO 2 COL. 19 DE ABRIL)\",\"SAN LUIS REY\",\"SANTA MARIA DEL REFUGIO\",\"CONJUNTO RESIDENCIAL PLAYA MAR II\",\"GALON SOBERON\",\"POZO ZIHUATANEJO TERMINAL DE AUTOBUSES\",\"IXTAPA 1\",\"POZO GENARO GALEANA\",\"MANANTIAL AMAJAC\",\"POZO GRANDE\",\"POZO BROTANTE\",\"POZO EL MEXE\",\"POZO ULAPA MELCHOR OCAMPO\",\"MANANTIAL CERRO COLORADO\",\"POZO EL TORRION\",\"MANANTIAL TEZONTEPEC\",\"MANANTIAL TLACOTLAPILCO\",\"POZO EL MEZQUITE II\",\"POZO CHICAVASCO\",\"POZO S.A.P. METZTITLAN\",\"MANANTIAL LOS CANGREJOS/VENTOQUIPA\",\"POZO SANTIAGO TEXTIL\",\"POZO MICHIMALTONGO\",\"MANANTIAL EL GEISER\",\"POZO CALTIMACAN\",\"POZO LA ESTANCIA 2\",\"POZO ORIZABITA\",\"POZO CAPULA\",\"POZO MOHAI\",\"MANANTIAL TOLANTONGO\",\"SAN PABLO TETLAPAYAC\",\"POZO ZIMAPAN 1\",\"POZO ZIMAPAN 2\",\"POZO MARAVILLAS\",\"POZO SAN BARTOLO OZOCALPAN\",\"CARDONAL\",\"SAN JOSE PIEDRA GORDA\",\"SAN JOSE BOJAY\",\"POZO EL LLANO SEGUNDA SECCION\",\"POZO SAN FRANCISCO BOJAY COLONIA\",\"POZO SANTA ANA AHUEHUEPAN\",\"POZO SANTA MARIA DAXTHO\",\"POZO PEDRO MARIA ANAYA\",\"POZO JOSE MARIA PINO SUAREZ\",\"POZO PASO BLANCO\",\"POZO DE LA COMUNIDAD DE LOS DURON\",\"PALO ALTO POZO N\\u00ba 2\",\"POZO JALTICHE DE ABAJO\",\"POZO SANTA MARIA DE GALLARDO\",\"CALVILLO POZO No. 1 INDEPENDENCIA\",\"POZO SAN TADEO\",\"POZO TAPIAS VIEJAS\",\"POZO 1 VILLA JUAREZ, ASIENTOS\",\"POZO GRACIAS A DIOS\",\"SAPAZ 1\",\"LAURELES (POZO CD. DEL SOL II)\",\"ORGANISMO OPERADOR TINGUINDIN\",\"POZO RODEO DE SAN ANTONIO\",\"COMUNIDAD EL ARCO\",\"EJIDO EL GRANJENAL\",\"COMUNIDAD SAN PEDRO\",\"SANTA FE\",\"SAN ISIDRO 1\",\"EJIDO BELLAS FUENTES\",\"TIRINDARO\",\"CIUDAD UNIVERSITARIA\",\"POZO VILLA MAGNA 3\",\"CERRITO ITZICUARO (A.P.)\",\"POZO COMAPAT\",\"EJIDO HUARACHA\",\"COMUNIDAD LAZARO CARDENAS\",\"POZO INDEPENDENCIA\",\"EJIDO YEREGE\",\"NORIA LOS TABLEROS\",\"MAGALLANES\",\"LA VIRGEN 1\",\"EL FRESNO 1\",\"UNIDAD DEPORTIVA\",\"POZO MIL CUMBRES\",\"POZO SAN AGUSTIN DEL PULQUE\",\"POZO HUECORIO\",\"POZO EL RODEO\",\"CULTURA 1\",\"POZO PRIETO CRISPIN\",\"POZO ATOTONILCO\",\"POZO EL LOMILLO DEL RIO\",\"POZO ACAPONETA (SISTEMA TECUALA-NOVILLERO)\",\"LA POBLANA\",\"MORATILLA 4\",\"XOXTLA 1\",\"CLAUDIA SANCHEZ REGULES\",\"DELIA ESCALANTE DE SANCHEZ\",\"POZO AP LOCALIDAD DE AHUEHUETZINGO\",\"LA LOMA\",\"TEPOYANES 4\",\"JOSE ROSENDO FCO. CORTES HDZ.\",\"SAN ANTONIO CHICHICUAUTLA, SPR DE RI\",\"BLANCA LILIA LENDLE RUGARCIA\",\"MPIO. CUAYUCATEPEC\",\"MUNICIPAL S.J. TEPETEOPAN\",\"OOAP DE TEHUACAN AEROPUERTO 3\",\"MPIO. ZINACATEPEC\",\"MUNICIPAL SAN JOSE MIAHUATLAN\",\"SAN BALTAZAR TETELA POZO CENTRO\",\"SAN BALTAZAR TETELA POZO DE LA \\\" Y\\\" GRIEGA\",\"COLONIA UNION ANTORCHISTA\",\"BALCONES DEL SUR SOAPAP\",\"BALCONES DEL SUR SOAPAP 2\",\"SOCIEDAD DOS BARRANCAS DE ACTEOPAN MORELOS\",\"SOCIEDAD EL ROSARIO SPR DE RI\",\"POZO 58-A SAN PEDRO AHUACATLAN\",\"POZO 5-A ARBOLEDAS NO. 6 (JAPAM)\",\"POZO II  BETANIA\",\"POZO 44 BORDO BLANCO\",\"POZO 57 LA LLAVE ASJR-5\",\"HORNO DE CAL\",\"POZO 7 NUEVOS HORIZONTES II\",\"POZO 9 NUEVOS HORIZONTES II\",\"POZO 2 DE LA ZONA DE CAPTACION AEROPUERTO (ANTIGUA)\",\"POZO 5 DEL SISTEMA DE AGUA POTABLE DE TULUM\",\"POZO 6 DEL SISTEMA DE AGUA POTABLE DE TULUM\",\"POZO PLAYA DEL CARMEN\",\"POZO 3 DEL SISTEMA DE AGUA POTABLE DE FELIPE CARRILLO PUERTO\",\"POZO 5 DEL SISTEMA DE AGUA POTABLE DE PLAYA DEL CARMEN\",\"POZO 1 (COLEGIO DE BACHILLERES) DEL SISTEMA DE AGUA POTABLE DE JOSE MARIA MORELOS Y PAVON\",\"POZO 1 DEL SISTEMA DE AGUA POTABLE DEL EJIDO CAFETAL-LIMONES\",\"POZO 1 COZUMEL\",\"POZO 2 COZUMEL\",\"POZO 3 COZUMEL\",\"POZO 4 COZUMEL\",\"POZO 5 COZUMEL\",\"SAUZ DE CALERA\",\"EL SALITRAL\",\"POZO NO. 17 LOS METATES (CNA-77)\",\"POZO NO. 18 SAN PEDRO (CNA-731)\",\"POZO NO. 3 CEDRAL (CNA-755)\",\"POZO VANEGAS\",\"SAN JOSE DE IPOA MH18\",\"ESTACION WADLEY\",\"POZO NO. 3 LA MASITA\",\"POZO TIERRA NUEVA\",\"EL FUERTE\",\"SANTO DOMINGO\",\"BALNEARIO SAN DIEGO\",\"POZO NO. 504 (CNA-12-504)\",\"POZO NO. 3 VILLA DE REYES (CNA-12-213)\",\"POZO NO. 2 VILLA DE REYES (CNA-12-211)\",\"POZO SAN FRANCISCO EL HUNDIDO\",\"OJO CALIENTE 1\",\"OJO CALIENTE 2\",\"DELEGACION VILLA DE POZOS\",\"FRACC. VILLA JARDIN\",\"INTERNADO DAMIAN CARMONA\",\"MU\\u00d1OZ\",\"POZO PERIFERICO 1\",\"CABECERA MUNICIPAL\",\"POZO NO. 1 VENADO (NO. 598)\",\"POZO EL EPAZOTE (NO. 632)\",\"POZO RANCHO SEDARH (POZO NO. 2)\",\"POZO LA ZAMORILLA (CNA-72)\",\"POZO BOCAS (NO. 35)\",\"POZO AGUA POTABLE SAN JUAN SIN AGUA\",\"LA CHILERA\",\"EL REFUGIO CNA - 22\",\"POZO SAN DIEGO\",\"EJIDO EL REFUGIO\",\"LA MEZCLITA\",\"POZO EMILIANO ZAPATA 2\",\"POZO TECOMATES\",\"POZO EL PESCADITO\",\"PALMA DEL SALTO\",\"LA MAROMA - MINA\",\"LOS CATORCE\",\"GRANJAS LA FLORIDA CNA-11-394\",\"EL HUIZACHE CNA-11-248\",\"LA ZORRA CNA-11-274\",\"FRACC. LA FLORIDA CNA-11-299\",\"REAL DEL POTOSI CNA-11-304\",\"SAPAET LAZARO CARDENAS\",\"SAPAET BELLOTA 53\",\"SAPAET FRANCISCO I MADERO\",\"SAPAET MIGUEL HIDALGO\",\"SAPAET LEANDRO ROVIROSA\",\"POZO HUAPACAL 1A SECC.\",\"GASOLINERA ORSAN\",\"SAPAET CHONTALPA 1\",\"HUASTECA\",\"1.- CUAUHTEMOCZIN\",\"2- CA\\u00d1ALES\",\"3.- MECATEPEC\",\"4.- SAPAET C-11\",\"SAN PABLO DEL MONTE (CENTRO)\",\"CUAMILPA\",\"TLAXCO I\",\"ESPA\\u00d1ITA - EL CARMEN\",\"ESPIRITU SANTO\",\"COL. XICOHTENCATL\",\"MESA REDONDA\",\"CLOROBENCENOS\",\"SAN JUAN BAUTISTA\",\"LA VIRGEN\",\"GPE. VICTORIA\",\"TEQUEXQUITLA 2 Y/O (BARRIO GUADALUPE)\",\"QUIAHUIXTLAN\",\"POZO SAN JOSE ATOYATENCO\",\"POZO SAN MIGUEL XOCHITECATITLA\",\"POZO BUENAVENTURA\",\"POZO1. POTRERO\",\"POZO 2 SAN MARCOS CONTLA\",\"POZO 1 SAN MARCOS CONTLA\",\"POZO 6 IXTACUIXTLA. SAN MIGUEL LA PRESA\",\"POZO  NATIVITAS\",\"SAN BARTOLOME TENANGO\",\"POZO 2 ZACATELCO. BARRANCA SANCHEZ\",\"POZO SAN VICENTE XILOXOXITLA\",\"LORETO\",\"VILLA GONZALEZ ORTEGA\",\"VILLA DE COS\",\"GRAL. PANFILO NATERA\",\"SAN PABLO\",\"ESTEBAN S. CASTORENA\",\"LA HONDA\",\"SAN MIGUEL\",\"OJOCALIENTE\",\"LOS ARELLANO\",\"MARAVILLAS\",\"TEPETONGO\",\"ERMITA DE GUADALUPE\",\"POZO NO.7 JEREZ\",\"LA CAPILLA\",\"MALPASO  (POZO)\",\"POZO 2 AGUA POTABLE SISTEMA BENITO JUAREZ\",\"POZO 1401 GRANJA MARIA TERESA\",\"POZO 524 AGUA POTABLE RANCHO NUEVO (SUSTITUTO POZO 669 RANCHO NUEVO)\",\"MORELOS\",\"NORIA DE ANGELES\",\"ENRIQUE ESTRADA\",\"POZO No 2 EL LAMPOTAL\",\"SAUCEDA DE LA BORDA\",\"FRACC. CHE GUEVARA\",\"CIENEGUITAS\",\"SAN JERONIMO\",\"BA\\u00d1UELOS\",\"TRANCOSO\",\"LA QUEMADA\",\"TENANGO\",\"PINOS\",\"POZO SANTA BARBARA\",\"MELCHOR OCAMPO\",\"MAZAPIL\",\"CONCEPCION DEL ORO\",\"EL SALVADOR 2 (EL SALVADOR SAL008)\",\"EL SALVADOR 1 (TANQUE NUEVO SAL003)\",\"JAULAS DE ARRIBA\",\"EL SITIO\",\"EL OBRAJE\",\"MIGUEL AUZA\",\"VILLA HIDALGO\",\"EL SOTOLILLO\",\"LA JOYA\",\"JUAN ALDAMA\",\"CAMACHO 2 (ESTACION OPAL CNA 006)\",\"CAMACHO 1 (SAN MARCOS)\",\"ESTANCIA LA COLORADA\",\"GUADALUPE DE LAS CORRIENTES\",\"CA\\u00d1ITAS DE FELIPE PESCADOR\",\"RANCHO GRANDE\",\"POZOS DE CARRILLO\",\"PANUCO\",\"SAN JOSE DEL RIO\",\"VICENTE GUERRERO 2\",\"EMILIANO ZAPATA\",\"SAIN ALTO\",\"FELIPE CARRILLO PUERTO (EL ARENAL)\",\"SANTA ELENA\",\"EL FUERTE\",\"GENERAL FRANCISCO R MURGUIA\",\"EL CARDITO 2 (BANDERITAS)\",\"EL CARDITO 1  (RANCHO NUEVO CNA041)\",\"FRANCISCO I MADERO\",\"SIERRA VIEJA\",\"EL CAPIROTE\",\"CARCAMO DE BOMBEO\",\"CHUPADEROS\",\"POZO 581 PARDILLO (SUSTITUTO POZO NO. 2007 AGUA POTABLE SANTA ANA)\",\"POZO 6 TABASCO\",\"APULCO\",\"NOCHISTLAN\",\"LUIS MOYA\",\"HUANUSCO\",\"POZO RN-11 AV. LEANDRO VALLE S/N. COL. DEL MAR\",\"POZO RN-18E CAMINO DE OPERACION SUR-RAMAL NETZAHUALCOYOTL\",\"POZO RPT-19 AUTOPISTA PE\\u00d1ON-TEXCOCO\",\"POZO RPT-16 AUTOPISTA PE\\u00d1ON-TEXCOCO\",\"POZO RFC-3 CAMINO _OP_NORTE LOS REYES-ECATEPEC\",\"POZO RFC-15-BIS CAM_OP_NORTE LOS REYES\",\"POZO RT-28-BIS PUEBLO DE TEOLOYUCAN\",\"POZO RT-31 PUEBLO DE TEOLOYUCAN\",\"POZO RTIZ-3 CARR.FED.MEXICO-PACHUCA KM. 50+000\",\"SAN ANDRES METLA\",\"POZO SAN MATEO TEZOQUIAPA (MIRAFLORES)\",\"SAPAC SECTOR NO. 4 CHAMILPA UNIVERSIDAD\",\"PLANCHUELAS\",\"POZO LAS MORAS\",\"POZO NO. 3 DE TETELCINGO (REFRIGERACION DE CUAUTLA)\",\"BONANZA\",\"TETECALITA-CHICONCUAC\",\"EL TERRERO (RIEGO AGRICOLA)\",\"POZO LA ALBORADA (CAMPESTRE ASTURIANO)\",\"POZO TLAXIACO\",\"POZO HUAJUAPAN\",\"POZO SAN AGUSTIN ATENANGO\",\"POZO MARISCALA DE JUAREZ\",\"POZO CALIHUALA (BALSAS)\",\"POZO CUALIATL\",\"POZO MIRADOR\",\"POZO EL ZARCO DE YAUTEPEC\",\"POZO 2 DE LA TOMA 3\",\"POZO NORIA SAN MARCOS ARTEAGA\",\"POZO NORIA TAMAZULA\",\"POZO TIPO NORIA ABAJO LAS CAMPANAS\",\"POZO SAN AGUSTIN\",\"POZO LAS MARIAS\",\"POZO 47 LAS PALMAS\",\"POZO RODEO\",\"POZO 1 NAZAS\",\"POZO BENITO JUAREZ\",\"POZO PASO NACIONAL\",\"POZO LAZARO CARDENAS II\",\"POZO 4983 EL VIDO (LA SOCIEDAD)\",\"POZO 2 RANCHO LAS HABAS\",\"POZO 1 RANCHO GRANDE\",\"POZO VICENTE SUAREZ\",\"POZO 2 LOS SABINOS\",\"POZO 1022 CD. JUAREZ\",\"POZO 1 CD. JUAREZ\",\"POZO LA TORRE\\u00d1A (POZO TRANSPORTE)\",\"POZO 5 RANCHO MI SUE\\u00d1O\",\"POZO 4101 SAN FERNANDO\",\"POZO 14 SAN IGNACIO (SIDEAPA)\",\"POZO 32 PANCHO VILLA (SIDEAPA)\",\"POZO 6 CASA DE LA CULTURA (SIDEAPA)\",\"POZO 5 TRUJANO/URREA\",\"POZO 7 LIBRES PICARDIAS\",\"POZO COL. VICTORIA (BOMBA 12 SIMAS)\",\"POZO 1254 (BOMBA 72 SIMAS)\",\"POZO 4074 (BOMBA 50 SIMAS)\",\"POZO 3704 (BOMBA 31 SIMAS)\",\"POZO 336 (BOMBA 35 SIMAS)\",\"POZO EL QUEMADO\",\"POZO 2718 NAZARENO\",\"POZO CNA 4840\",\"POZO BELLA UNION\",\"POZO 1 LA ESPERANZA\",\"POZO 369 ALBIA\",\"POZO EL CANARIO\",\"POZO 1 EL CUIJE\",\"POZO CAMPO DE TIRO-STMV\",\"POZO NUEVO SAN ISIDRO\",\"POZO ALAMITO\",\"POZO 701 EL FRESNO DEL NORTE\",\"POZO CALERAS DE LA LAGUNA\",\"POZO ADM\",\"POZO 529 GATHO\",\"POZO EL CARI\\u00d1O\",\"POZO GILITA 2\",\"POZO SAN PABLO\",\"POZO SAN ISIDRO\",\"POZO NUEVA VICTORIA\",\"MANANTIAL RIO CHILA\",\"MANANTIAL POZA LA VIRGEN\",\"UNINAJAB\",\"SANTA RITA\",\"INDEPENDENCIA\",\"SAPAM MARGARITAS\",\"EMBOTELLADORA AGUA ELECTRON\",\"POZO BERRIOZABAL\",\"RANCHO GIUSEPPE CONSTANZO\",\"QUINTA 2 POTRILLOS\",\"HUIXTLA\",\"SAPAM MAZATAN\",\"COAPATAP\",\"METAPA\",\"FINCA SANTA CRUZ\",\"MIGUEL ALEMAN\",\"TACSA, RANCHO SAN ANTONIO\",\"RANCHO LOS TOROS\",\"MACAYO 3RA. SECCION\",\"SANTA TERESA 2A. SECCION\",\"EST. JUAREZ\",\"CRAS CUENCA PAPALOAPAN (POBL. NOPALTEPEC)\",\"EJIDO XALTEPEC (POBL. XALTEPEC)\",\"H. AYTO. DE PEROTE (POBL. ZALAYETA)\",\"COMISION REGIONAL DE AGUA Y SANEAMIENTO POZO 8\",\"COMISION REGIONAL DE AGUA Y SANEAMIENTO DEL PUERTO DE VERACRUZ (BETO AVILA POZO 16-A)\",\"CMASA EL CONCHAL\",\"EMBOTELLADORA TROPICAL, S.A. DE C.V. (PEPSI-COLA)\",\"H. AYUNTAMIENTO CONSTITUCIONAL ORIZABA (POBLADO EL TREBOL)\",\"CRYOINFRA\",\"CMAPS NANCHITAL (P-KM 34-2)\",\"COMISION MUNICIPAL DE AGUA POTABLE Y SANEAMIENTO DE COATZACOALCOS (POZO ALLENDE No. 1)\",\"DOS MATAS SOC. DE PROD. RURAL DE R. L. (P-2)\",\"O OP CD. CARDEL (COL. V. LOPEZ P-3)\",\"SAS (FERROSUR)\",\"O OP LOC TIERRA BLANCA (P-1)\",\"POZO 18 EJIDO SANTA ROSA\",\"POZO 21 EJ. EL PROGRESO\",\"POZO 212 JORGE VALENTIN BERNAL\",\"POZO 70 ALEJANDRO BARBA\",\"ANGELICA ACEVEDO\",\"P1MRP\",\"POZO 14 JORGE GUEVARA\",\"POZO 6 HUERTA GUEMEZ\",\"POZO 9 ROTOPLAS BLANCO\",\"POZO 13 RANCHO ERICO\",\"POZO 27 EL OJITO\",\"POZO 1 HIELO Y AGUA DE VICTORIA\",\"POZO 25 COMAPA PLANTA TRATADORA\",\"POZO 54 LOS COMPADRES\",\"POZO 81 HUERTA EL CIELO\",\"POZO 76A RANCHO LOS NARANJOS\",\"POZO 139 A PROFE LIRA\",\"POZO 112 CASA HOGAR MAMA PAULITA\",\"POZO 147 EJIDO SAN PEDRO\",\"POZO 117A COMAPA GONZALEZ\",\"EJ. EL MOQUETITO\",\"EJ. MIGUEL HIDALGO\",\"EJ- LAZARO CARDENAS\",\"RANCHO LA UNION\",\"POZO CONDORSITA N. 1\",\"POZO TOLUQUILLA 7\",\"POZO ELVIRA NU\\u00d1EZ\",\"POZO JOSE CRUZ HERNANDEZ\",\"POZO NICOLAS JIMENEZ MORENO\",\"POZO JUAN CARLOS MINAN VEGA\",\"POZO RANCHO ALEGRE\",\"POZO RANCHO LA LOMA\",\"POZO GRUPO BARCEL\",\"POZO 62. (SARH 344)\",\"POZO NO. 369. QUIMIKAO 1R\",\"POZO TATEPOSCO 2\",\"POZO LAS GRANJAS\",\"POZO COYOTES\",\"POZO NO. 74 CNA\",\"POZO EL MEZQUITE\",\"POZO AMPARO MACIAS NAVARRO\",\"POZO NO. 33. PLAN DE ADOBES\",\"POZO NO. 100. TEPATITLAN DE MORELOS\",\"POZO INULINA Y MIEL DE AGAVE\",\"POZO 4 CH-103. JOCOTEPEC\",\"POZO 3 CH-223. SIMAPA. SAN JUAN COSALA\",\"POZO 2 CH-37. CHAPALA (HOTEL MONTECARLO)\",\"POZO LA NANTESANA\",\"POZO NO. 760\",\"POZO ATOTONILCO MPIO 1\",\"POZO CDC (PATRON SPIRITS S.A. DE C.V.)\",\"POZO PARQUE ACUATICO SANTA RITA\",\"POZO NO. 687\",\"POZO UNIDAD DEPORTIVA OCOTLAN\",\"POZO 34. ATEQUIZA 2\",\"POZO SUR POBLACION TAPALPA\",\"POZO RADIAL SEAPAL\",\"POZO SEAPAL 9\",\"POZO 6\",\"POZO 3 OJO DE AGUA\",\"CUITACA\",\"POZO EJIDO MIGUEL HIDALGO\",\"MILPILLAS\",\"PARQUE INDUSTRIAL DE NOGALES\",\"LAS CHIMENEAS\",\"POZO BLOQUERA MADERAS Y CONCRETOS\",\"POZO TUBUTAMA\",\"POZO EL MEZCALITO\",\"POZO EJIDO SAN JOSE\",\"POZO EJIDO SAN MANUEL\",\"POZO EL CALLEJON\",\"POZO ESTACION LLANO\",\"POZO LOS HOYOS\",\"POZO CUMPAS\",\"POZO SAHUARIPA SA-04\",\"LA POZA\",\"EL VAPOR\",\"POZO FABRICA DE LOS ANGELES\",\"POZO SAUZ DE URES\",\"SAN PABLO DE ACONCHI\",\"POZO ARIZPE\",\"POZO TAHUICHOPA\",\"POZO BACOACHI\",\"NUEVO POZO CHINAPA\",\"POZO BENJAMIN HILL\",\"POZO NO. 2 EL GUEYPARIN\",\"POZO VILLA DEL REAL\",\"POZO BAGOTES Z12\",\"EL REAL DEL CATORCE\",\"HACIENDA DE LA FLOR\",\"POZO VIVEROS DE CESUES\",\"EL CAMPITO\",\"POZO NO. 12V\",\"LAS NORIAS\",\"RANCHO CERRO DE LAS HORMIGAS\",\"TECORIPA\",\"POZO TEPACHE\",\"POZO DIVISADEROS\",\"VI\\u00d1EDO LOS ARROYOS\",\"CAMPO SAN JOSE\",\"POZO SANTA ANA\",\"PILA LOMA DE GUADALUPE\",\"POZO LA AURORA\",\"COICOBA-JAMBIOLABAMPO\",\"POZO #2 ETCHOJOA\",\"POZO 504\",\"POZO BACUM\",\"POZO PUEBLO YAQUI POZO NO. 3\",\"GRUPO GAMEZ\",\"POZO SAN JOSE BACUM\",\"CABORA\",\"EJIDO EL SABINO\",\"POZO TESOPACO\",\"POZO CASA BLANCA\",\"POZO SAN MIGUEL DE HORCASITAS\",\"POZO 122\",\"POZO NO. 1 BOCA ABIERTA\",\"POZO 2 BIS\",\"POZO EL VALIENTE\",\"LOS ARRIEROS\",\"POZO EL DESTIERRO\",\"LA COLORADA\",\"POZO CARBO\",\"EL VERANITO\",\"SIREBAMPO\",\"POZO DIF\",\"AGIABAMPO\",\"POZO EJIDO TENIENTE JUAN DE LA BARRERA\",\"OOMAPAS No. 5\",\"OOMAPAS No 2\",\"OOMAPAS 5 PE\\u00d1ASCO\",\"OOMAPAS 6 PE\\u00d1ASCO\",\"EJIDO CAMPODONICO\",\"SAN MANUEL\",\"EJIDO LA PRIMAVERA\",\"EL VENTARRON\",\"POZO QUITOVAC\",\"PUBLICO URBANO SONOITA\",\"EJIDO PAPAGOS\",\"CERRO COLORADO\",\"CAMPO CORPUS\",\"CAMPO SAN ENRIQUE\",\"POZO CAMPO TODOS SANTOS\",\"CAMPO LOS APACHES\",\"LA MORA\",\"SAN FELIPE DE JESUS\",\"BAVIACORA 1\",\"EL MAZOCAHUI\",\"URES.\",\"TOPAHUE\",\"EL MOLINITO\",\"POZO SR1A (CNA 105)\",\"MANEADERO 1 (POZO SALON EJIDAL)\",\"MANEADERO 3 (POZO CESPE)\",\"OJOS NEGROS 1 (POZO 04A-CNA- B4)\",\"OJOS NEGROS 3 (POZO CNA 60/08)\",\"ENSENADA 1 (POZO CESPE)\",\"POZO NO. 273\",\"POZO NO. 160\",\"NORIA NO. 22\",\"POZO SR-2 (CESPE)\",\"POZO SR - 1 (EJIDO BENITO JUAREZ)\",\"POZO SR-3 (POZO CNA-04-PC)\",\"CAMALU 1 (POZO No 2)\",\"CAMALU 3 (POZO CNA2B)\",\"POZO VG-1 (CNA-19)\",\"POZO VG-2 (CNA-04A-001)\",\"POZO VG-3A (CNA-150)\",\"SAN QUINTIN 1 (POZO UABC)\",\"SAN QUINTIN 3 (POZO EJIDO NVO MEXICALI)\",\"SAN SIMON 1 (POZO No 10 LOS PINOS)\",\"GOLFO DE SANTA CLARA\",\"LOTE NO. 3-A, COL. BOJORQUEZ\",\"POZO NO. 19 CH. ELIAS\",\"PARCELA NO. 22, EJIDO LAGUNITAS\",\"VALLE DE SAN LUIS RIO COLORADO\",\"SISTEMA DE INFILTRACION DE AGUAS RESIDUALES 1\",\"SISTEMA DE INFILTRACION DE AGUAS RESIDUALES 2\",\"POZO NO. R-89 EJIDO HERMOSILLO\",\"POZO SR 2-A (NORIA)\",\"POZO NO. 1  ULLOA\",\"LOTE NO. 5 MZA 81 AV REVOLUCION Y CALLE TERCERA\",\"SAN TELMO 1 (POZO EX EJIDO SINALOA)\",\"SAN TELMO 2 (POZO EJIDO DIAZ ORDAZ)\",\"POZO 10\",\"POZO PB-14\",\"POZO NO. 2 (CASCABEL)\",\"POZO NO. 3\",\"POZO 15\",\"POZO CNA 7\",\"LOMA DE RODRIGUERA\",\"POZO CNA 197 COFRADIA NAVOLATO\",\"POZO CNA RC-5\",\"POZO CNA 135\",\"LAS TRANCAS\",\"BOCA DE ARROYO (CNA-402)\",\"POZO CNA-159\",\"POZO CNA 188\",\"POZO CNA 1\",\"POZO #1 BASE 10\",\"POZO CNA EL VARAL\",\"LA ENTRADA\",\"POZO CNA-350 BOCA DE ARROYO\",\"POZO 12 LAS QUINTAS\",\"EL DORADO, LA CRUZ DE NAVITO\",\"QUILA\",\"TABALA\",\"EL LIMONCITO\",\"EL ROBLE\",\"EJIDO LA CRUZ\",\"EJIDO DIMAS\",\"PIAXTLA DE ABAJO\",\"SAN IGNACIO\",\"POZO CNA 82\",\"WALAMO (CNA-013)\",\"POZO VILLA UNION\",\"POZO CNA 03\",\"POZO CNA 221\",\"POZO CNA-264 (ALHUEY)\",\"POZO CNA-268 (AGUSTINA RAMIREZ)\",\"SAN ANTONIO - (SINALOA)\",\"POZO SAN LORENZO CACAOTEPEC\",\"POZO HUITZO\",\"2025-T8 SAP UNION ZAPATA\",\"POZO LA LUZ 5. CODIPSA 37\",\"POZO No. 47 Codipsa 28 MAGDALENA ZAHUATLAN\",\"POZO EL SAUZ\",\"SANTA LUCIA OCOTLAN\",\"MAGDALENA OCOTLAN\",\"SAN JOSE DEL PROGRESO\",\"OCOTLAN DE MORELOS\",\"SAN MARTIN LOS CANSECO\",\"LAGUNA CHABELA\",\"OTOCH MA AX YETEL KOOH 2\",\"POZO 1 DEL SISTEMA DE AGUA POTABLE CHEMAX\",\"POZO UADY (BEBIDAS PURIFICADAS DEL SURESTE, S.A. DE C.V. AGUAS ARRIBA)\",\"POZO LAS AMERICAS II (BEBIDAS PURIFICADAS DEL SURESTE, S.A. DE C.V.)\",\"POZO 13 DE LA PLANTA MERIDA III DE LA JAPAY\",\"POZO 6 DE LA PLANTA TEMOZON NORTE DE LA JAPAY\",\"COSGAYA\",\"KOMCHEN (HARINERA DE YUCATAN, S.A. DE C.V. AGUAS ABAJO)\",\"SANTA MARIA YAXCHE\",\"POZO 25 (HARINERA DE YUCATAN, S.A. DE C.V. AGUAS ABAJO)\",\"DZITYA\",\"POZO 1 DE SIERRA PAPACAL\",\"POZO 1 DEL SISTEMA DE AGUA POTABLE ESPITA\",\"POZO 3 (SANTA CRUZ) DEL SISTEMA DE AGUA POTABLE DE TIZIMIN\",\"POZO 4 DEL SISTEMA DE AGUA POTABLE DE VALLADOLID\",\"POZO 1 DEL SISTEMA DE AGUA POTABLE DE SOTUTA\",\"EL CORCHITO\",\"CHELENTUN\",\"POZO 1 DEL SISTEMA DE AGUA POTABLE DE TICUL\",\"CENOTE YAXBACALTUN\",\"ANILLO DE CENOTES DE YUCATAN 5\",\"POZO 5 DE LA PLANTA MERIDA II DE LA JAPAY\",\"POZO 1 DE LA PLANTA MERIDA III DE LA JAPAY\",\"POZO 1 DE LA PLANTA MERIDA II DE LA JAPAY\",\"ITZINCAB\",\"OBSERVATORIO CNA\",\"POZO 10 CENTRO DEPORTIVO DEL SUR (COMPA\\u00d1IA EMBOTELLADORA DEL SURESTE S.A. DE C.V. AGUAS ARRIBA)\",\"POZO 2 DE LA PLANTA MERIDA I DE LA JAPAY\",\"POZO 20 DE LA PLANTA MERIDA I DE LA JAPAY\",\"POZO 1 DEL SISTEMA DE AGUA POTABLE HUNUCMA\",\"POZO 1 DEL SISTEMA DE AGUA POTABLE DE CELESTUN\",\"POZO 2 DEL  SISTEMA DE AGUA POTABLE DE PETO\",\"BACA\",\"POZO 2 DZITAS\",\"POZO 2 OPICHEN\",\"POZO 1 SAN MATEO OXKUTZCAB\",\"POZO 1 TZUCACAB\",\"POZO 2 TUNKAS\",\"POZO 1 TAHDZIU\",\"POZO 1 TAHDZIBICHEN\",\"POZO MOTUL\",\"POZO 3 DEL SISTEMA DE AGUA POTABLE DE UMAN\",\"CUZAMA\",\"TIXKOKOB\",\"ACANCEH\",\"AKIL\",\"CACALCHEN\",\"CANSAHCAB\",\"CAUCEL\",\"CHEMAX\",\"CHICXULUB PUEBLO\",\"CHOCHOLA\",\"CHOLUL\",\"CUZAMA.\",\"DZAN\",\"HALACHO\",\"HOCABA\",\"HOCTUN\",\"HOMUN\",\"HUHI\",\"KANASIN\",\"KINCHIL\",\"MANI\",\"MAXCANU\",\"MUNA\",\"POZO IZAMAL\",\"POPOLA\",\"TEABO\",\"TECOH\",\"TEKANTO\",\"TEKAX DE ALVARO OBREGON\",\"TEKIT\",\"TELCHAC PUEBLO\",\"TEMAX\",\"TEMOZON\",\"TETIZ\",\"TIMUCUY\",\"TIXCACALCUPUL\",\"TIXKOKOB.\",\"TIXPHEUAL\",\"UAYMA\",\"POZO 2 PISTE\",\"XOCCHEL\",\"YAXCABA\",\"ACUIFERO MINA NL POZO No, 10 SADM\",\"HACIENDA DOLORES TD 01 (POZO COMUNITARIO)\",\"POZO DE AGUA Y DRENAJE No. 9 CERRITOS\",\"EJIDO SANTA ISABEL Y DOLORES (TOMA DOMICILIARIA POZO COMUNITARIO)\",\"POZO SAN JERONIMO II (SADM)\",\"POZO HOSPITAL CIVIL II (ROTONDA) MITRAS MONTERREY\",\"EJIDO EL CALVARIO (POZO COMUNITARIO)\",\"POZO RANCHO NOGALITOS-RAYMUNDO TREVI\\u00d1O-EJ. LA LAGUNA (RED DE REFERENCIA)\",\"L-343 (EJIDO ELDIEZ)\",\"L-363 - B (COMUNIDAD EL CARMEN DE LOS ELIZONDO)\",\"L-310 (COMUNIDAD SAN MANUEL)\",\"L-305 (EJIDO OJO DE AGUA LAS CRUCESITAS)\",\"HACIENDA MEXIQUITO POZO 01\",\"COMUNIDAD LOS POCITOS\",\"COMUNIDAD LA REFORMA\"],\"lat\":[22.20887,21.99958,22.36685,22.18435,23.45138,23.46493,23.4746,22.8905,23.799861,23.824722,23.94632,23.807347,23.97374,23.80554,23.74221,25.13549,25.2401,25.5047,26.2279,26.24466,26.30176,26.88679,26.85661,27.3359,27.9193,27.82175,27.7335,27.62943,27.5469,27.5281,27.4703,27.8332,22.902244,24.13871,24.099,24.08122,24.08008,24.05496,24.04636,24.0301,24.01131,23.992694,23.97425,24.05342,23.96589,23.96004,23.96127,23.93433,23.94544,23.315977,23.14838,23.06715,18.1868,19.74566,19.77364,19.65788,19.63013,19.52958,19.27276,19.52199,19.74728,19.74251,20.00898,20.10319,20.1959,20.14573,20.02983,20.321355,20.37721,18.648749,18.93264,18.6058,18.77386,17.83397,17.94648,17.89228,19.67761,31.54709,31.34143,31.27197,30.15929,30.29047,30.37578,30.26354,29.03065,28.7217,28.58134,28.426111,28.355833,28.41368,28.33,28.391111,28.270833,29.48187,29.06838,28.23409,28.42294,28.99189,28.15061,30.74747,31.05437,31.37659,31.55764,31.31058,26.895,26.75179,28.069779,26.91534,27.11688,27.7325,27.86334,28.424252,25.26437,25.43041,25.91717,25.28887,25.29527,25.26241,25.61108,25.58455,25.49529,25.43227,25.44533,27.07335,27.02141,26.60065,25.45353,25.63039,25.62313,25.66383,25.67093,25.76645,25.71831,25.60186,25.59078,25.498,25.51958,25.48861,25.4889,25.47734,25.43984,25.4402,25.43402,25.40617,25.44787,25.41228,25.33876,25.53829,25.57514,25.6075,25.65501,26.991111,19.30209,19.16797,19.20459,19.053861,19.08445,18.75098,19.02129,18.53648,18.90683,18.84347,18.82877,19.20004,19.05583,19.0665,19.17448,18.78657,19.22969,19.03872,19.03032,19.127083,19.12627,19.0126,18.99686,18.98215,18.99035,25.91927,25.93558,26.32283,25.69362,23.47888,25.04651,25.04395,25.04969,25.03796,25.03166,25.09101,25.16548,25.31562,25.28245,25.33097,25.34377,25.33631,25.32961,24.47972,24.47431,24.18502,24.22206,24.17523,24.24767,24.28914,24.42197,24.53926,24.60663,24.55178,24.67848,24.79006,24.90714,25.12443,25.11561,25.06215,25.03684,24.85957,24.8579,24.70461,24.55637,25.05818,23.72654,23.77516,23.68358,23.85314,24.05297,24.04655,23.98935,24.05443,23.9961,25.2468,25.0322,24.15877,24.20678,24.39102,24.52291,24.61722,24.72936,24.69971,24.77588,24.78529,24.78859,24.80296,24.78616,24.84292,24.87891,24.98567,24.93752,24.84937,25.61184,24.78359,25.00915,24.90358,25.07573,24.53437,24.4068,24.45596,24.05253,23.98723,25.69755,25.86359,25.97,25.96688,25.9907,26.0371,26.08627,26.05124,26.20266,26.25007,26.39792,19.265198,19.309457,19.853333,19.290975,19.80764,19.80016,19.37737,19.77544,19.28808,19.24489,19.15112,18.96333,20.02582,20.57098,20.34876,20.49238,20.52136,20.52867,20.48533,20.53083,20.53592,20.57378,20.82194,20.83033,20.9631,21.03844,21.04601,21.0545,21.07644,20.95763,21.30496,21.16993,21.28666,21.08537,21.10395,19.96578,19.99429,20.09978,20.02222,20.04927,20.00199,20.22812,20.09883,20.10117,20.08219,20.31771,20.30137,20.36399,20.58675,20.62644,20.60187,20.57006,20.43779,16.78592,16.90052,17.64925,17.66322,16.8592,20.30608,20.26517,20.28279,20.22377,20.14135,20.12033,20.1635,20.19098,20.374697,20.14934,20.20277,20.5906,20.03506,20.04073,20.1119,20.5781,20.529806,20.38902,20.60693,20.50695,20.58922,20.64791,20.62865,20.74246,20.74084,20.20148,20.215,20.519206,19.808833,20.049444,20.050972,20.085211,20.124508,20.1325,20.153822,20.244944,21.97497,21.75181,21.9055,21.7742,22.04557,21.84439,21.92306,21.85116,22.09141,21.92859,19.9832,20.37462,19.73448,20.3129,20.25488,20.033085,20.12745,19.9038,19.85138,19.82134,19.76757,19.68698,19.6743,19.66929,19.775278,19.89514,20.02568,19.86747,20.03009,19.70112,19.68638,19.68025,19.70113,19.67649,19.694543,19.960694,19.540556,21.5235,21.496444,21.50517,22.39909,22.38992,22.50185,19.066111,19.100638,19.1595,18.64453,18.64013,18.49065,19.29417,18.94999,19.32091,19.34465,19.33307,18.555518,18.52118,18.50288,18.34312,18.30804,18.906389,18.9125,18.952936,18.949183,18.950533,18.954833,18.950014,20.4348,20.38641,20.38444,20.49568,20.46708,20.897297,21.097619,21.054694,21.063778,20.260856,20.258889,20.66763,19.551606,20.670825,19.75637,19.02157,20.50653,20.50324,20.48572,20.47974,20.47431,22.86287,22.85518,23.88715,23.89052,23.8672,23.88652,23.4757,23.61399,23.13955,21.70316,21.72247,21.61292,21.75607,21.77099,21.79597,21.79467,21.76215,21.85608,21.8518,22.09806,22.14021,22.13944,22.15571,22.2086,22.62326,22.93326,22.82189,22.6766,22.56481,22.51589,22.93944,21.94958,21.93902,21.91946,21.93332,21.94226,21.92411,21.98469,21.87902,23.7606,23.5156,23.7002,22.152806,22.236667,22.18311,22.148889,22.16275,17.9944,18.0952,18.33234,18.25555,18.42864,18.19725,18.16021,17.66316,17.79193,18.203917,18.01954,17.890833,18.174722,19.11973,19.27067,19.60381,19.44886,19.36149,19.35489,19.42248,19.33034,19.238278,19.304917,19.279028,19.305667,19.335861,19.249139,19.234778,19.157639,19.169556,19.198528,19.199861,19.234778,19.23225,19.253833,19.196667,19.274722,22.26984,22.50461,23.28831,22.68725,22.55745,22.46404,22.3972,22.03707,22.57168,21.7858,22.40142,22.45727,22.58724,22.668,22.67957,22.60544,22.69688,22.67801,22.75491,22.8637,22.48371,22.99946,22.89857,22.85651,22.72228,22.71613,22.66717,22.65815,22.77001,22.40547,22.28876,22.3024,23.01389,24.8328,24.63532,24.55602,24.52365,24.38432,22.02965,21.97693,22.16702,24.24546,22.35961,22.47274,22.89935,24.25089,24.32433,24.24101,23.78591,23.70464,23.56972,23.44424,23.19742,22.91561,23.20728,23.18828,23.5544,23.58569,23.66212,22.59379,23.85291,24.00304,24.19737,24.00488,22.79935,23.50368,23.6513,23.81987,23.15117,23.20094,21.87239,21.34599,21.38652,22.4365,21.77476,19.28548,19.27505,19.48637,19.48943,19.631455,19.6658,19.7652,19.77982,19.81857,19.22227,19.22688,18.98108,18.83821,18.86836,18.86758,18.60531,18.77216,18.76767,18.96856,17.24958,17.80557,17.61476,17.85734,17.53781,18.982331,18.913047,18.919158,18.899089,17.716749,17.689281,17.812971,26.36715,26.55391,26.49838,25.18228,25.22352,25.19079,25.2657,25.29312,25.2521,25.75665,25.74547,25.72986,25.47861,25.52502,25.49591,25.61817,25.51222,25.50964,25.59531,25.56933,25.5515,25.557981,25.32396,25.53584,25.53947,25.52089,25.56234,25.57216,25.71844,25.38962,25.81251,25.62614,25.1457,25.67098,25.59293,25.69791,25.41693,25.61982,25.73095,25.74773,25.50616,25.55517,25.7626,25.54237,25.38371,25.72976,25.56458,26.43415,16.36604,16.25877,16.10393,16.13222,16.25175,16.32036,16.75936,16.79464,16.83165,16.18219,15.06411,14.86892,14.88354,14.83955,14.71028,14.56115,14.73264,14.81863,17.9474,17.73659,17.6012,18.27438,19.37728,19.40857,19.15789,19.16367,19.08284,18.86073,18.85579,18.11244,18.06723,18.156147,18.5883,19.364444,19.208333,18.44476,23.96256,23.96787,24.09905,24.07263,24.07083,24.04188,24.06487,23.92383,23.87666,23.89004,23.80415,23.74566,23.75981,23.10411,22.99903,23.02564,22.61112,22.81973,22.6609,22.81269,25.271139,24.943278,24.868972,24.5745,22.95678,20.55369,20.55216,20.56188,20.58667,20.59044,20.53809,20.50331,20.4318,20.437,20.49387,20.59728,20.60925,20.58173,20.68918,20.74867,20.78165,20.78513,20.81347,20.87053,20.28585,20.28941,20.291776,20.69921,20.48296,20.54083,20.5208,20.4222,20.44043,20.3593,20.39211,19.937367,20.71904,20.64282,31.32013,30.975972,30.99709,31.14924,31.11264,31.25638,31.27681,31.16129,30.88404,30.71054,30.72676,30.62337,30.40185,30.3647,30.12831,29.98647,29.04973,29.86644,29.65365,29.44813,29.40136,29.77367,30.34119,30.37335,30.63566,30.43986,30.17053,30.04605,29.15153,29.09646,28.96157,29.07231,29.1707,29.08897,29.1931,29.04896,29.19417,28.62613,29.53688,29.62448,29.12727,29.10249,30.5497,27.02193,27.03958,26.74182,26.9182,27.22643,27.54914,27.35044,27.55372,27.51951,27.43473,27.79186,27.83808,27.49006,29.48865,28.24131,27.96825,27.99206,28.05193,28.3203,28.29499,28.79964,29.68917,26.96844,26.63968,27.0255,26.36403,26.41087,31.583167,31.48255,31.483056,31.482694,30.955389,30.63,30.496028,30.703528,31.515833,31.8692,31.886913,31.939167,28.86665,28.84804,28.68438,28.31952,29.97765,29.85496,29.71359,29.53365,29.42405,29.26547,29.20333,31.096444,31.728857,31.756832,31.937644,31.907726,31.846055,32.110833,32.084111,32.04725,31.114528,31.097745,31.013624,30.807972,30.857222,30.768832,30.755786,30.728562,30.650416,30.543055,30.434638,31.69387,32.263333,32.331944,32.321953,32.324167,32.394722,32.389167,32.501378,31.090335,32.677713,32.475555,30.958833,30.965888,32.57165,32.56358,30.83374,32.47223,32.44377,24.79921,24.87168,24.76599,24.76621,24.76086,24.70395,25.46517,25.43721,25.29359,25.36881,25.56787,25.6375,25.5882,26.3226,25.91714,24.34763,24.4151,24.44365,23.93004,23.92107,23.89952,23.73324,23.83393,23.94078,23.32884,23.14434,23.19806,23.12525,25.73292,25.37833,25.31937,25.365346,17.13487,17.28417,16.917,16.11369,17.393722,16.5169,16.736547,16.707683,16.686089,16.794025,16.65004,20.66138,20.65032,20.65104,21.04919,21.0673,20.97083,21.06234,21.09699,21.10331,21.11674,21.10537,21.06721,21.12627,21.007819,21.131844,20.68116,20.59704,21.278556,20.71957,20.39698,20.72703,20.68943,20.87006,20.96876,20.88382,20.91598,20.94637,20.89973,20.84451,20.82198,21.01301,20.85034,20.12536,21.065171,20.84,20.54778,20.31575,20.06769,20.90794,20.20322,20.45031,21.093629,20.87508,20.741298,21.009329,20.812778,20.265556,20.982222,21.15685,21.014722,20.655,21.136389,20.750833,21.043056,20.74294,20.386944,20.476389,20.81592,20.864444,20.73932,20.72727,20.934444,20.916111,20.386389,20.583056,20.484722,20.93906,20.731944,20.399722,20.741944,21.010556,20.201944,20.532222,21.18967,21.14076,20.804167,20.962222,20.810556,20.536667,21.002222,20.977778,20.716944,20.70436,20.83792,20.548056,26.01722,25.53044,26.05851,25.53369,25.67537,25.68766,25.55759,25.28444,24.84821,24.97478,24.76036,24.7828,25.55197,24.80118,25.0938],\"legendgroup\":\"\",\"lon\":[-102.0221,-102.20075,-102.28801,-102.29449,-110.2448,-110.22067,-110.21396,-109.907306,-110.088778,-110.054722,-109.907091,-110.108253,-109.95892,-110.0611,-110.11185,-111.72009,-111.8038,-111.92221,-111.4857,-111.50755,-111.54894,-112.00146,-112.05319,-112.762754,-113.7937,-113.67867,-113.4545,-113.44772,-113.3826,-113.34142,-113.2982,-113.2666,-109.897306,-110.29474,-110.35254,-110.33359,-110.30773,-110.31538,-110.31963,-110.32825,-110.32911,-110.351111,-110.372139,-110.37261,-109.92619,-109.90588,-109.89282,-109.91576,-109.96126,-109.705375,-109.69954,-109.697542,-91.04672,-90.55914,-90.49801,-90.42225,-90.65317,-90.70225,-90.62253,-90.17564,-90.12211,-89.85167,-89.74793,-89.90955,-90.1235,-90.16612,-90.22615,-90.059102,-90.0605,-90.288313,-89.31538,-90.72135,-90.92259,-90.66071,-90.73954,-90.77618,-89.67811,-106.28142,-106.11205,-105.8813,-106.43805,-107.65257,-107.93162,-107.96673,-107.47621,-107.24538,-107.00819,-105.543611,-105.567222,-106.86832,-105.428333,-105.625833,-105.480278,-106.40643,-106.2562,-105.39353,-105.41464,-104.66156,-105.39771,-107.93687,-108.00337,-107.76391,-107.79295,-107.61123,-103.97686,-104.34589,-105.355883,-105.43712,-104.89832,-105.163889,-105.19762,-105.411715,-101.21586,-101.01262,-101.32825,-101.26036,-101.27869,-101.72879,-100.89375,-100.91532,-100.95275,-100.88791,-100.92313,-103.46597,-103.34128,-102.26766,-100.87861,-100.81335,-102.62177,-102.49373,-102.36098,-102.2642,-102.19048,-102.16606,-102.17481,-102.19453,-102.20174,-102.17817,-102.17488,-102.16675,-102.16873,-102.17355,-102.18182,-102.1726,-102.15225,-102.0033,-101.83615,-101.86935,-101.91452,-101.98118,-101.87539,-102.070556,-103.86679,-103.83367,-103.62713,-104.243333,-103.5444,-103.72062,-103.98904,-103.53304,-103.96526,-103.94745,-103.89716,-104.55952,-103.93098,-103.87371,-103.91957,-103.82841,-104.52775,-104.23293,-104.205807,-104.322361,-104.3391,-104.10233,-103.73567,-104.05985,-103.70785,-105.41268,-105.95998,-104.80348,-105.04658,-104.3969,-105.44319,-105.43259,-105.42947,-105.42039,-105.41407,-105.42473,-105.50608,-105.68874,-105.6288,-105.71853,-105.72154,-105.7346,-105.77733,-103.3553,-103.37133,-103.63499,-103.72039,-103.73916,-103.79449,-103.81477,-103.85242,-103.81525,-103.92517,-103.96478,-103.88003,-104.02779,-104.079,-103.79279,-103.78701,-103.72887,-103.72011,-103.6934,-103.69635,-103.57082,-103.48315,-105.42265,-103.98071,-104.08413,-104.05886,-104.24706,-104.54745,-104.58898,-104.58664,-104.6448,-104.70648,-105.5974,-105.40988,-104.58995,-104.6666,-104.74164,-104.65405,-104.64327,-104.64101,-104.494,-104.48151,-104.47535,-104.48941,-104.47438,-104.45502,-104.48885,-104.45044,-104.72531,-104.85949,-104.86008,-105.74362,-104.01215,-104.98288,-105.05289,-105.19465,-104.77643,-104.32395,-104.12454,-104.04673,-104.05328,-104.70206,-104.82782,-105.36349,-105.37875,-105.50631,-105.4951,-105.56483,-105.25206,-105.10002,-104.91611,-105.38731,-99.636214,-99.565228,-100.055556,-99.733256,-99.89711,-99.88533,-99.57123,-99.8446,-99.5944,-99.61376,-99.58713,-99.58578,-100.102953,-101.19775,-101.63174,-101.5999,-100.74664,-100.74094,-101.62505,-101.60165,-101.60741,-100.74847,-101.71557,-101.71862,-101.72489,-101.78114,-101.77142,-101.66885,-101.60686,-101.62457,-101.23622,-100.71867,-100.61406,-100.43322,-100.45618,-100.94476,-100.8494,-100.82738,-100.73109,-100.71377,-100.69376,-100.87295,-101.17033,-101.24153,-101.14751,-100.75557,-100.6114,-100.47076,-100.73115,-100.78609,-100.80016,-100.78631,-100.80598,-99.8099,-99.82812,-101.54423,-101.58913,-99.79753,-98.71523,-98.9582,-99.0077,-99.08415,-99.16673,-99.26236,-99.37739,-99.27902,-99.222808,-99.05493,-98.95688,-98.75922,-98.33827,-98.3479,-99.38646,-99.69317,-99.371536,-99.20256,-99.2082,-99.12295,-99.12514,-99.00614,-98.91058,-99.37726,-99.37852,-99.59644,-99.49225,-99.2325,-99.36025,-99.208889,-99.307056,-99.331475,-99.349736,-99.383056,-99.34955,-99.426861,-102.31557,-102.12402,-101.96439,-102.79253,-102.11368,-102.728,-102.6984,-102.53558,-102.06644,-102.48305,-102.27883,-102.03397,-102.47758,-101.50779,-101.56994,-101.619108,-101.51646,-101.53455,-101.57115,-101.68031,-101.74463,-101.20471,-101.32479,-101.28187,-101.200833,-100.41537,-100.30782,-100.82883,-100.1963,-100.61861,-100.50424,-100.5378,-100.54557,-100.56885,-101.146748,-101.0716,-101.622389,-104.91927,-104.889981,-104.87448,-105.48229,-105.45444,-105.35105,-98.173416,-98.236861,-98.3181,-98.4632,-98.45872,-98.63208,-98.5107,-97.90212,-97.39487,-97.38157,-97.35787,-97.49158,-97.54919,-97.42657,-97.24615,-97.26469,-98.176667,-98.174444,-98.270067,-98.235944,-98.233775,-97.831,-97.745167,-99.98505,-100.00822,-99.98733,-99.92782,-99.9958,-99.923085,-86.980831,-87.034944,-87.030361,-87.491956,-87.494394,-87.147252,-88.041736,-87.156944,-88.70259,-88.11042,-86.86412,-86.87732,-86.88714,-86.90199,-86.86888,-102.16434,-102.08324,-100.84775,-100.80168,-100.77255,-100.95345,-100.63371,-100.98165,-100.59898,-100.6233,-100.67056,-100.76304,-100.95185,-100.94273,-100.94395,-100.95308,-100.97465,-100.75535,-100.75287,-100.87992,-100.90186,-100.97169,-100.99982,-101.01147,-101.70246,-101.10362,-100.90541,-100.91297,-100.98261,-101.02171,-100.47511,-100.06028,-100.05403,-100.08496,-100.07085,-100.07782,-100.04975,-100.16041,-100.0928,-100.9075,-100.8472,-100.9102,-100.84225,-100.853056,-100.850917,-100.846028,-100.867611,-93.00783,-93.3223,-93.2048,-93.30885,-92.87828,-93.14629,-92.85941,-93.47752,-92.94162,-94.127225,-93.382611,-93.524722,-93.626667,-98.17097,-98.28158,-98.12397,-98.4251,-98.45527,-97.83136,-97.85323,-97.64395,-97.861167,-98.276028,-98.38975,-97.662472,-98.248972,-98.355,-98.350389,-98.225111,-98.204417,-98.180389,-98.196944,-98.350389,-98.318669,-98.299472,-98.242389,-98.299444,-101.97933,-101.94518,-102.35692,-102.15784,-102.09825,-102.27015,-101.83738,-102.85178,-102.25301,-102.98526,-102.02176,-103.14919,-103.02734,-103.00322,-102.22758,-102.67478,-102.70026,-102.71925,-102.73696,-102.64638,-101.87106,-102.74783,-102.428,-102.43731,-102.49688,-102.50675,-102.51749,-102.52832,-102.31134,-102.8707,-102.88506,-101.67815,-103.19989,-101.6368,-101.54754,-101.34845,-100.86099,-100.96738,-101.57321,-101.65055,-101.63465,-103.4338,-101.72702,-101.73639,-102.65772,-103.39173,-102.42171,-102.17488,-102.39469,-102.51058,-102.75542,-102.96398,-102.99778,-102.59026,-103.26627,-103.34804,-103.29927,-103.258,-103.4398,-102.08253,-103.13707,-103.0163,-101.99526,-101.62038,-102.71887,-102.1482,-102.15312,-103.03076,-102.31851,-102.73489,-102.91,-102.77041,-102.69382,-102.24267,-102.97662,-99.06975,-99.0458,-98.95787,-98.94932,-99.16265,-99.1204,-99.1851,-99.19142,-98.97644,-98.83974,-98.81591,-99.24037,-99.17501,-99.16624,-98.92501,-99.20771,-99.18458,-99.37027,-98.86337,-97.66029,-97.77236,-97.96749,-98.14664,-98.2704,-99.09035,-98.969544,-99.07,-99.01,-97.859258,-97.584348,-97.778111,-104.32958,-104.05814,-104.18966,-104.55594,-104.11991,-104.2005,-104.02016,-103.9979,-103.9074,-103.8946,-103.87814,-103.87056,-103.65114,-103.62177,-103.59594,-103.60639,-103.54249,-103.53596,-103.538,-103.50867,-103.5023,-103.501283,-103.49377,-103.48221,-103.47512,-103.45091,-103.44817,-103.44813,-103.39419,-103.44236,-103.41213,-103.41669,-103.40289,-103.36106,-103.34812,-103.33905,-103.34386,-103.39794,-103.31006,-103.29658,-103.43071,-103.48577,-103.24722,-103.19515,-103.1743,-103.07743,-103.43761,-102.80791,-92.40592,-92.35277,-92.14164,-91.9742,-92.005,-91.997,-93.149917,-93.26927,-93.19359,-93.27483,-92.52818,-92.45143,-92.29876,-92.18802,-92.15914,-92.21712,-92.41133,-92.34088,-93.29137,-93.16784,-93.19794,-96.00141,-97.35938,-97.39143,-96.1283,-96.12286,-96.10287,-97.06181,-97.06786,-94.40802,-94.38855,-94.382728,-96.41788,-96.368889,-96.151389,-96.36532,-99.266,-99.08132,-99.12158,-98.90733,-99.12199,-99.00892,-98.86932,-98.99417,-99.00736,-99.14043,-98.95889,-99.12487,-99.07846,-99.1285,-99.07515,-98.8833,-99.0124,-99.01105,-98.85201,-98.42944,-98.210222,-98.105556,-98.640361,-98.306417,-99.70181,-103.41894,-103.39606,-103.41161,-103.4189,-103.44709,-103.42775,-103.40662,-103.39468,-103.3113,-103.2251,-103.2423,-103.08514,-102.92708,-103.02829,-102.84686,-102.7868,-102.76882,-102.78058,-102.67258,-103.42982,-103.3473,-103.203028,-102.46471,-102.49986,-102.5032,-102.54816,-102.37494,-102.39088,-102.779,-103.1489,-103.757005,-105.24227,-105.21211,-109.53205,-110.217722,-110.48888,-110.63928,-110.45173,-110.96166,-110.97975,-110.95548,-111.4674,-111.84424,-111.40456,-111.42039,-111.52424,-111.10273,-109.78725,-109.78207,-109.22978,-110.96012,-110.93517,-110.7555,-110.43803,-110.20114,-110.16094,-110.15789,-109.95586,-110.03386,-111.10934,-111.03294,-111.01328,-111.12072,-111.05556,-110.94133,-110.85297,-110.83528,-110.87231,-110.63302,-110.75323,-109.95654,-109.53619,-109.47377,-111.72465,-111.7881,-111.11664,-108.93771,-108.9527,-109.35634,-109.64116,-109.95354,-110.07716,-110.04506,-110.20887,-110.14316,-109.55175,-109.50509,-109.37109,-109.98356,-110.72807,-110.67577,-110.54756,-110.90689,-110.91963,-111.04355,-110.68851,-110.5811,-110.95433,-109.23479,-109.23692,-108.94231,-109.1386,-109.08665,-113.31117,-113.38027,-113.397778,-113.393333,-113.011667,-112.9422,-112.323444,-112.164167,-112.750556,-112.8298,-112.882705,-113.108056,-111.64552,-111.63597,-111.38788,-111.22335,-110.2048,-110.24974,-110.15437,-110.11926,-110.38294,-110.62928,-110.75911,-116.087167,-116.578519,-116.572811,-116.225506,-116.197794,-116.603028,-116.501111,-116.593639,-116.66425,-116.150528,-116.085944,-116.247378,-116.036861,-116.044586,-115.926332,-115.956988,-116.011263,-115.9695,-115.941306,-115.870444,-114.492423,-115.034722,-115.040083,-114.904922,-114.852722,-114.814167,-114.815556,-114.905833,-116.194721,-114.780743,-114.897222,-116.016139,-116.157083,-116.6218,-116.58073,-114.81693,-114.77949,-114.80636,-107.42654,-107.40047,-107.6446,-107.59661,-107.71181,-107.72429,-107.97163,-108.13171,-108.19576,-108.1502,-108.45831,-108.4194,-108.579,-108.74541,-109.20195,-107.32762,-107.21882,-107.09189,-106.77659,-106.81741,-106.92464,-106.76889,-106.65798,-106.41753,-106.23798,-106.24055,-106.22059,-106.2584,-108.34293,-108.13493,-108.15846,-108.161147,-96.80786,-96.88211,-96.4101,-97.59158,-97.243556,-96.7519,-96.67775,-96.710403,-96.685436,-96.677381,-96.73783,-87.61132,-87.63874,-87.93813,-89.64454,-89.64467,-89.50298,-89.61706,-89.7046,-89.66156,-89.63533,-89.63902,-89.69169,-89.73847,-88.29481,-88.13511,-88.21379,-89.00757,-89.632889,-89.34762,-89.55652,-89.268131,-89.87605,-89.69752,-89.53176,-89.69258,-89.69471,-89.65182,-89.65668,-89.60053,-89.59899,-89.8667,-90.23556,-88.92191,-89.399375,-88.52539,-89.86,-89.43381,-89.05186,-88.74911,-88.94375,-88.83189,-89.289489,-89.75842,-89.317067,-89.397639,-89.453611,-89.347778,-89.227778,-89.08996,-89.706944,-87.937222,-89.516667,-89.829722,-89.556389,-89.32693,-89.4675,-90.081944,-89.24109,-89.201944,-89.29517,-89.16324,-89.557778,-89.946944,-89.390278,-90.000833,-89.713056,-89.01286,-88.236111,-89.284444,-89.474444,-89.105556,-89.288056,-89.331389,-89.27398,-88.93873,-88.202778,-89.933889,-89.513333,-88.270278,-89.393611,-89.441667,-88.316667,-88.58953,-89.18251,-88.827222,-100.53748,-99.78684,-100.12972,-99.77911,-100.3644,-100.34715,-99.8381,-99.72944,-99.43441,-99.43914,-99.54191,-99.70099,-99.82249,-100.32683,-100.73302],\"marker\":{\"color\":[2,2,0,2,0,0,2,0,2,0,2,2,0,0,0,2,2,0,2,0,0,2,0,0,2,2,2,0,0,2,0,2,0,2,2,0,0,0,0,2,2,2,2,0,0,0,0,2,0,2,2,0,0,0,0,2,0,0,0,2,2,0,0,0,0,0,0,0,0,2,0,2,2,0,0,0,0,2,0,0,2,0,0,0,0,2,2,0,2,0,0,0,0,0,2,0,0,0,0,0,2,0,0,0,0,0,0,2,0,0,0,0,2,0,0,0,0,2,0,0,0,2,0,0,0,0,0,0,0,0,0,0,2,0,0,0,0,0,0,0,2,0,2,2,0,0,0,0,0,0,0,0,0,0,0,2,0,0,0,0,0,0,2,0,2,0,0,2,2,0,2,0,0,2,2,0,0,0,0,0,0,0,0,0,0,0,2,0,0,2,0,2,2,2,0,2,0,2,2,0,2,2,0,0,0,0,0,0,0,0,0,0,0,0,0,2,0,0,2,0,0,0,0,0,0,0,2,2,2,0,2,0,0,2,0,0,0,0,0,0,0,0,0,0,2,0,2,0,0,0,2,0,0,0,2,0,2,2,0,0,0,0,0,0,2,0,2,2,2,2,2,2,2,0,2,2,2,2,0,0,0,0,0,2,0,0,0,0,0,2,2,0,0,0,2,2,0,0,0,0,2,0,2,0,2,2,2,2,2,0,2,0,2,2,2,2,0,0,0,2,2,0,2,2,0,0,0,2,0,0,0,0,0,0,0,0,2,2,2,0,0,0,0,2,0,0,2,2,2,2,2,2,2,0,0,0,0,0,0,0,2,0,0,0,0,2,2,0,0,2,0,2,0,2,2,2,2,2,2,0,2,2,2,2,0,2,0,0,2,0,2,0,2,2,0,2,0,2,0,2,2,0,0,0,0,2,2,2,0,0,2,0,2,2,2,0,0,2,1,0,0,2,0,2,2,0,0,2,2,2,2,0,0,2,2,2,0,0,2,0,0,0,0,2,0,0,0,0,0,0,0,2,0,2,2,0,0,0,0,0,0,0,0,0,0,0,0,0,2,2,0,0,0,2,2,2,2,2,0,0,2,2,0,0,2,0,2,0,0,2,2,2,2,2,2,0,0,2,0,2,2,2,2,2,2,0,2,0,2,2,2,2,0,2,0,2,0,0,2,0,0,0,2,2,2,2,2,2,2,2,2,2,2,0,0,0,2,0,2,0,0,0,0,2,0,0,0,2,0,0,0,2,2,2,0,2,0,2,2,2,0,2,0,0,0,0,2,0,0,0,2,2,0,2,0,0,2,0,0,0,0,0,0,0,2,2,2,2,2,0,0,0,0,0,0,2,0,0,0,0,2,0,0,0,0,0,0,2,0,0,2,0,0,2,2,2,2,2,2,2,2,2,2,2,2,2,0,0,2,2,2,0,0,0,0,2,0,2,0,0,0,0,2,2,0,0,0,0,2,2,2,0,2,0,2,2,0,0,2,0,0,0,0,0,2,2,2,0,0,0,0,0,2,2,0,0,0,0,0,0,0,0,0,0,2,0,0,0,0,2,2,0,2,2,0,0,0,2,2,2,2,2,2,2,0,0,2,2,0,0,0,2,0,2,0,2,2,0,2,2,0,0,2,2,0,0,2,0,0,0,0,2,0,0,2,0,0,0,0,0,0,2,0,0,0,0,0,0,0,0,0,0,0,0,0,2,2,2,2,2,0,2,0,2,0,2,0,0,0,2,0,0,2,0,0,2,2,2,0,2,2,2,0,2,2,2,2,2,0,2,2,0,2,2,0,2,2,2,2,2,0,0,2,2,2,2,2,2,2,2,2,0,0,0,0,0,2,2,2,0,2,2,2,0,2,0,2,0,0,2,0,0,2,0,0,2,2,2,2,0,2,2,0,2,2,2,2,2,0,2,0,0,0,0,0,0,2,0,0,0,0,0,2,0,0,0,2,2,2,0,0,2,2,0,0,0,2,0,0,2,0,0,0,0,0,0,2,2,2,0,0,0,0,0,2,0,2,2,0,0,0,0,0,0,0,0,2,2,2,0,0,2,0,0,0,2,0,0,0,0,2,0,0,0,0,0,0,0,2,2,2,2,0,2,2,2,0,0,0,0,0,0,2,0,0,0,0,0,0,2,2,0,0,2,0,2,0,2,0,0,0,0,2,2,2,2,0,0,0,0,2,0,0,0,0,0,0,2,0,2,2,2,2,2,0,0,0,0,2,0,0,0,0,0,2,2,0,2,0,0,2,0,0,0,0,0,0,0,2,0,0,0,2,2,2,0,0,0,0,0,2,0,0,0,2,0,0,2,2,0,0,2,2,0,0,2,0,0,2,2,2,2,2,2,0,2,0,0,0,0,0,0,2,2],\"coloraxis\":\"coloraxis\"},\"mode\":\"markers\",\"name\":\"\",\"showlegend\":false,\"subplot\":\"mapbox\",\"type\":\"scattermapbox\"}],                        {\"template\":{\"data\":{\"bar\":[{\"error_x\":{\"color\":\"#2a3f5f\"},\"error_y\":{\"color\":\"#2a3f5f\"},\"marker\":{\"line\":{\"color\":\"#E5ECF6\",\"width\":0.5},\"pattern\":{\"fillmode\":\"overlay\",\"size\":10,\"solidity\":0.2}},\"type\":\"bar\"}],\"barpolar\":[{\"marker\":{\"line\":{\"color\":\"#E5ECF6\",\"width\":0.5},\"pattern\":{\"fillmode\":\"overlay\",\"size\":10,\"solidity\":0.2}},\"type\":\"barpolar\"}],\"carpet\":[{\"aaxis\":{\"endlinecolor\":\"#2a3f5f\",\"gridcolor\":\"white\",\"linecolor\":\"white\",\"minorgridcolor\":\"white\",\"startlinecolor\":\"#2a3f5f\"},\"baxis\":{\"endlinecolor\":\"#2a3f5f\",\"gridcolor\":\"white\",\"linecolor\":\"white\",\"minorgridcolor\":\"white\",\"startlinecolor\":\"#2a3f5f\"},\"type\":\"carpet\"}],\"choropleth\":[{\"colorbar\":{\"outlinewidth\":0,\"ticks\":\"\"},\"type\":\"choropleth\"}],\"contour\":[{\"colorbar\":{\"outlinewidth\":0,\"ticks\":\"\"},\"colorscale\":[[0.0,\"#0d0887\"],[0.1111111111111111,\"#46039f\"],[0.2222222222222222,\"#7201a8\"],[0.3333333333333333,\"#9c179e\"],[0.4444444444444444,\"#bd3786\"],[0.5555555555555556,\"#d8576b\"],[0.6666666666666666,\"#ed7953\"],[0.7777777777777778,\"#fb9f3a\"],[0.8888888888888888,\"#fdca26\"],[1.0,\"#f0f921\"]],\"type\":\"contour\"}],\"contourcarpet\":[{\"colorbar\":{\"outlinewidth\":0,\"ticks\":\"\"},\"type\":\"contourcarpet\"}],\"heatmap\":[{\"colorbar\":{\"outlinewidth\":0,\"ticks\":\"\"},\"colorscale\":[[0.0,\"#0d0887\"],[0.1111111111111111,\"#46039f\"],[0.2222222222222222,\"#7201a8\"],[0.3333333333333333,\"#9c179e\"],[0.4444444444444444,\"#bd3786\"],[0.5555555555555556,\"#d8576b\"],[0.6666666666666666,\"#ed7953\"],[0.7777777777777778,\"#fb9f3a\"],[0.8888888888888888,\"#fdca26\"],[1.0,\"#f0f921\"]],\"type\":\"heatmap\"}],\"heatmapgl\":[{\"colorbar\":{\"outlinewidth\":0,\"ticks\":\"\"},\"colorscale\":[[0.0,\"#0d0887\"],[0.1111111111111111,\"#46039f\"],[0.2222222222222222,\"#7201a8\"],[0.3333333333333333,\"#9c179e\"],[0.4444444444444444,\"#bd3786\"],[0.5555555555555556,\"#d8576b\"],[0.6666666666666666,\"#ed7953\"],[0.7777777777777778,\"#fb9f3a\"],[0.8888888888888888,\"#fdca26\"],[1.0,\"#f0f921\"]],\"type\":\"heatmapgl\"}],\"histogram\":[{\"marker\":{\"pattern\":{\"fillmode\":\"overlay\",\"size\":10,\"solidity\":0.2}},\"type\":\"histogram\"}],\"histogram2d\":[{\"colorbar\":{\"outlinewidth\":0,\"ticks\":\"\"},\"colorscale\":[[0.0,\"#0d0887\"],[0.1111111111111111,\"#46039f\"],[0.2222222222222222,\"#7201a8\"],[0.3333333333333333,\"#9c179e\"],[0.4444444444444444,\"#bd3786\"],[0.5555555555555556,\"#d8576b\"],[0.6666666666666666,\"#ed7953\"],[0.7777777777777778,\"#fb9f3a\"],[0.8888888888888888,\"#fdca26\"],[1.0,\"#f0f921\"]],\"type\":\"histogram2d\"}],\"histogram2dcontour\":[{\"colorbar\":{\"outlinewidth\":0,\"ticks\":\"\"},\"colorscale\":[[0.0,\"#0d0887\"],[0.1111111111111111,\"#46039f\"],[0.2222222222222222,\"#7201a8\"],[0.3333333333333333,\"#9c179e\"],[0.4444444444444444,\"#bd3786\"],[0.5555555555555556,\"#d8576b\"],[0.6666666666666666,\"#ed7953\"],[0.7777777777777778,\"#fb9f3a\"],[0.8888888888888888,\"#fdca26\"],[1.0,\"#f0f921\"]],\"type\":\"histogram2dcontour\"}],\"mesh3d\":[{\"colorbar\":{\"outlinewidth\":0,\"ticks\":\"\"},\"type\":\"mesh3d\"}],\"parcoords\":[{\"line\":{\"colorbar\":{\"outlinewidth\":0,\"ticks\":\"\"}},\"type\":\"parcoords\"}],\"pie\":[{\"automargin\":true,\"type\":\"pie\"}],\"scatter\":[{\"marker\":{\"colorbar\":{\"outlinewidth\":0,\"ticks\":\"\"}},\"type\":\"scatter\"}],\"scatter3d\":[{\"line\":{\"colorbar\":{\"outlinewidth\":0,\"ticks\":\"\"}},\"marker\":{\"colorbar\":{\"outlinewidth\":0,\"ticks\":\"\"}},\"type\":\"scatter3d\"}],\"scattercarpet\":[{\"marker\":{\"colorbar\":{\"outlinewidth\":0,\"ticks\":\"\"}},\"type\":\"scattercarpet\"}],\"scattergeo\":[{\"marker\":{\"colorbar\":{\"outlinewidth\":0,\"ticks\":\"\"}},\"type\":\"scattergeo\"}],\"scattergl\":[{\"marker\":{\"colorbar\":{\"outlinewidth\":0,\"ticks\":\"\"}},\"type\":\"scattergl\"}],\"scattermapbox\":[{\"marker\":{\"colorbar\":{\"outlinewidth\":0,\"ticks\":\"\"}},\"type\":\"scattermapbox\"}],\"scatterpolar\":[{\"marker\":{\"colorbar\":{\"outlinewidth\":0,\"ticks\":\"\"}},\"type\":\"scatterpolar\"}],\"scatterpolargl\":[{\"marker\":{\"colorbar\":{\"outlinewidth\":0,\"ticks\":\"\"}},\"type\":\"scatterpolargl\"}],\"scatterternary\":[{\"marker\":{\"colorbar\":{\"outlinewidth\":0,\"ticks\":\"\"}},\"type\":\"scatterternary\"}],\"surface\":[{\"colorbar\":{\"outlinewidth\":0,\"ticks\":\"\"},\"colorscale\":[[0.0,\"#0d0887\"],[0.1111111111111111,\"#46039f\"],[0.2222222222222222,\"#7201a8\"],[0.3333333333333333,\"#9c179e\"],[0.4444444444444444,\"#bd3786\"],[0.5555555555555556,\"#d8576b\"],[0.6666666666666666,\"#ed7953\"],[0.7777777777777778,\"#fb9f3a\"],[0.8888888888888888,\"#fdca26\"],[1.0,\"#f0f921\"]],\"type\":\"surface\"}],\"table\":[{\"cells\":{\"fill\":{\"color\":\"#EBF0F8\"},\"line\":{\"color\":\"white\"}},\"header\":{\"fill\":{\"color\":\"#C8D4E3\"},\"line\":{\"color\":\"white\"}},\"type\":\"table\"}]},\"layout\":{\"annotationdefaults\":{\"arrowcolor\":\"#2a3f5f\",\"arrowhead\":0,\"arrowwidth\":1},\"autotypenumbers\":\"strict\",\"coloraxis\":{\"colorbar\":{\"outlinewidth\":0,\"ticks\":\"\"}},\"colorscale\":{\"diverging\":[[0,\"#8e0152\"],[0.1,\"#c51b7d\"],[0.2,\"#de77ae\"],[0.3,\"#f1b6da\"],[0.4,\"#fde0ef\"],[0.5,\"#f7f7f7\"],[0.6,\"#e6f5d0\"],[0.7,\"#b8e186\"],[0.8,\"#7fbc41\"],[0.9,\"#4d9221\"],[1,\"#276419\"]],\"sequential\":[[0.0,\"#0d0887\"],[0.1111111111111111,\"#46039f\"],[0.2222222222222222,\"#7201a8\"],[0.3333333333333333,\"#9c179e\"],[0.4444444444444444,\"#bd3786\"],[0.5555555555555556,\"#d8576b\"],[0.6666666666666666,\"#ed7953\"],[0.7777777777777778,\"#fb9f3a\"],[0.8888888888888888,\"#fdca26\"],[1.0,\"#f0f921\"]],\"sequentialminus\":[[0.0,\"#0d0887\"],[0.1111111111111111,\"#46039f\"],[0.2222222222222222,\"#7201a8\"],[0.3333333333333333,\"#9c179e\"],[0.4444444444444444,\"#bd3786\"],[0.5555555555555556,\"#d8576b\"],[0.6666666666666666,\"#ed7953\"],[0.7777777777777778,\"#fb9f3a\"],[0.8888888888888888,\"#fdca26\"],[1.0,\"#f0f921\"]]},\"colorway\":[\"#636efa\",\"#EF553B\",\"#00cc96\",\"#ab63fa\",\"#FFA15A\",\"#19d3f3\",\"#FF6692\",\"#B6E880\",\"#FF97FF\",\"#FECB52\"],\"font\":{\"color\":\"#2a3f5f\"},\"geo\":{\"bgcolor\":\"white\",\"lakecolor\":\"white\",\"landcolor\":\"#E5ECF6\",\"showlakes\":true,\"showland\":true,\"subunitcolor\":\"white\"},\"hoverlabel\":{\"align\":\"left\"},\"hovermode\":\"closest\",\"mapbox\":{\"style\":\"light\"},\"paper_bgcolor\":\"white\",\"plot_bgcolor\":\"#E5ECF6\",\"polar\":{\"angularaxis\":{\"gridcolor\":\"white\",\"linecolor\":\"white\",\"ticks\":\"\"},\"bgcolor\":\"#E5ECF6\",\"radialaxis\":{\"gridcolor\":\"white\",\"linecolor\":\"white\",\"ticks\":\"\"}},\"scene\":{\"xaxis\":{\"backgroundcolor\":\"#E5ECF6\",\"gridcolor\":\"white\",\"gridwidth\":2,\"linecolor\":\"white\",\"showbackground\":true,\"ticks\":\"\",\"zerolinecolor\":\"white\"},\"yaxis\":{\"backgroundcolor\":\"#E5ECF6\",\"gridcolor\":\"white\",\"gridwidth\":2,\"linecolor\":\"white\",\"showbackground\":true,\"ticks\":\"\",\"zerolinecolor\":\"white\"},\"zaxis\":{\"backgroundcolor\":\"#E5ECF6\",\"gridcolor\":\"white\",\"gridwidth\":2,\"linecolor\":\"white\",\"showbackground\":true,\"ticks\":\"\",\"zerolinecolor\":\"white\"}},\"shapedefaults\":{\"line\":{\"color\":\"#2a3f5f\"}},\"ternary\":{\"aaxis\":{\"gridcolor\":\"white\",\"linecolor\":\"white\",\"ticks\":\"\"},\"baxis\":{\"gridcolor\":\"white\",\"linecolor\":\"white\",\"ticks\":\"\"},\"bgcolor\":\"#E5ECF6\",\"caxis\":{\"gridcolor\":\"white\",\"linecolor\":\"white\",\"ticks\":\"\"}},\"title\":{\"x\":0.05},\"xaxis\":{\"automargin\":true,\"gridcolor\":\"white\",\"linecolor\":\"white\",\"ticks\":\"\",\"title\":{\"standoff\":15},\"zerolinecolor\":\"white\",\"zerolinewidth\":2},\"yaxis\":{\"automargin\":true,\"gridcolor\":\"white\",\"linecolor\":\"white\",\"ticks\":\"\",\"title\":{\"standoff\":15},\"zerolinecolor\":\"white\",\"zerolinewidth\":2}}},\"mapbox\":{\"domain\":{\"x\":[0.0,1.0],\"y\":[0.0,1.0]},\"center\":{\"lat\":23.16179596394687,\"lon\":-101.84827022770398},\"zoom\":3,\"style\":\"open-street-map\"},\"coloraxis\":{\"colorbar\":{\"title\":{\"text\":\"K=3 Clusters\"}},\"colorscale\":[[0.0,\"#0d0887\"],[0.1111111111111111,\"#46039f\"],[0.2222222222222222,\"#7201a8\"],[0.3333333333333333,\"#9c179e\"],[0.4444444444444444,\"#bd3786\"],[0.5555555555555556,\"#d8576b\"],[0.6666666666666666,\"#ed7953\"],[0.7777777777777778,\"#fb9f3a\"],[0.8888888888888888,\"#fdca26\"],[1.0,\"#f0f921\"]]},\"legend\":{\"tracegroupgap\":0},\"margin\":{\"t\":0,\"r\":0,\"l\":0,\"b\":0},\"height\":300},                        {\"responsive\": true}                    ).then(function(){\n",
              "                            \n",
              "var gd = document.getElementById('89e4afe9-cd8f-4def-8574-6aec128fdc70');\n",
              "var x = new MutationObserver(function (mutations, observer) {{\n",
              "        var display = window.getComputedStyle(gd).display;\n",
              "        if (!display || display === 'none') {{\n",
              "            console.log([gd, 'removed!']);\n",
              "            Plotly.purge(gd);\n",
              "            observer.disconnect();\n",
              "        }}\n",
              "}});\n",
              "\n",
              "// Listen for the removal of the full notebook cells\n",
              "var notebookContainer = gd.closest('#notebook-container');\n",
              "if (notebookContainer) {{\n",
              "    x.observe(notebookContainer, {childList: true});\n",
              "}}\n",
              "\n",
              "// Listen for the clearing of the current output cell\n",
              "var outputEl = gd.closest('.output');\n",
              "if (outputEl) {{\n",
              "    x.observe(outputEl, {childList: true});\n",
              "}}\n",
              "\n",
              "                        })                };                            </script>        </div>\n",
              "</body>\n",
              "</html>"
            ]
          },
          "metadata": {}
        }
      ]
    },
    {
      "cell_type": "code",
      "source": [],
      "metadata": {
        "id": "tarvQGMbOaZt"
      },
      "execution_count": 38,
      "outputs": []
    }
  ]
}