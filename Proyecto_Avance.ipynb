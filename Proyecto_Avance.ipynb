{
  "cells": [
    {
      "cell_type": "markdown",
      "metadata": {
        "id": "view-in-github",
        "colab_type": "text"
      },
      "source": [
        "<a href=\"https://colab.research.google.com/github/PosgradoMNA/actividades-del-projecto-equipo-132/blob/main/Proyecto_Avance.ipynb\" target=\"_parent\"><img src=\"https://colab.research.google.com/assets/colab-badge.svg\" alt=\"Open In Colab\"/></a>"
      ]
    },
    {
      "cell_type": "markdown",
      "metadata": {
        "id": "nO_E5aAlMNBo"
      },
      "source": [
        "\n",
        "#INSTITUTO TECNOLOGICO Y DE ESTUDIOS SUPERIORES DE MONTERREY\n",
        "\n",
        "##Proyecto Final\n",
        "\n",
        "###**Equipo 132**\n",
        "\n",
        "###    Integrantes:\n",
        "    \n",
        "###    **Luis Fernando Rios Piedra - A00453954**\n",
        "###    **David Eduardo Garcia Reyes - A01086411**"
      ]
    },
    {
      "cell_type": "markdown",
      "metadata": {
        "id": "A1echegqMi_o"
      },
      "source": [
        "# **Avance 1:**\n",
        "\n",
        "###El nombre que caracteriza el conjunto de datos.\n",
        "**Car Evaluation Data Set**\n",
        "    \n",
        "###La organización que lo generó.\n",
        "**Marco Bonahec**\n",
        "\n",
        "#Incluya un enlace de Internet donde se puedan descargar el base de datos en línea\n",
        "https://archive.ics.uci.edu/ml/datasets/Car+Evaluation\n",
        "\n",
        "###Describe el conjunto de datos. ¿Qué datos contiene?\n",
        "###**Caracteristica del conjunto de datos: Multivariable**\n",
        "###**Numero de instancias: 1728**\n",
        "###**Numero de atributos: 6**\n",
        "    \n",
        "* Car acceptability\n",
        "\n",
        "> * Overall Price\n",
        "\n",
        ">> * Buying Price\n",
        "\n",
        ">> * Cost of Maintenance\n",
        "> * Technical Characteristics\n",
        ">>> * Comfort\n",
        ">>>> * Number of doors\n",
        ">>>> * Person capacity\n",
        ">>>> * Size of luggage boot\n",
        ">>>> * Safety of the car\n",
        "                \n",
        "###La informacion se simplifico de manera de solo tener los 6 atributos principales\n",
        "###            * Buying Price\n",
        "###            * Cost of Maintenance\n",
        "###            * Number of doors\n",
        "###            * Person capacity\n",
        "###            * Size of luggage boot\n",
        "###            * Safety of the car\n",
        "\n",
        "###¿Cuáles son algunas de las preguntas de investigación que podría responder con estos datos? Enumere al menos OCHO (no responda las preguntas).\n",
        "\n",
        "1. ¿Cuál es el automovil mas vendido en base a sus caracteristicas?\n",
        "2. ¿Alguna de las caracteristicas del automovil predomina sobre otras al momento de la compra?\n",
        "3. ¿Es realmente el costo el atributo mas importante a la hora de comprar un automovil?\n",
        "4. ¿Alguna de las caracteristicas del automovil pudiera no ser relevante en la compra de un automovil?\n",
        "5. ¿Algunas de las caracteristicas tienen relación entre si, dependen una de otra? ¿y en caso de ser asi, que caracteristicas son?\n",
        "6. ¿La cantidad de datos en el conjunto es suficiente para llegar a una conclusion o se requiere de una muestra mas amplia de datos?\n",
        "7. ¿Que otras caracteristicas del automovil seria importante considerar agregar al conjunto de datos?\n",
        "8. ¿Donde se concentra mas la compra de automoviles?\n",
        "\n",
        "###¿Qué actor (empresa, sector de la sociedad, organismo descentralizado, gobierno, etc.) estaría interesado en las preguntas mencionadas que identificó?\n",
        "* El sector de la población en busca de comprar un automovil para uso personal\n",
        "* Empresas privadas que se dedican a la renta de automoviles\n",
        "* Empresas privadas que adquieren automoviles para el uso dentro de la empresa, viajes de trabajo, asignacion a una persona, etc.\n",
        "* Personas que se dedican a la compra y re venta de automoviles\n",
        "* Fabricantes de automóviles."
      ]
    },
    {
      "cell_type": "code",
      "execution_count": null,
      "metadata": {
        "id": "F3L-DcNUb0r1"
      },
      "outputs": [],
      "source": [
        "import pandas as pd\n",
        "import os\n",
        "\n",
        "# DIR = \"/content/drive/MyDrive/Cydd\"\n",
        "# os.chdir(DIR)\n",
        "\n"
      ]
    },
    {
      "cell_type": "code",
      "execution_count": null,
      "metadata": {
        "id": "_VJ7NBPah71i"
      },
      "outputs": [],
      "source": [
        "cvs_path=\"CAR_DATA_EQ132_CSV.csv\""
      ]
    },
    {
      "cell_type": "code",
      "execution_count": null,
      "metadata": {
        "colab": {
          "base_uri": "https://localhost:8080/",
          "height": 287
        },
        "id": "aGxV2Sh8ivGi",
        "outputId": "921e93ed-cf84-4898-d026-6c7af4d96316"
      },
      "outputs": [
        {
          "name": "stdout",
          "output_type": "stream",
          "text": [
            "<class 'pandas.core.frame.DataFrame'>\n",
            "RangeIndex: 1728 entries, 0 to 1727\n",
            "Data columns (total 7 columns):\n",
            " #   Column     Non-Null Count  Dtype \n",
            "---  ------     --------------  ----- \n",
            " 0   Buying     1728 non-null   object\n",
            " 1    Maint     1728 non-null   object\n",
            " 2    Doors     1728 non-null   object\n",
            " 3    Persons   1728 non-null   object\n",
            " 4    Lug_boot  1728 non-null   object\n",
            " 5    Safety    1728 non-null   object\n",
            " 6   Class      1728 non-null   object\n",
            "dtypes: object(7)\n",
            "memory usage: 94.6+ KB\n"
          ]
        },
        {
          "data": {
            "text/html": [
              "<div>\n",
              "<style scoped>\n",
              "    .dataframe tbody tr th:only-of-type {\n",
              "        vertical-align: middle;\n",
              "    }\n",
              "\n",
              "    .dataframe tbody tr th {\n",
              "        vertical-align: top;\n",
              "    }\n",
              "\n",
              "    .dataframe thead th {\n",
              "        text-align: right;\n",
              "    }\n",
              "</style>\n",
              "<table border=\"1\" class=\"dataframe\">\n",
              "  <thead>\n",
              "    <tr style=\"text-align: right;\">\n",
              "      <th></th>\n",
              "      <th>count</th>\n",
              "      <th>unique</th>\n",
              "      <th>top</th>\n",
              "      <th>freq</th>\n",
              "    </tr>\n",
              "  </thead>\n",
              "  <tbody>\n",
              "    <tr>\n",
              "      <th>Buying</th>\n",
              "      <td>1728</td>\n",
              "      <td>4</td>\n",
              "      <td>high</td>\n",
              "      <td>432</td>\n",
              "    </tr>\n",
              "    <tr>\n",
              "      <th>Maint</th>\n",
              "      <td>1728</td>\n",
              "      <td>4</td>\n",
              "      <td>high</td>\n",
              "      <td>432</td>\n",
              "    </tr>\n",
              "    <tr>\n",
              "      <th>Doors</th>\n",
              "      <td>1728</td>\n",
              "      <td>4</td>\n",
              "      <td>2</td>\n",
              "      <td>432</td>\n",
              "    </tr>\n",
              "    <tr>\n",
              "      <th>Persons</th>\n",
              "      <td>1728</td>\n",
              "      <td>3</td>\n",
              "      <td>2</td>\n",
              "      <td>576</td>\n",
              "    </tr>\n",
              "    <tr>\n",
              "      <th>Lug_boot</th>\n",
              "      <td>1728</td>\n",
              "      <td>3</td>\n",
              "      <td>big</td>\n",
              "      <td>576</td>\n",
              "    </tr>\n",
              "    <tr>\n",
              "      <th>Safety</th>\n",
              "      <td>1728</td>\n",
              "      <td>3</td>\n",
              "      <td>high</td>\n",
              "      <td>576</td>\n",
              "    </tr>\n",
              "    <tr>\n",
              "      <th>Class</th>\n",
              "      <td>1728</td>\n",
              "      <td>4</td>\n",
              "      <td>unacc</td>\n",
              "      <td>1210</td>\n",
              "    </tr>\n",
              "  </tbody>\n",
              "</table>\n",
              "</div>"
            ],
            "text/plain": [
              "          count unique    top  freq\n",
              "Buying     1728      4   high   432\n",
              " Maint     1728      4   high   432\n",
              " Doors     1728      4      2   432\n",
              " Persons   1728      3      2   576\n",
              " Lug_boot  1728      3    big   576\n",
              " Safety    1728      3   high   576\n",
              "Class      1728      4  unacc  1210"
            ]
          },
          "execution_count": 7,
          "metadata": {},
          "output_type": "execute_result"
        }
      ],
      "source": [
        "## Abriendo base de datos \"LOCAL\"\n",
        "df=pd.read_csv(cvs_path,sep=\",\")\n",
        "df.info()\n",
        "df.describe().transpose()"
      ]
    },
    {
      "cell_type": "markdown",
      "metadata": {
        "id": "qwzZwT0-ac-t"
      },
      "source": [
        "#**Avance 2:**\n",
        "\n",
        "##Se utilizara la metodologia CRISP-DM\n",
        "\n",
        "##1. Business Understanding - Entendiendo el negocio\n",
        "  * Se enfoca en entender los objetivos del proyecto y los requerimientos desde un punto de vista de negocios.\n",
        "  * Determinar los objetivos del negocio Determine business objectives\n",
        "  * Evaluar la situacion\n",
        "  * Determinar los objetivos para mineria de datos\n",
        "  * Realizar plan de proyecto\n",
        "    \n",
        "##2. Data Understanding - Entendiendo la informacion\n",
        "###Empezar con la recoleccion de informacion inicial, el analista procede con las actividades para familizarse con los datos, identificar problemas de calidad de datos y descubrir los primeros analisis de la informacion.\n",
        "    \n",
        "##3. Data Preparation - Preparacion de la informacion\n",
        "###Esta fase cubre todas las actividades para construir el conjunto de datos final desde la informacion inicial (cruda)\n",
        "    \n",
        "##4. Modeling - Modelado\n",
        "##El analista evalua, selecciona y aplica las tecnicas apropiadas de modelado.\n",
        "   * Generar un diseño de prueba\n",
        "   * Construir el modelo\n",
        "   * Evaluar el modelo\n",
        "    \n",
        "##5. Evaluation - Evaluacion\n",
        "##El analista construye y escoge los modelos que aparentan tener la mejor calidad basada en la perdida de funciones que fueron seleccionadas.\n",
        "  * Evaluar resultados\n",
        "  * Revisar el proceso\n",
        "  * Determinar los proximos pasos\n",
        "    \n",
        "##6. Deployment - Despliegue\n",
        "##Generalmente esto significa desplegar la representacion de un codigo del modelo en un sistema operativo.\n",
        "  * Generar un reporte final\n",
        "  * Revisar el proyecto"
      ]
    }
  ],
  "metadata": {
    "colab": {
      "provenance": [],
      "include_colab_link": true
    },
    "kernelspec": {
      "display_name": "Python 3",
      "language": "python",
      "name": "python3"
    },
    "language_info": {
      "codemirror_mode": {
        "name": "ipython",
        "version": 3
      },
      "file_extension": ".py",
      "mimetype": "text/x-python",
      "name": "python",
      "nbconvert_exporter": "python",
      "pygments_lexer": "ipython3",
      "version": "3.8.8"
    }
  },
  "nbformat": 4,
  "nbformat_minor": 0
}